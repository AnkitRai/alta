{
 "metadata": {
  "name": "",
  "signature": "sha256:482ed47207324464ccbe532c5f9fedfbbc2cc6d9177f6bfad2316b23ae65e425"
 },
 "nbformat": 3,
 "nbformat_minor": 0,
 "worksheets": [
  {
   "cells": [
    {
     "cell_type": "heading",
     "level": 1,
     "metadata": {},
     "source": [
      "Sentiment Analysis"
     ]
    },
    {
     "cell_type": "markdown",
     "metadata": {},
     "source": [
      "This notebook describes sentiment analysis of a corpus with NLTK. It's part of the [The Art of Literary Text Analysis](ArtOfLiteraryTextAnalysis.ipynb) (and assumes that you've already worked through previous notebooks \u2013\u00a0see the table of contents). In this notebook we'll look in particular at\n",
      "\n",
      "* creating a sonnets corpus\n",
      "* using a plain text corpus reader\n",
      "* introducing sentiment analysis\n",
      "* doing sentiment analysis with word lists\n",
      "* doing sentiment analysis with WordNet\n",
      "* doing sentiment analysis of Shakespeare's sonnets\n",
      "* outputting HTML"
     ]
    },
    {
     "cell_type": "heading",
     "level": 2,
     "metadata": {},
     "source": [
      "Create a Sonnets Corpus"
     ]
    },
    {
     "cell_type": "markdown",
     "metadata": {},
     "source": [
      "We're going to start by downloading [Shakespeare's sonnets from Gutenberg](http://www.gutenberg.org/cache/epub/1041/pg1041.txt). The ususal provisos apply regarding web-based URLs and particularly ones from Gutenberg: content can be inaccessible (moved, blocked, etc.), and it's best to limit the number of times you make the actual request, so we'll isolate the reading in its own cell."
     ]
    },
    {
     "cell_type": "code",
     "collapsed": false,
     "input": [
      "import urllib.request\n",
      "sonnetsUrl = \"http://www.gutenberg.org/cache/epub/1041/pg1041.txt\"\n",
      "sonnetsString = urllib.request.urlopen(sonnetsUrl).read().decode()\n",
      "len(sonnetsString) # let's make sure we have a lot of characters"
     ],
     "language": "python",
     "metadata": {},
     "outputs": [
      {
       "metadata": {},
       "output_type": "pyout",
       "prompt_number": 27,
       "text": [
        "122774"
       ]
      }
     ],
     "prompt_number": 27
    },
    {
     "cell_type": "markdown",
     "metadata": {},
     "source": [
      "A Gutenberg text includes additiona elements like a header and footer that we don't want to include in our anaysis, so just as we did in [Getting Texts](GettingTexts.ipynb), we need to isolate the main body of text. To do that we can [look more closely at the text](http://www.gutenberg.org/cache/epub/1041/pg1041.txt) and see that the first sonnet (and each of the subsequent ones) starts with a roman numeral (\"I\") and that the text ends with \"End of Project Gutenberg's\", so let's create a filtered sonnets string by finding the locations of our two marker strings and keeping only the text in between."
     ]
    },
    {
     "cell_type": "code",
     "collapsed": false,
     "input": [
      "filteredSonnetsStart = sonnetsString.find(\"  I\\r\\n\") # title of first sonnet\n",
      "filteredSonnetsEnd = sonnetsString.find(\"End of Project Gutenberg's\") # end of sonnets\n",
      "filteredSonnetsString = sonnetsString[filteredSonnetsStart:filteredSonnetsEnd].rstrip() # strip spaces from the end (right)\n",
      "print(filteredSonnetsString[:75] + ' \u2026 ' + filteredSonnetsString[-75:])"
     ],
     "language": "python",
     "metadata": {},
     "outputs": [
      {
       "output_type": "stream",
       "stream": "stdout",
       "text": [
        "  I\r\n",
        "\r\n",
        "  From fairest creatures we desire increase,\r\n",
        "  That thereby beauty' \u2026 d this by that I prove,\r\n",
        "    Love's fire heats water, water cools not love.\n"
       ]
      }
     ],
     "prompt_number": 28
    },
    {
     "cell_type": "markdown",
     "metadata": {},
     "source": [
      "In looking at the sonnets we see that they all follow the same format of a roman numeral and then a block of text. That's a pattern that's fairly easy to define with regular expressions, we can look for the following:\n",
      "\n",
      "* two spaces (all the text is indented): \"  \"\n",
      "* one or more uppercase characters that represent the roman numerals (I, IV, XI, etc.) ```[A-Z]+```\n",
      "  * we can do this by using a character range that says any character between A and Z or ```[A-Z]+```\n",
      "  * alternatively, we could enumerage a list of relevant characters ```[IVXLC]+```\n",
      "  * the plus sign at the end specifies that we should match one or more instances of what preceeds\n",
      "* two Windows-style carriage returns and newlines: \"\\r\\n\\r\\n\"\n",
      "\n",
      "Putting that together we get: ```\"  [A-Z]+\\r\\n\\r\\n\"``` and we can use this to split our filtered sonnets into chunks based on the roman numeral separators. This is a bit like splitting the cells in a row of of comma-separated values, except that instead of knowing exactly which delimeter character to use (like a comma), we're defining a flexible delimeter that can contain types of characters. We use [re.split()](https://docs.python.org/3/library/re.html#re.split) to split the original string into a list of strings (one for each sonnet)."
     ]
    },
    {
     "cell_type": "code",
     "collapsed": false,
     "input": [
      "import re\n",
      "sonnetsList = re.split(\"  [A-Z]+\\r\\n\\r\\n\", filteredSonnetsString)\n",
      "print(sonnetsList[1]) # sonnetList[0] is empty (the text before the first roman numeral), let's look at sonnet I"
     ],
     "language": "python",
     "metadata": {},
     "outputs": [
      {
       "output_type": "stream",
       "stream": "stdout",
       "text": [
        "  From fairest creatures we desire increase,\r\n",
        "  That thereby beauty's rose might never die,\r\n",
        "  But as the riper should by time decease,\r\n",
        "  His tender heir might bear his memory:\r\n",
        "  But thou contracted to thine own bright eyes,\r\n",
        "  Feed'st thy light's flame with self-substantial fuel,\r\n",
        "  Making a famine where abundance lies,\r\n",
        "  Thy self thy foe, to thy sweet self too cruel:\r\n",
        "  Thou that art now the world's fresh ornament,\r\n",
        "  And only herald to the gaudy spring,\r\n",
        "  Within thine own bud buriest thy content,\r\n",
        "  And tender churl mak'st waste in niggarding:\r\n",
        "    Pity the world, or else this glutton be,\r\n",
        "    To eat the world's due, by the grave and thee.\r\n",
        "\r\n",
        "\n"
       ]
      }
     ],
     "prompt_number": 29
    },
    {
     "cell_type": "markdown",
     "metadata": {},
     "source": [
      "Now that we have a list of sonnets, let's write them to a file in case we want to load them later.\n",
      "\n",
      "Just as we did with [Getting Texts](GettingTexts.ipynb), we'll create a directory (if it doesn't exist already)."
     ]
    },
    {
     "cell_type": "code",
     "collapsed": false,
     "input": [
      "import os\n",
      "sonnetsPath = 'sonnets' # this subdirectory will be relative to the current notebook\n",
      "if not os.path.exists(sonnetsPath):\n",
      "    os.makedirs(sonnetsPath)"
     ],
     "language": "python",
     "metadata": {},
     "outputs": [],
     "prompt_number": 30
    },
    {
     "cell_type": "markdown",
     "metadata": {},
     "source": [
      "Let's enumerate through each sonnet (we [enumerate](https://docs.python.org/3/library/functions.html#enumerate) so that we can get the index of each item in our list), and for each sonnet we'll write it into a new file. We won't use the roman numerals for the file names, but we'll use [str.zfill()](https://docs.python.org/3/library/stdtypes.html?highlight=zfill#str.zfill) to get zero-padded strings."
     ]
    },
    {
     "cell_type": "code",
     "collapsed": false,
     "input": [
      "print(str(1).zfill(3)) # convert the number 1 to a string and prepend zeros as needed to get three characters\n",
      "print(str(150).zfill(3)) # convert the number 150 to a string and prepend zeros as needed to get three characters"
     ],
     "language": "python",
     "metadata": {},
     "outputs": [
      {
       "output_type": "stream",
       "stream": "stdout",
       "text": [
        "001\n",
        "150\n"
       ]
      }
     ],
     "prompt_number": 31
    },
    {
     "cell_type": "code",
     "collapsed": false,
     "input": [
      "for index, sonnet in enumerate(sonnetsList): # loop through our list as enumeration to get index\n",
      "    if len(sonnet.strip()) > 0: # make sure we have text, not empty after stripping out whitespace\n",
      "        filename = str(index).zfill(3)+\".txt\" # create filename from index\n",
      "        pathname = os.path.join(sonnetsPath, filename) # directory name and filenamee\n",
      "        f = open(pathname, \"w\")\n",
      "        f.write(sonnet.rstrip()) # write out our sonnet into the file (removing whitespace at the end/right)\n",
      "        f.close()"
     ],
     "language": "python",
     "metadata": {},
     "outputs": [],
     "prompt_number": 32
    },
    {
     "cell_type": "markdown",
     "metadata": {},
     "source": [
      "If we navigate to the directory where our notebook is we should now have a subdirectory called \"sonnets\" with 154 text files, one per sonnet."
     ]
    },
    {
     "cell_type": "heading",
     "level": 2,
     "metadata": {},
     "source": [
      "Plain Text Corpus Reader"
     ]
    },
    {
     "cell_type": "markdown",
     "metadata": {},
     "source": [
      "We've already seen how we can work with many files in a directory using a corpus reader. For instance, we can look at the Gutenberg corpus and ask how many files there are."
     ]
    },
    {
     "cell_type": "code",
     "collapsed": false,
     "input": [
      "import nltk\n",
      "print(nltk.corpus.gutenberg.fileids())"
     ],
     "language": "python",
     "metadata": {},
     "outputs": [
      {
       "output_type": "stream",
       "stream": "stdout",
       "text": [
        "['austen-emma.txt', 'austen-persuasion.txt', 'austen-sense.txt', 'bible-kjv.txt', 'blake-poems.txt', 'bryant-stories.txt', 'burgess-busterbrown.txt', 'carroll-alice.txt', 'chesterton-ball.txt', 'chesterton-brown.txt', 'chesterton-thursday.txt', 'edgeworth-parents.txt', 'melville-moby_dick.txt', 'milton-paradise.txt', 'shakespeare-caesar.txt', 'shakespeare-hamlet.txt', 'shakespeare-macbeth.txt', 'whitman-leaves.txt']\n"
       ]
      }
     ],
     "prompt_number": 33
    },
    {
     "cell_type": "markdown",
     "metadata": {},
     "source": [
      "We can't do the same thing directly with our sonnetsPath directory because it's not a corpus.\n",
      "\n",
      "```python\n",
      "sonnetsPath.fileids() # this won't work, it's not a corpus\n",
      "nltk.corpus.sonnetsPath.fileids() # neither is this (nltk.corpus doesn't have a sonnetsPath module)```\n",
      "\n",
      "What we can do is to create a new corpus using the [PlaintextCorpusReader](http://www.nltk.org/api/nltk.corpus.reader.html#nltk.corpus.reader.plaintext.PlaintextCorpusReader), giving it the path of our directory and telling it too consider all texts."
     ]
    },
    {
     "cell_type": "code",
     "collapsed": false,
     "input": [
      "from nltk.corpus import PlaintextCorpusReader\n",
      "sonnetsCorpus = PlaintextCorpusReader(sonnetsPath, '.*')\n",
      "len(sonnetsCorpus.fileids())"
     ],
     "language": "python",
     "metadata": {},
     "outputs": [
      {
       "metadata": {},
       "output_type": "pyout",
       "prompt_number": 34,
       "text": [
        "154"
       ]
      }
     ],
     "prompt_number": 34
    },
    {
     "cell_type": "markdown",
     "metadata": {},
     "source": [
      "Let's now see how many words are in our corpus."
     ]
    },
    {
     "cell_type": "code",
     "collapsed": false,
     "input": [
      "def corpus_summary(corpus):\n",
      "    print(\"this corpus has\")\n",
      "    print(\"  \", '{:,}'.format(len(sonnetsCorpus.fileids())), \"files\")\n",
      "    tokens = corpus.words() # this includes *all* words in all files\n",
      "    print(\"  \", '{:,}'.format(len(tokens)), \"tokens\")\n",
      "    words = [word for word in tokens if any([c for c in word if c.isalpha()])]\n",
      "    print(\"  \", '{:,}'.format(len(tokens)), \"words\")\n",
      "    print(\"  \", '{:,}'.format(len(set(tokens))), \"unique word types\")\n",
      "\n",
      "corpus_summary(sonnetsCorpus)"
     ],
     "language": "python",
     "metadata": {},
     "outputs": [
      {
       "output_type": "stream",
       "stream": "stdout",
       "text": [
        "this corpus has\n",
        "   154 files\n",
        "  "
       ]
      },
      {
       "output_type": "stream",
       "stream": "stdout",
       "text": [
        " 21,717 tokens\n",
        "   21,717 words\n",
        "   3,358 unique word types\n"
       ]
      }
     ],
     "prompt_number": 35
    },
    {
     "cell_type": "heading",
     "level": 2,
     "metadata": {},
     "source": [
      "Introduction to Sentiment Analysis"
     ]
    },
    {
     "cell_type": "markdown",
     "metadata": {},
     "source": [
      "[Sentiment analysis](http://en.wikipedia.org/wiki/Sentiment_analysis) is a general term used in text mining to refer to the process of trying to automatically determine the mood or opinion of texts. For example, we might be interested in reading through a large quantity of tweets on a particular topic (issue, product, person, event, etc.) to determine if they are generally positive or negative. This is a typical task in determining polarity, or the general orientation of each text toward to poles. The poles can be positive or negative or any other binary pair (happy/sad, calm/excited, etc.).\n",
      "\n",
      "There are several ways of doing sentiment analysis and one of the most common ways is to use training sets to develop models of texts that can then be used to read and classify new texts that aren't part of the training set. For instance, NLTK has a corpus of movie reviews that have been classified by hand as either positive or negative, these could be used to classify new movie reviews.\n",
      "\n",
      "There's a high-level Python module called [TextBlob](https://textblob.readthedocs.org/en/latest/index.html) that makes use of the movie reviews corpus and that is very easy to use. Once [installed](https://textblob.readthedocs.org/en/latest/install.html), you can do something like this:\n",
      "\n",
      "```python\n",
      "from textblob import TextBlob\n",
      "testimonial = TextBlob(\"Textblob is amazingly simple to use. What great fun!\") # any string (such as our sonnets)\n",
      "testimonial.sentiment.polarity # this produces a positive value of 0.39166666666666666```\n",
      "\n",
      "The strength of this approach depends in large part on the training set and its relevance to the corpus you want to analyze. Analyzing Shakespeare's sonnets based on movie reviews may not be quite ideal. As importantly, it can be tricky to understand and tweak a model once it's been loaded into a classifier (such as [a Naive Bayes Classifier](http://www.nltk.org/api/nltk.classify.html#nltk.classify.naivebayes.NaiveBayesClassifier)).\n",
      "\n",
      "In any case, classifiers depend on relevant training sets, and we don't always have those. We can take a simpler approach and perform sentiment analysis based on word lists."
     ]
    },
    {
     "cell_type": "heading",
     "level": 2,
     "metadata": {},
     "source": [
      "Word List Sentiment Analysis"
     ]
    },
    {
     "cell_type": "markdown",
     "metadata": {},
     "source": [
      "In some ways, sentiment analysis can be very simple: read each text, look for words that we know are positive or negative, and assign a value to each one. Let's start by defining an absurdly short and incomplete list of sentiment words, with values ranging from -1 (most negative) to 1 (most positive)."
     ]
    },
    {
     "cell_type": "code",
     "collapsed": false,
     "input": [
      "short_sentiments = {\n",
      "    \"pos\": {\n",
      "        \"love\": 1,\n",
      "        \"like\": .5\n",
      "    },\n",
      "    \"neg\": {\n",
      "        \"hate\": -1,\n",
      "        \"dislike\": -.5\n",
      "    }\n",
      "}"
     ],
     "language": "python",
     "metadata": {},
     "outputs": [],
     "prompt_number": 36
    },
    {
     "cell_type": "markdown",
     "metadata": {},
     "source": [
      "Now we can go through our corpus and read every text to find out how many times each of our sentiment words appears. We'll multiply the count by the value for that word."
     ]
    },
    {
     "cell_type": "code",
     "collapsed": false,
     "input": [
      "documents = {} # keep track of values for each document\n",
      "for fileid in sonnetsCorpus.fileids():\n",
      "    text = sonnetsCorpus.raw(fileid).lower() # read each text and convert to lower case\n",
      "    tokens = nltk.word_tokenize(text) # tokenize\n",
      "    score = 0 # keep track of the score fo this document\n",
      "    for polarity, words_dict in short_sentiments.items(): # look at our sentiments dictionary\n",
      "        for word, value in words_dict.items(): # go through each word in the list\n",
      "            score += tokens.count(word) * value # count the occurences and multiply by value (often zero)\n",
      "    documents[fileid] = score # assign the score"
     ],
     "language": "python",
     "metadata": {},
     "outputs": [],
     "prompt_number": 37
    },
    {
     "cell_type": "markdown",
     "metadata": {},
     "source": [
      "Let's use our fileid, score dictionary to create a FreqDist list and retrieve the most positive sonnet."
     ]
    },
    {
     "cell_type": "code",
     "collapsed": false,
     "input": [
      "valuesFreqs = nltk.FreqDist(documents) # calcuate the frequencies\n",
      "mostFrequentFileid = valuesFreqs.max() # most positive (top value) sonnet\n",
      "print(sonnetsCorpus.raw(mostFrequentFileid))"
     ],
     "language": "python",
     "metadata": {},
     "outputs": [
      {
       "output_type": "stream",
       "stream": "stdout",
       "text": [
        "  Take all my loves, my love, yea take them all;\r\n",
        "  What hast thou then more than thou hadst before?\r\n",
        "  No love, my love, that thou mayst true love call;\r\n",
        "  All mine was thine, before thou hadst this more.\r\n",
        "  Then, if for my love, thou my love receivest,\r\n",
        "  I cannot blame thee, for my love thou usest;\r\n",
        "  But yet be blam'd, if thou thy self deceivest\r\n",
        "  By wilful taste of what thyself refusest.\r\n",
        "  I do forgive thy robbery, gentle thief,\r\n",
        "  Although thou steal thee all my poverty:\r\n",
        "  And yet, love knows it is a greater grief\r\n",
        "  To bear love's wrong, than hate's known injury.\r\n",
        "    Lascivious grace, in whom all ill well shows,\r\n",
        "    Kill me with spites yet we must not be foes.\n"
       ]
      }
     ],
     "prompt_number": 38
    },
    {
     "cell_type": "markdown",
     "metadata": {},
     "source": [
      "This word list approach has the great merit of being fairly easy to understand, we know which words we're dealing with (and can easily modify the list) and we can see exactly how it's working. The major weakness, of course, is that we need to define the word sentiment values in advance, which means that we need to know which sentiment words are in the corpus (or use a generic list).\n",
      "\n",
      "An alternative is to call on the sentiment values that are encoded in WordNet."
     ]
    },
    {
     "cell_type": "heading",
     "level": 2,
     "metadata": {},
     "source": [
      "Sentiment Analytsis with WordNet"
     ]
    },
    {
     "cell_type": "markdown",
     "metadata": {},
     "source": [
      "WordNet includes a mechanism for determining the positive or negative value of a synset (if any values are defined). In the simplest case, we can ask for all of the sentiment values for a given word form."
     ]
    },
    {
     "cell_type": "code",
     "collapsed": false,
     "input": [
      "from nltk.corpus import sentiwordnet as swn\n",
      "for senti_synset in swn.senti_synsets('good'):\n",
      "    print(senti_synset, senti_synset.synset.definition())"
     ],
     "language": "python",
     "metadata": {},
     "outputs": [
      {
       "output_type": "stream",
       "stream": "stdout",
       "text": [
        "<good.n.01: PosScore=0.5 NegScore=0.0> benefit\n",
        "<good.n.02: PosScore=0.875 NegScore=0.0> moral excellence or admirableness\n",
        "<good.n.03: PosScore=0.625 NegScore=0.0> that which is pleasing or valuable or useful\n",
        "<commodity.n.01: PosScore=0.0 NegScore=0.0> articles of commerce\n",
        "<good.a.01: PosScore=0.75 NegScore=0.0> having desirable or positive qualities especially those suitable for a thing specified\n",
        "<good.a.03: PosScore=1.0 NegScore=0.0> morally admirable\n",
        "<well.r.01: PosScore=0.375 NegScore=0.0> (often used as a combining form) in a good or proper or satisfactory manner or to a high standard (`good' is a nonstandard dialectal variant for `well')\n",
        "<thoroughly.r.02: PosScore=0.0 NegScore=0.0> completely and absolutely (`good' is sometimes used informally for `thoroughly')\n"
       ]
      }
     ],
     "prompt_number": 39
    },
    {
     "cell_type": "markdown",
     "metadata": {},
     "source": [
      "As we can see, most meanings of \"good\" have a positive value, though some meanings are indicated as being neutral (_commodity.n.01_, _thoroughly.r.02_). Some meanings are more positive than others (such as _good.a.03_ \"morally admirable\").\n",
      "\n",
      "If we can guess at the part of speech we can narrow our search. Here are the possible parts of speech:\n",
      "\n",
      "* n: noun\n",
      "* a: adjective\n",
      "* v: verb\n",
      "* r: adverb"
     ]
    },
    {
     "cell_type": "code",
     "collapsed": false,
     "input": [
      "for senti_synset in swn.senti_synsets('good', 'a'): # consider only adjectives\n",
      "    print(senti_synset, senti_synset.synset.definition())"
     ],
     "language": "python",
     "metadata": {},
     "outputs": [
      {
       "output_type": "stream",
       "stream": "stdout",
       "text": [
        "<good.a.01: PosScore=0.75 NegScore=0.0> having desirable or positive qualities especially those suitable for a thing specified\n",
        "<good.a.03: PosScore=1.0 NegScore=0.0> morally admirable\n"
       ]
      }
     ],
     "prompt_number": 40
    },
    {
     "cell_type": "markdown",
     "metadata": {},
     "source": [
      "As we can see, some senti_synsets can be both positive and negative:"
     ]
    },
    {
     "cell_type": "code",
     "collapsed": false,
     "input": [
      "for senti_synset in swn.senti_synsets('wicked', 'a'): # consider only adjectives\n",
      "    print(senti_synset, senti_synset.synset.definition()) # wicked can be positive or negative"
     ],
     "language": "python",
     "metadata": {},
     "outputs": [
      {
       "output_type": "stream",
       "stream": "stdout",
       "text": [
        "<wicked.a.01: PosScore=0.25 NegScore=0.625> morally bad in principle or practice\n"
       ]
      }
     ],
     "prompt_number": 41
    },
    {
     "cell_type": "markdown",
     "metadata": {},
     "source": [
      "We can combine NLTK's part of speech analysis with the sentiment analysis module. As a reminder, the default NLTK parts of speech output looks something like this."
     ]
    },
    {
     "cell_type": "code",
     "collapsed": false,
     "input": [
      "text = \"This is a good sentence.\"\n",
      "tokens = nltk.word_tokenize(text)\n",
      "tagged = nltk.pos_tag(tokens)\n",
      "tagged"
     ],
     "language": "python",
     "metadata": {},
     "outputs": [
      {
       "metadata": {},
       "output_type": "pyout",
       "prompt_number": 42,
       "text": [
        "[('This', 'DT'),\n",
        " ('is', 'VBZ'),\n",
        " ('a', 'DT'),\n",
        " ('good', 'JJ'),\n",
        " ('sentence', 'NN'),\n",
        " ('.', '.')]"
       ]
      }
     ],
     "prompt_number": 42
    },
    {
     "cell_type": "markdown",
     "metadata": {},
     "source": [
      "So we need a way of mapping the [Treebank](https://www.ling.upenn.edu/courses/Fall_2003/ling001/penn_treebank_pos.html) NLTK parts of speech to the WordNet ones.\n",
      "\n",
      "For this function we'll demonstrate the use of an option argument. We can specify a variable name as being equal to something such that if we don't include a second argument to the function call, it defaults to the value we provide.\n",
      "\n",
      "* treebank_to_wordnet_pos(treebank) # this form uses the default empty list []\n",
      "* treebank_to_wordnet_pos(treebank, [\"v\"]) # this form specifies a second argument with a list"
     ]
    },
    {
     "cell_type": "code",
     "collapsed": false,
     "input": [
      "def treebank_to_wordnet_pos(treebank, skipWordNetPos=[]):\n",
      "    if \"NN\" in treebank and \"n\" not in skipWordNetPos: # singular and plural nouns (NN, NNS)\n",
      "        return \"n\"\n",
      "    elif \"JJ\" in treebank and \"a\" not in skipWordNetPos: # adjectives including comparatives and superlatives (JJ, JJR, JJS)\n",
      "        return \"a\" \n",
      "    elif \"VB\" in treebank and \"v\" not in skipWordNetPos: # verbs in various forms (VB, VBD, VBG, VBN, VBP, VBZ)\n",
      "        return \"v\"\n",
      "    elif \"RB\" in treebank and \"r\" not in skipWordNetPos: # adverbs including comparatives and superlatives (RB, RBR, RBS)\n",
      "        return \"r\"\n",
      "    # if we don't match any of these we implicitly return None"
     ],
     "language": "python",
     "metadata": {},
     "outputs": [],
     "prompt_number": 43
    },
    {
     "cell_type": "markdown",
     "metadata": {},
     "source": [
      "Let's try using our treebank_to_wordnet_pos() lookup function:"
     ]
    },
    {
     "cell_type": "code",
     "collapsed": false,
     "input": [
      "for word, treebank in tagged:\n",
      "    wordnet_pos = treebank_to_wordnet_pos(treebank)\n",
      "    if wordnet_pos: # only print matches\n",
      "        print(word, wordnet_pos)"
     ],
     "language": "python",
     "metadata": {},
     "outputs": [
      {
       "output_type": "stream",
       "stream": "stdout",
       "text": [
        "is v\n",
        "good a\n",
        "sentence n\n"
       ]
      }
     ],
     "prompt_number": 44
    },
    {
     "cell_type": "markdown",
     "metadata": {},
     "source": [
      "And a variant where we use the ability to skip certain parts of speech (like \"v\" for verbs):"
     ]
    },
    {
     "cell_type": "code",
     "collapsed": false,
     "input": [
      "for word, treebank in tagged:\n",
      "    wordnet_pos = treebank_to_wordnet_pos(treebank, [\"v\"])\n",
      "    if wordnet_pos: # only print matches\n",
      "        print(word, wordnet_pos)"
     ],
     "language": "python",
     "metadata": {},
     "outputs": [
      {
       "output_type": "stream",
       "stream": "stdout",
       "text": [
        "good a\n",
        "sentence n\n"
       ]
      }
     ],
     "prompt_number": 45
    },
    {
     "cell_type": "markdown",
     "metadata": {},
     "source": [
      "Now let's look at the WordNet senti_synsets for each of our word, part of speech pairs:"
     ]
    },
    {
     "cell_type": "code",
     "collapsed": false,
     "input": [
      "for word, treebank in tagged:\n",
      "    wordnet_pos = treebank_to_wordnet_pos(treebank, [\"v\"])\n",
      "    if wordnet_pos: # only print matches\n",
      "        print(word)\n",
      "        for senti_synset in swn.senti_synsets(word, wordnet_pos):\n",
      "            print(\"  \", senti_synset)"
     ],
     "language": "python",
     "metadata": {},
     "outputs": [
      {
       "output_type": "stream",
       "stream": "stdout",
       "text": [
        "good\n",
        "   <good.a.01: PosScore=0.75 NegScore=0.0>\n",
        "   <good.a.03: PosScore=1.0 NegScore=0.0>\n",
        "sentence\n",
        "   <sentence.n.01: PosScore=0.0 NegScore=0.0>\n",
        "   <conviction.n.02: PosScore=0.0 NegScore=0.0>\n",
        "   <prison_term.n.01: PosScore=0.0 NegScore=0.0>\n"
       ]
      }
     ],
     "prompt_number": 46
    },
    {
     "cell_type": "markdown",
     "metadata": {},
     "source": [
      "Here we have to make a decision: do we take into consideration every senti_synset or just the first (and most common) meaning? When processing a larger corpus we have no way of knowning which meaning is correct. For the sake of simplicity, let's just consider the first meaning."
     ]
    },
    {
     "cell_type": "code",
     "collapsed": false,
     "input": [
      "def get_sentiment_score_from_tagged(token, treebank, skipWordNetPos=[]):\n",
      "    wordnet_pos = treebank_to_wordnet_pos(treebank, skipWordNetPos)\n",
      "    if wordnet_pos: # only print matches\n",
      "        senti_synsets = list(swn.senti_synsets(token, wordnet_pos))\n",
      "        if senti_synsets:\n",
      "            return senti_synsets[0].pos_score() - senti_synsets[0].neg_score()"
     ],
     "language": "python",
     "metadata": {},
     "outputs": [],
     "prompt_number": 47
    },
    {
     "cell_type": "markdown",
     "metadata": {},
     "source": [
      "And trying it out with our simple example tagged set."
     ]
    },
    {
     "cell_type": "code",
     "collapsed": false,
     "input": [
      "for word, treebank in tagged:\n",
      "    score = get_sentiment_score_from_tagged(word, treebank, [\"v\"])\n",
      "    if score:\n",
      "        print(word, score)"
     ],
     "language": "python",
     "metadata": {},
     "outputs": [
      {
       "output_type": "stream",
       "stream": "stdout",
       "text": [
        "good 0.75\n"
       ]
      }
     ],
     "prompt_number": 48
    },
    {
     "cell_type": "markdown",
     "metadata": {},
     "source": [
      "So we're now able to get a sentiment score for any tagged word (that is defined by WordNet). Let's back up a further step and create a function that processes a set of tokens and returns three components:\n",
      "\n",
      "1. an aggregate sentiment score for the tokens\n",
      "1. a list of positive words\n",
      "1. a list of negative words"
     ]
    },
    {
     "cell_type": "code",
     "collapsed": false,
     "input": [
      "def get_sentiment_data_from_tokens(tokens, skipWordNetPos=[]):\n",
      "    tagged = nltk.pos_tag(tokens)\n",
      "    positives = []\n",
      "    negatives = []\n",
      "    tokens_score = 0\n",
      "    for word, treebank in tagged:\n",
      "        score = get_sentiment_score_from_tagged(word, treebank, skipWordNetPos)\n",
      "        if score:\n",
      "            tokens_score += score\n",
      "            if score > 0:\n",
      "                positives.append(word.lower())\n",
      "            else:\n",
      "                negatives.append(word.lower())\n",
      "    return tokens_score, set(positives), set(negatives)"
     ],
     "language": "python",
     "metadata": {},
     "outputs": [],
     "prompt_number": 49
    },
    {
     "cell_type": "code",
     "collapsed": false,
     "input": [
      "get_sentiment_data_from_tokens(tokens)"
     ],
     "language": "python",
     "metadata": {},
     "outputs": [
      {
       "metadata": {},
       "output_type": "pyout",
       "prompt_number": 50,
       "text": [
        "(0.875, {'good', 'is'}, set())"
       ]
      }
     ],
     "prompt_number": 50
    },
    {
     "cell_type": "heading",
     "level": 2,
     "metadata": {},
     "source": [
      "Sentiment Analysis of Shakespeare's Sonnets"
     ]
    },
    {
     "cell_type": "markdown",
     "metadata": {},
     "source": [
      "Now that we have functions to assign sentiment values and collect positive and negative words for any set of tokens, we can proceed with creating a last function that returns a dictionary with values for each document along with an aggregate list of positive and negative words."
     ]
    },
    {
     "cell_type": "code",
     "collapsed": false,
     "input": [
      "def get_sentiments_data_from_corpus(corpus, skipWordNetPos=[]):\n",
      "    documents = {}\n",
      "    all_positives = []\n",
      "    all_negatives = []\n",
      "    for fileid in corpus.fileids():\n",
      "        tokens = corpus.words(fileid)\n",
      "        score, positives, negatives = get_sentiment_data_from_tokens(tokens, skipWordNetPos)\n",
      "        documents[fileid] = score\n",
      "        [all_positives.append(positive) for positive in positives]\n",
      "        [all_negatives.append(negative) for negative in negatives]\n",
      "    return documents, set(all_positives), set(all_negatives)"
     ],
     "language": "python",
     "metadata": {},
     "outputs": [],
     "prompt_number": 51
    },
    {
     "cell_type": "markdown",
     "metadata": {},
     "source": [
      "Ok, so now let's pass in our corpus and see what we get!"
     ]
    },
    {
     "cell_type": "code",
     "collapsed": false,
     "input": [
      "sonnetsSentimentValues, sonnetsPositives, sonnetsNegatives = get_sentiments_data_from_corpus(sonnetsCorpus)"
     ],
     "language": "python",
     "metadata": {},
     "outputs": [],
     "prompt_number": 52
    },
    {
     "cell_type": "markdown",
     "metadata": {},
     "source": [
      "Once again one of the easiest ways of working with the sentiment values is to create a FreqDist object."
     ]
    },
    {
     "cell_type": "code",
     "collapsed": false,
     "input": [
      "sonnetsSentimentFreqs = nltk.FreqDist(sonnetsSentimentValues)"
     ],
     "language": "python",
     "metadata": {},
     "outputs": [],
     "prompt_number": 53
    },
    {
     "cell_type": "markdown",
     "metadata": {},
     "source": [
      "Now we can see what kind of sentiment values we have, by plotting, for instance:"
     ]
    },
    {
     "cell_type": "code",
     "collapsed": false,
     "input": [
      "%matplotlib inline\n",
      "sonnetsSentimentFreqs.plot()"
     ],
     "language": "python",
     "metadata": {},
     "outputs": [
      {
       "metadata": {},
       "output_type": "display_data",
       "png": "[encoded data removed]",
       "text": [
        "<matplotlib.figure.Figure at 0x117830d68>"
       ]
      }
     ],
     "prompt_number": 54
    },
    {
     "cell_type": "markdown",
     "metadata": {},
     "source": [
      "Even if the x (bottom) axis is illegible, we can see that there are both positive and negatively scored sonnets. Can we determine an average? Sure, let's use numpty.mean() on the list of values."
     ]
    },
    {
     "cell_type": "code",
     "collapsed": false,
     "input": [
      "import numpy\n",
      "numpy.mean([val for doc, val in sonnetsSentimentFreqs.items()])"
     ],
     "language": "python",
     "metadata": {},
     "outputs": [
      {
       "metadata": {},
       "output_type": "pyout",
       "prompt_number": 55,
       "text": [
        "1.1557597402597402"
       ]
      }
     ],
     "prompt_number": 55
    },
    {
     "cell_type": "markdown",
     "metadata": {},
     "source": [
      "This suggests that on average the sonnets are more positive than negative."
     ]
    },
    {
     "cell_type": "heading",
     "level": 2,
     "metadata": {},
     "source": [
      "Outputting HTML"
     ]
    },
    {
     "cell_type": "markdown",
     "metadata": {},
     "source": [
      "We might want to show the most positive and negative sonnets, but to make it even more useful we'd want to show which words are positive and which are negative. Let's create a function to get HTML for any of our documents."
     ]
    },
    {
     "cell_type": "code",
     "collapsed": false,
     "input": [
      "def get_html_for_sentiment_data(text, positives, negatives):\n",
      "    # the regular expression combines all of the positive and negative words for a search, e.g. (love|like)\n",
      "    # it then surrounds the word found in parentheses with styling, green for positive, red for negative\n",
      "    if len(positives) > 0:\n",
      "        text = re.sub(r'\\b(' + '|'.join(positives) + r')\\b', r'<span style=\"color: green\">\\1</span>', text)\n",
      "    if len(negatives) > 0:\n",
      "        text = re.sub(r'\\b(' + '|'.join(negatives) + r')\\b', r'<span style=\"color: red\">\\1</span>', text)\n",
      "    return text"
     ],
     "language": "python",
     "metadata": {},
     "outputs": [],
     "prompt_number": 56
    },
    {
     "cell_type": "markdown",
     "metadata": {},
     "source": [
      "We can use this to generate an HTML snippet."
     ]
    },
    {
     "cell_type": "code",
     "collapsed": false,
     "input": [
      "fileid = sonnetsSentimentFreqs.max() # most positive\n",
      "text = sonnetsCorpus.raw(fileid)\n",
      "html = get_html_for_sentiment_data(text, sonnetsPositives, sonnetsNegatives)"
     ],
     "language": "python",
     "metadata": {},
     "outputs": [],
     "prompt_number": 57
    },
    {
     "cell_type": "markdown",
     "metadata": {},
     "source": [
      "We have the HTML above, but it appears as code, so we need to use iPython's facilities for embedding HTML."
     ]
    },
    {
     "cell_type": "code",
     "collapsed": false,
     "input": [
      "from IPython.display import HTML\n",
      "HTML(\"<h2>\" + fileid + \"</h2><pre>\" + html + \"</pre>\")"
     ],
     "language": "python",
     "metadata": {},
     "outputs": [
      {
       "html": [
        "<h2>106.txt</h2><pre>  When in the chronicle of <span style=\"color: green\">wasted</span> time\r\n",
        "  I see descriptions of the <span style=\"color: green\">fairest</span> wights,\r\n",
        "  And <span style=\"color: green\">beauty</span> making <span style=\"color: green\">beautiful</span> <span style=\"color: green\">old</span> rime,\r\n",
        "  In <span style=\"color: green\">praise</span> of ladies <span style=\"color: red\">dead</span> and lovely knights,\r\n",
        "  Then, in the blazon of sweet <span style=\"color: green\">beauty</span>'s <span style=\"color: green\">best</span>,\r\n",
        "  Of <span style=\"color: green\">hand</span>, of foot, of lip, of <span style=\"color: green\">eye</span>, of brow,\r\n",
        "  I see their <span style=\"color: green\">antique</span> pen would <span style=\"color: green\">have</span> express'<span style=\"color: red\">d</span>\r\n",
        "  Even such a <span style=\"color: green\">beauty</span> <span style=\"color: red\">as</span> you <span style=\"color: green\">master</span> now.\r\n",
        "  So all their <span style=\"color: green\">praises</span> <span style=\"color: green\">are</span> but prophecies\r\n",
        "  Of this our time, all you <span style=\"color: red\">prefiguring</span>;\r\n",
        "  And for they looked but with <span style=\"color: green\">divining</span> <span style=\"color: green\">eyes</span>,\r\n",
        "  They <span style=\"color: green\">had</span> <span style=\"color: red\">not</span> <span style=\"color: green\">skill</span> <span style=\"color: green\">enough</span> your worth to sing:\r\n",
        "    For we, which now <span style=\"color: red\">behold</span> these <span style=\"color: red\">present</span> days,\r\n",
        "    Have <span style=\"color: green\">eyes</span> to <span style=\"color: green\">wonder</span>, but <span style=\"color: green\">lack</span> tongues to <span style=\"color: green\">praise</span>.</pre>"
       ],
       "metadata": {},
       "output_type": "pyout",
       "prompt_number": 58,
       "text": [
        "<IPython.core.display.HTML at 0x11b2ad588>"
       ]
      }
     ],
     "prompt_number": 58
    },
    {
     "cell_type": "markdown",
     "metadata": {},
     "source": [
      "And now the most negative sonnet."
     ]
    },
    {
     "cell_type": "code",
     "collapsed": false,
     "input": [
      "fileid = sonnetsSentimentFreqs.most_common()[-1][0] # most negative (fileid of the last element in the most common list)\n",
      "text = sonnetsCorpus.raw(fileid)\n",
      "html = get_html_for_sentiment_data(text, sonnetsPositives, sonnetsNegatives)\n",
      "HTML(\"<h2>\" + fileid + \"</h2><pre>\" + html + \"</pre>\")"
     ],
     "language": "python",
     "metadata": {},
     "outputs": [
      {
       "html": [
        "<h2>090.txt</h2><pre>  Then <span style=\"color: red\">hate</span> me when thou <span style=\"color: red\">wilt</span>; if ever, now;\r\n",
        "  Now, while the world <span style=\"color: green\">is</span> <span style=\"color: green\">bent</span> my <span style=\"color: green\">deeds</span> to cross,\r\n",
        "  Join with the <span style=\"color: red\">spite</span> of fortune, <span style=\"color: green\">make</span> me bow,\r\n",
        "  And do <span style=\"color: red\">not</span> drop in for an after-<span style=\"color: red\">loss</span>:\r\n",
        "  Ah! do <span style=\"color: red\">not</span>, when my <span style=\"color: red\">heart</span> hath 'scap'<span style=\"color: red\">d</span> this <span style=\"color: red\">sorrow</span>,\r\n",
        "  Come in the rearward of a conquer'<span style=\"color: red\">d</span> <span style=\"color: red\">woe</span>;\r\n",
        "  Give <span style=\"color: red\">not</span> a windy night a rainy morrow,\r\n",
        "  To linger out a purpos'<span style=\"color: red\">d</span> overthrow.\r\n",
        "  If thou <span style=\"color: red\">wilt</span> leave me, do <span style=\"color: red\">not</span> leave me last,\r\n",
        "  When <span style=\"color: red\">other</span> petty <span style=\"color: red\">griefs</span> <span style=\"color: green\">have</span> done their <span style=\"color: red\">spite</span>,\r\n",
        "  But in the onset come: so shall I <span style=\"color: red\">taste</span>\r\n",
        "  At first the very <span style=\"color: red\">worst</span> of fortune's <span style=\"color: red\">might</span>;\r\n",
        "    And <span style=\"color: red\">other</span> strains of <span style=\"color: red\">woe</span>, which now seem <span style=\"color: red\">woe</span>,\r\n",
        "    Compar'<span style=\"color: red\">d</span> with <span style=\"color: red\">loss</span> of thee, <span style=\"color: green\">will</span> <span style=\"color: red\">not</span> seem so.</pre>"
       ],
       "metadata": {},
       "output_type": "pyout",
       "prompt_number": 59,
       "text": [
        "<IPython.core.display.HTML at 0x11b2c6dd8>"
       ]
      }
     ],
     "prompt_number": 59
    },
    {
     "cell_type": "markdown",
     "metadata": {},
     "source": [
      "There's a lot that we could look at and question here, and we should do so, but there's also some intriguing aspects, particularly for such an automated process.\n",
      "\n",
      "For the sake of convenience, here are the main functions that we defined for sentiment analysis of a corpus:\n",
      "\n",
      "```python\n",
      "import nltk\n",
      "from nltk.corpus import sentiwordnet as swn\n",
      "\n",
      "def get_sentiments_data_from_corpus(corpus, skipWordNetPos=[]):\n",
      "    documents = {}\n",
      "    all_positives = []\n",
      "    all_negatives = []\n",
      "    for fileid in corpus.fileids():\n",
      "        tokens = corpus.words(fileid)\n",
      "        score, positives, negatives = get_sentiment_data_from_tokens(tokens, skipWordNetPos)\n",
      "        documents[fileid] = score\n",
      "        [all_positives.append(positive) for positive in positives]\n",
      "        [all_negatives.append(negative) for negative in negatives]\n",
      "    return documents, set(all_positives), set(all_negatives)\n",
      "\n",
      "def get_sentiment_data_from_tokens(tokens, skipWordNetPos=[]):\n",
      "    tagged = nltk.pos_tag(tokens)\n",
      "    positives = []\n",
      "    negatives = []\n",
      "    tokens_score = 0\n",
      "    for word, treebank in tagged:\n",
      "        score = get_sentiment_score_from_tagged(word, treebank, skipWordNetPos)\n",
      "        if score:\n",
      "            tokens_score += score\n",
      "            if score > 0:\n",
      "                positives.append(word.lower())\n",
      "            else:\n",
      "                negatives.append(word.lower())\n",
      "    return tokens_score, set(positives), set(negatives)\n",
      "\n",
      "def get_sentiment_score_from_tagged(token, treebank, skipWordNetPos=[]):\n",
      "    wordnet_pos = treebank_to_wordnet_pos(treebank, skipWordNetPos)\n",
      "    if wordnet_pos: # only print matches\n",
      "        senti_synsets = list(swn.senti_synsets(token, wordnet_pos))\n",
      "        if senti_synsets:\n",
      "            return senti_synsets[0].pos_score() - senti_synsets[0].neg_score()\n",
      "\n",
      "def treebank_to_wordnet_pos(treebank, skipWordNetPos=[]):\n",
      "    if \"NN\" in treebank and \"n\" not in skipWordNetPos: # singular and plural nouns (NN, NNS)\n",
      "        return \"n\"\n",
      "    elif \"JJ\" in treebank and \"a\" not in skipWordNetPos: # adjectives (JJ, JJR, JJS)\n",
      "        return \"a\" \n",
      "    elif \"VB\" in treebank and \"v\" not in skipWordNetPos: # verbs (VB, VBD, VBG, VBN, VBP, VBZ)\n",
      "        return \"v\"\n",
      "    elif \"RB\" in treebank and \"r\" not in skipWordNetPos: # adverbs (RB, RBR, RBS)\n",
      "        return \"r\"\n",
      "    # if we don't match any of these we implicitly return None```"
     ]
    },
    {
     "cell_type": "heading",
     "level": 2,
     "metadata": {},
     "source": [
      "Next Steps"
     ]
    },
    {
     "cell_type": "markdown",
     "metadata": {},
     "source": [
      "Try these tasks:\n",
      "\n",
      "* experiment with different values for skipWordNetPos \u2013\u00a0which combination seems to give the best results?\n",
      "* can you set a threshold of positive and negative values to improve results?\n",
      "* can you add your own stopword list to the function signatures and have those words skipped when looking for sentiment?"
     ]
    },
    {
     "cell_type": "markdown",
     "metadata": {},
     "source": [
      "---\n",
      "From [The Art of Literary Text Analysis](ArtOfLiteraryTextAnalysis.ipynb) by [St\u00e9fan Sinclair](http://stefansinclair.name) &amp; [Geoffrey Rockwell](http://geoffreyrockwell.com), [CC BY-SA](https://creativecommons.org/licenses/by-sa/4.0/)<br />\n",
      "Created March 9, 2015"
     ]
    }
   ],
   "metadata": {}
  }
 ]
}