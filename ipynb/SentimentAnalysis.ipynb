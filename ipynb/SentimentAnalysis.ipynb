{
 "metadata": {
  "name": "",
  "signature": "sha256:c894fc518a1c582fcb3e8e98c7e5547369ca7087058afc82c95280d01b0c3e08"
 },
 "nbformat": 3,
 "nbformat_minor": 0,
 "worksheets": [
  {
   "cells": [
    {
     "cell_type": "heading",
     "level": 1,
     "metadata": {},
     "source": [
      "Sentiment Analysis"
     ]
    },
    {
     "cell_type": "markdown",
     "metadata": {},
     "source": [
      "This notebook describes sentiment analysis with NLTK. It's part of the [The Art of Literary Text Analysis](ArtOfLiteraryTextAnalysis.ipynb) (and assumes that you've already worked through previous notebooks \u2013\u00a0see the table of contents). In this notebook we'll look in particular at\n",
      "\n",
      "* creating a sonnets corpus\n",
      "* using a plain text corpus reader\n",
      "* introducing sentiment analysis\n",
      "* doing sentiment analysis with WordNet\n",
      "* doing sentiment analysis of Shakespeare's sonnets\n",
      "* outputting HTML"
     ]
    },
    {
     "cell_type": "heading",
     "level": 2,
     "metadata": {},
     "source": [
      "Create a Sonnets Corpus"
     ]
    },
    {
     "cell_type": "markdown",
     "metadata": {},
     "source": [
      "We're going to start by downloading [Shakespeare's sonnets from Gutenberg](http://www.gutenberg.org/cache/epub/1041/pg1041.txt). The ususal provisos apply regarding web-based URLs and particularly ones from Gutenberg: content can be inaccessible (moved, blocked, etc.), and it's best to limit the number of times you make the actual request, so we'll isolate the reading in its own cell."
     ]
    },
    {
     "cell_type": "code",
     "collapsed": false,
     "input": [
      "import urllib.request\n",
      "sonnetsUrl = \"http://www.gutenberg.org/cache/epub/1041/pg1041.txt\"\n",
      "sonnetsString = urllib.request.urlopen(sonnetsUrl).read().decode()\n",
      "len(sonnetsString) # let's make sure we have a lot of characters"
     ],
     "language": "python",
     "metadata": {},
     "outputs": [
      {
       "metadata": {},
       "output_type": "pyout",
       "prompt_number": 2,
       "text": [
        "122774"
       ]
      }
     ],
     "prompt_number": 2
    },
    {
     "cell_type": "markdown",
     "metadata": {},
     "source": [
      "Just as we did in [Getting Texts](GettingTexts.ipynb), we need to isolate the main body of text, without the header and footer sections. To do that we can [look more closely at the text](http://www.gutenberg.org/cache/epub/1041/pg1041.txt) and see that the first sonnet (and each of the subsequent ones) starts with a roman numeral (\"I\") and that the text ends with \"End of Project Gutenberg's\", so let's create a filtered sonnets string."
     ]
    },
    {
     "cell_type": "code",
     "collapsed": false,
     "input": [
      "filteredSonnetsStart = sonnetsString.find(\"  I\\r\\n\") # title of first sonnet\n",
      "filteredSonnetsEnd = sonnetsString.find(\"End of Project Gutenberg's\") # end of sonnets\n",
      "filteredSonnetsString = sonnetsString[filteredSonnetsStart:filteredSonnetsEnd].rstrip() # strip spaces from the end (right)\n",
      "print(filteredSonnetsString[:75] + ' \u2026 ' + filteredSonnetsString[-50:])"
     ],
     "language": "python",
     "metadata": {},
     "outputs": [
      {
       "output_type": "stream",
       "stream": "stdout",
       "text": [
        "  I\r\n",
        "\r\n",
        "  From fairest creatures we desire increase,\r\n",
        "  That thereby beauty' \u2026     Love's fire heats water, water cools not love.\n"
       ]
      }
     ],
     "prompt_number": 3
    },
    {
     "cell_type": "markdown",
     "metadata": {},
     "source": [
      "In looking at the sonnets we see that they all follow the same format of a roman numeral and then a block of text. That's a pattern that's fairly easy to define with regular expressions, we can look for the following:\n",
      "\n",
      "* two spaces (all the text is indented): \"  \"\n",
      "* one or more uppercase characters that represent the roman numerals (I, IV, XI, etc.) ```[A-Z]+```\n",
      "  * we can do this by using a character range that says any character between A and Z or ```[A-Z]+```\n",
      "  * alternatively, we could enumerage a list of relevant characters ```[IVXDC]+```\n",
      "* two Windows-style carriage returns and newlines: \"\\r\\n\\r\\n\"\n",
      "\n",
      "Putting that together we get: ```  [A-Z]+\\r\\n\\r\\n``` and we can use this to split our filtered sonnets into chunks based on the roman numeral separators."
     ]
    },
    {
     "cell_type": "code",
     "collapsed": false,
     "input": [
      "import re\n",
      "sonnetsList = re.split(\"  [A-Z]+\\r\\n\\r\\n\", filteredSonnetsString)\n",
      "print(sonnetsList[1]) # sonnetList[0] is empty (the text before the first roman numeral), let's look at sonnet I"
     ],
     "language": "python",
     "metadata": {},
     "outputs": [
      {
       "output_type": "stream",
       "stream": "stdout",
       "text": [
        "  From fairest creatures we desire increase,\r\n",
        "  That thereby beauty's rose might never die,\r\n",
        "  But as the riper should by time decease,\r\n",
        "  His tender heir might bear his memory:\r\n",
        "  But thou contracted to thine own bright eyes,\r\n",
        "  Feed'st thy light's flame with self-substantial fuel,\r\n",
        "  Making a famine where abundance lies,\r\n",
        "  Thy self thy foe, to thy sweet self too cruel:\r\n",
        "  Thou that art now the world's fresh ornament,\r\n",
        "  And only herald to the gaudy spring,\r\n",
        "  Within thine own bud buriest thy content,\r\n",
        "  And tender churl mak'st waste in niggarding:\r\n",
        "    Pity the world, or else this glutton be,\r\n",
        "    To eat the world's due, by the grave and thee.\r\n",
        "\r\n",
        "\n"
       ]
      }
     ],
     "prompt_number": 4
    },
    {
     "cell_type": "markdown",
     "metadata": {},
     "source": [
      "Now that we have a list of sonnets, let's write them to a file in case we want to load them later.\n",
      "\n",
      "Just as we did with [Getting Texts](GettingTexts.ipynb), we'll create a directory (if it doesn't exist already)."
     ]
    },
    {
     "cell_type": "code",
     "collapsed": false,
     "input": [
      "import os\n",
      "sonnetsPath = 'sonnets' # this subdirectory will be relative to the current notebook\n",
      "if not os.path.exists(sonnetsPath):\n",
      "    os.makedirs(sonnetsPath)"
     ],
     "language": "python",
     "metadata": {},
     "outputs": [],
     "prompt_number": 5
    },
    {
     "cell_type": "markdown",
     "metadata": {},
     "source": [
      "Let's enumerate through each sonnet (we [enumerate](https://docs.python.org/3/library/functions.html#enumerate) so that we can get the index of each item in our list), and for each sonnet we'll write it into a new file. We won't use the roman numerals for the file names, but we'll use zero-padded strings (numbers converted to strings)."
     ]
    },
    {
     "cell_type": "code",
     "collapsed": false,
     "input": [
      "print(str(1).zfill(3)) # convert the number 1 to a string and prepend zeros as needed to get three characters\n",
      "print(str(150).zfill(3)) # convert the number 150 to a string and prepend zeros as needed to get three characters"
     ],
     "language": "python",
     "metadata": {},
     "outputs": [
      {
       "output_type": "stream",
       "stream": "stdout",
       "text": [
        "001\n",
        "150\n"
       ]
      }
     ],
     "prompt_number": 6
    },
    {
     "cell_type": "code",
     "collapsed": false,
     "input": [
      "for index, sonnet in enumerate(sonnetsList): # loop through our list as enumeration to get index\n",
      "    if len(sonnet.strip()) > 0: # make sure we have text, not empty after stripping out whitespace\n",
      "        filename = os.path.join(sonnetsPath, str(index).zfill(3)+\".txt\") # create filename from index\n",
      "        f = open(filename, \"w\")\n",
      "        f.write(sonnet.rstrip()) # write out our sonnet into the file (removing whitespace at the end/right)\n",
      "        f.close()"
     ],
     "language": "python",
     "metadata": {},
     "outputs": [],
     "prompt_number": 7
    },
    {
     "cell_type": "heading",
     "level": 2,
     "metadata": {},
     "source": [
      "Plain Text Corpus Reader"
     ]
    },
    {
     "cell_type": "markdown",
     "metadata": {},
     "source": [
      "We've already seen how we can work with many files in a directory using a corpus reader. For instance, we can look at the Gutenberg corpus and ask how many files there are."
     ]
    },
    {
     "cell_type": "code",
     "collapsed": false,
     "input": [
      "import nltk\n",
      "len(nltk.corpus.gutenberg.fileids())"
     ],
     "language": "python",
     "metadata": {},
     "outputs": [
      {
       "metadata": {},
       "output_type": "pyout",
       "prompt_number": 8,
       "text": [
        "18"
       ]
      }
     ],
     "prompt_number": 8
    },
    {
     "cell_type": "markdown",
     "metadata": {},
     "source": [
      "We can't do the same thing directly with our sonnetsPath directory because it's not a corpus.\n",
      "\n",
      "```python\n",
      "sonnetsPath.fileids() # this won't work, it's not a corpus\n",
      "nltk.corpus.sonnetsPath.fileids() # neither is this```\n",
      "\n",
      "What we can do is to create a new corpus using the PlaintextCorpusReader, giving it the path of our directory and telling it too consider all texts."
     ]
    },
    {
     "cell_type": "code",
     "collapsed": false,
     "input": [
      "from nltk.corpus import PlaintextCorpusReader\n",
      "sonnetsCorpus = PlaintextCorpusReader(sonnetsPath, '.*')\n",
      "len(sonnetsCorpus.fileids())"
     ],
     "language": "python",
     "metadata": {},
     "outputs": [
      {
       "metadata": {},
       "output_type": "pyout",
       "prompt_number": 9,
       "text": [
        "154"
       ]
      }
     ],
     "prompt_number": 9
    },
    {
     "cell_type": "markdown",
     "metadata": {},
     "source": [
      "Let's now see how many words are in our corpus."
     ]
    },
    {
     "cell_type": "code",
     "collapsed": false,
     "input": [
      "tokens = sonnetsCorpus.words() # convenience method for reading words from *all* files in the corpus\n",
      "words = [word for word in tokens if any([c for c in word if c.isalpha()])]\n",
      "print(\"sonnets corpus contains\", '{:,}'.format(len(tokens)), \"tokens and \", '{:,}'.format(len(words)), \"words and\",\n",
      "      '{:,}'.format(len(set(words))), \"word types\")"
     ],
     "language": "python",
     "metadata": {},
     "outputs": [
      {
       "output_type": "stream",
       "stream": "stdout",
       "text": [
        "sonnets corpus contains 21,717 tokens and  18,160 words and 3,336 word types\n"
       ]
      }
     ],
     "prompt_number": 10
    },
    {
     "cell_type": "heading",
     "level": 2,
     "metadata": {},
     "source": [
      "Introduction to Sentiment Analysis"
     ]
    },
    {
     "cell_type": "markdown",
     "metadata": {},
     "source": [
      "Sentiment analysis is a general term used in text mining to refer to the process of trying to automatically determine the mood or opinion of texts. For example, we might be interested in reading through a large quantity of tweets on a particular topic (issue, product, person, event, etc.) to determine if they are generally positive or negative. This is a typical task in determining polarity, or the general orientation of each text toward to poles. The poles can be positive or negative or any other binary pair (happy/sad, calm/excited, etc.).\n",
      "\n",
      "There are several ways of doing sentiment analysis but one of the easier ways is to go through words from a text to determine if they are present in list A (such as positive words) or list B (such as negative words). In some cases those list of words might also have associated values so that some words are stronger than others (compare \"contented\" and \"delighted\") and contribute differently to the polarity of the text.\n",
      "\n",
      "For word list based approaches, the relevance of the word lists for the particular corpus is very important. Word meanings change across time and across domains (politics, entertainment, literature, etc.), and even within a single domain at a given time words can mean different things, not least because of rhetorical devices such as irony.\n",
      "\n",
      "Ideally we'd have a training set that includes documents that have been confirmed as being positive and another has been confirmed as negative, and then we can use those to construct our corpus-specfic word lists. Such lists already exist for some applications (like movie reviews, Twitter, etc.), but unfortunately not for Shakespeare's sonnets :). Fortunately, we can experiment with a more generic method using WordNet's sentiment analysis module."
     ]
    },
    {
     "cell_type": "heading",
     "level": 2,
     "metadata": {},
     "source": [
      "Sentiment Analytsis with WordNet"
     ]
    },
    {
     "cell_type": "markdown",
     "metadata": {},
     "source": [
      "WordNet includes a mechanism for determining the positive or negative value of a synset (if any values are defined). In the simplest case, we can ask for all of the sentiment values for a given word form."
     ]
    },
    {
     "cell_type": "code",
     "collapsed": false,
     "input": [
      "from nltk.corpus import sentiwordnet as swn\n",
      "for senti_synset in swn.senti_synsets('good'):\n",
      "    print(senti_synset, senti_synset.synset.definition())"
     ],
     "language": "python",
     "metadata": {},
     "outputs": [
      {
       "output_type": "stream",
       "stream": "stdout",
       "text": [
        "<good.n.01: PosScore=0.5 NegScore=0.0> benefit\n",
        "<good.n.02: PosScore=0.875 NegScore=0.0> moral excellence or admirableness\n",
        "<good.n.03: PosScore=0.625 NegScore=0.0> that which is pleasing or valuable or useful\n",
        "<commodity.n.01: PosScore=0.0 NegScore=0.0> articles of commerce\n",
        "<good.a.01: PosScore=0.75 NegScore=0.0> having desirable or positive qualities especially those suitable for a thing specified\n",
        "<good.a.03: PosScore=1.0 NegScore=0.0> morally admirable\n",
        "<well.r.01: PosScore=0.375 NegScore=0.0> (often used as a combining form) in a good or proper or satisfactory manner or to a high standard (`good' is a nonstandard dialectal variant for `well')\n",
        "<thoroughly.r.02: PosScore=0.0 NegScore=0.0> completely and absolutely (`good' is sometimes used informally for `thoroughly')\n"
       ]
      }
     ],
     "prompt_number": 11
    },
    {
     "cell_type": "markdown",
     "metadata": {},
     "source": [
      "As we can see, most meanings of \"good\" have a positive value, though some meanings are indicated as being neutral (_commodity.n.01_, _thoroughly.r.02_). Some meanings are more positive than others (such as _good.a.03_ \"morally admirable\").\n",
      "\n",
      "If we can guess at the part of speech we can narrow our search. Here are the possible parts of speech:\n",
      "\n",
      "* n: noun\n",
      "* a: adjective\n",
      "* v: verb\n",
      "* r: adverb\n",
      "\n",
      "As we can see, some senti_synsets can be both positive and negative:"
     ]
    },
    {
     "cell_type": "code",
     "collapsed": false,
     "input": [
      "for senti_synset in swn.senti_synsets('wicked', 'a'): # consider only adjectives\n",
      "    print(senti_synset, senti_synset.synset.definition()) # wicked can be positive or negative"
     ],
     "language": "python",
     "metadata": {},
     "outputs": [
      {
       "output_type": "stream",
       "stream": "stdout",
       "text": [
        "<wicked.a.01: PosScore=0.25 NegScore=0.625> morally bad in principle or practice\n"
       ]
      }
     ],
     "prompt_number": 12
    },
    {
     "cell_type": "heading",
     "level": 2,
     "metadata": {},
     "source": [
      "Sentiment Analysis of Shakespeare's Sonnets"
     ]
    },
    {
     "cell_type": "markdown",
     "metadata": {},
     "source": [
      "A general description of what we want to do might be something like this:\n",
      "\n",
      "* read every sonnet\n",
      "    * tokenize words\n",
      "    * tag the parts of speech (pos)\n",
      "    * look at each word, pos pair\n",
      "        * get a sentiment value for the pair\n",
      "        * add the sentiment value for the sentiment\n",
      "\n",
      "This is getting a bit complex, so let's break down the process into functions."
     ]
    },
    {
     "cell_type": "code",
     "collapsed": false,
     "input": [
      "# this takes a corpus and returns three parts: values (per file id), positive words, negative words\n",
      "def get_sentiments_data_from_corpus(corpus):\n",
      "    docs = {} # dictionary for sentiment values per document\n",
      "    for id in corpus.fileids(): # go through each document id\n",
      "        tokens = tokens = corpus.words(id) # read in tokens/words\n",
      "        docs[id] = get_sentiments_data_from_tokens(tokens) # get sentiment data for the tokens/words\n",
      "    return docs\n",
      "\n",
      "# get sentiment data from a list tokens, this returns a sentiment value and lists of positive and negative words\n",
      "def get_sentiments_data_from_tokens(tokens):\n",
      "    tagged = nltk.pos_tag(tokens) # perform NLTK part-of-speech tagging\n",
      "    positives = [] # track positive words\n",
      "    negatives = [] # track negative words\n",
      "    value = 0 # track sentiment value for the document\n",
      "    for token, pos in tagged: # look at each token, pos pair\n",
      "        score = get_senti_score_from_tokens_pos(token, pos) # get a score from this pair\n",
      "        if score: # if a score exists (many words won't have scores)\n",
      "            value += score # add to the value for this document (negative values will be negative)\n",
      "            if score > 0: # if we have a positive score add word to positives list\n",
      "                positives.append(token.lower())\n",
      "            else: # if we have a negative score add word to negatives list\n",
      "                negatives.append(token.lower())\n",
      "    return {\"value\": value, \"positives\": set(positives), \"negatives\": set(negatives)}\n",
      "\n",
      "# get a sentiment score, if possible, from a token, pos pair\n",
      "def get_senti_score_from_tokens_pos(token, pos): \n",
      "    p = get_wordnet_pos(pos) # look up the part of speech (translate from Treebank to Wordnet)\n",
      "    if p: # if we have a relative part of speech\n",
      "        for sentiment in swn.senti_synsets(token, p): # go through each senti_synset\n",
      "            pos = sentiment.pos_score()                \n",
      "            neg = sentiment.neg_score()\n",
      "            if pos != neg: # if we don't have a neutral value\n",
      "                return pos - neg # substract the positive from negative value\n",
      "                break # we'll stop at the most frequent non neutral value\n",
      "\n",
      "# make a Treebank part of speech to WordNet\n",
      "def get_wordnet_pos(pos):\n",
      "    if \"NN\" in pos:\n",
      "        return \"n\" # noun\n",
      "    elif \"JJ\" in pos:\n",
      "        return \"a\" # adjective\n",
      "    elif \"VB\" in pos:\n",
      "        return \"v\" # verb\n",
      "    elif \"RB\" in pos:\n",
      "        return \"r\""
     ],
     "language": "python",
     "metadata": {},
     "outputs": [],
     "prompt_number": 22
    },
    {
     "cell_type": "markdown",
     "metadata": {},
     "source": [
      "Ok, so now let's pass in our corpus and see what we get!"
     ]
    },
    {
     "cell_type": "code",
     "collapsed": false,
     "input": [
      "sonnetsSentimentData = get_sentiments_data_from_corpus(sonnetsCorpus)"
     ],
     "language": "python",
     "metadata": {},
     "outputs": [],
     "prompt_number": 66
    },
    {
     "cell_type": "markdown",
     "metadata": {},
     "source": [
      "Once again one of the easiest ways of working with the sonnetsSentimentValues is to create a FreqDist object. To do that, we need to extract the \"value\" from each document dict object."
     ]
    },
    {
     "cell_type": "code",
     "collapsed": false,
     "input": [
      "sonnetsSentimentValues = {}\n",
      "for doc, data in sonnetsSentimentData.items():\n",
      "    sonnetsSentimentValues[doc] = data['value']\n",
      "sonnetsSentimentFreqs = nltk.FreqDist(sonnetsSentimentValues)"
     ],
     "language": "python",
     "metadata": {},
     "outputs": [],
     "prompt_number": 75
    },
    {
     "cell_type": "markdown",
     "metadata": {},
     "source": [
      "Now we can see what kind of sentiment values we have, by plotting, for instance:"
     ]
    },
    {
     "cell_type": "code",
     "collapsed": false,
     "input": [
      "%matplotlib inline\n",
      "sonnetsSentimentFreqs.plot()"
     ],
     "language": "python",
     "metadata": {},
     "outputs": [
      {
       "metadata": {},
       "output_type": "display_data",
       "png": "[encoded data removed]",
       "text": [
        "<matplotlib.figure.Figure at 0x11a7d3e80>"
       ]
      }
     ],
     "prompt_number": 76
    },
    {
     "cell_type": "markdown",
     "metadata": {},
     "source": [
      "Even if the x (bottom) axis is illegible, we can see that there are both positive and negatively scored sonnets. Can we determine an average? Sure, let's use numpty.mean() on the list of values."
     ]
    },
    {
     "cell_type": "code",
     "collapsed": false,
     "input": [
      "import numpy\n",
      "numpy.mean([val for doc, val in sonnetsSentimentValuesFreqs.items()])"
     ],
     "language": "python",
     "metadata": {},
     "outputs": [
      {
       "metadata": {},
       "output_type": "pyout",
       "prompt_number": 129,
       "text": [
        "2.4244285714285714"
       ]
      }
     ],
     "prompt_number": 129
    },
    {
     "cell_type": "markdown",
     "metadata": {},
     "source": [
      "This suggests that on average the sonnets are more positive than negative."
     ]
    },
    {
     "cell_type": "heading",
     "level": 2,
     "metadata": {},
     "source": [
      "Outputting HTML"
     ]
    },
    {
     "cell_type": "markdown",
     "metadata": {},
     "source": [
      "We might want to show the most positive and negative sonnets, but to make it even more useful we'd want to show which words are positive and which are negative. Let's create a function to get HTML for any of our documents."
     ]
    },
    {
     "cell_type": "code",
     "collapsed": false,
     "input": [
      "def get_html_for_sentiment_data(text, data):\n",
      "    text = re.sub(r'\\r\\n', r'<br />', text)\n",
      "    text = re.sub(r'\\b(' + '|'.join(data['positives']) + r')\\b', r'<span style=\"color: green\">\\1</span>', text)\n",
      "    text = re.sub(r'\\b(' + '|'.join(data['negatives']) + r')\\b', r'<span style=\"color: red\">\\1</span>', text)\n",
      "    return text"
     ],
     "language": "python",
     "metadata": {},
     "outputs": [],
     "prompt_number": 121
    },
    {
     "cell_type": "markdown",
     "metadata": {},
     "source": [
      "First, the most positive sonnet. We need to import a function that will allow us to embed HTML markup."
     ]
    },
    {
     "cell_type": "code",
     "collapsed": false,
     "input": [
      "from IPython.display import HTML\n",
      "sonnetsSentimentFreqsSorted = list(sonnetsSentimentFreqs.most_common())\n",
      "(fileid, value) = sonnetsSentimentFreqsSorted[0] # highest score\n",
      "HTML(\"<h2>\"+fileid+\"</h2>\"+get_html_for_sentiment_data(sonnetsCorpus.raw(fileid), sonnetsSentimentData[fileid]))"
     ],
     "language": "python",
     "metadata": {},
     "outputs": [
      {
       "html": [
        "<h2>106.txt</h2>  When in the chronicle of <span style=\"color: green\">wasted</span> <span style=\"color: green\">time</span><br />  I <span style=\"color: green\">see</span> <span style=\"color: red\">descriptions</span> of the <span style=\"color: green\">fairest</span> wights,<br />  And <span style=\"color: green\">beauty</span> <span style=\"color: green\">making</span> <span style=\"color: green\">beautiful</span> <span style=\"color: green\">old</span> rime,<br />  In <span style=\"color: green\">praise</span> of <span style=\"color: green\">ladies</span> dead and lovely knights,<br />  Then, in the blazon of sweet <span style=\"color: green\">beauty</span>'s <span style=\"color: green\">best</span>,<br />  Of <span style=\"color: green\">hand</span>, of foot, of lip, of <span style=\"color: green\">eye</span>, of brow,<br />  I <span style=\"color: green\">see</span> their <span style=\"color: green\">antique</span> pen would <span style=\"color: green\">have</span> express'<span style=\"color: red\">d</span><br />  Even such a <span style=\"color: green\">beauty</span> as you master <span style=\"color: green\">now</span>.<br />  So all their <span style=\"color: green\">praises</span> <span style=\"color: green\">are</span> but <span style=\"color: green\">prophecies</span><br />  Of this our <span style=\"color: green\">time</span>, all you <span style=\"color: red\">prefiguring</span>;<br />  And for they <span style=\"color: red\">looked</span> but with <span style=\"color: green\">divining</span> <span style=\"color: green\">eyes</span>,<br />  They <span style=\"color: green\">had</span> <span style=\"color: red\">not</span> skill <span style=\"color: green\">enough</span> your <span style=\"color: green\">worth</span> to sing:<br />    For we, which <span style=\"color: green\">now</span> <span style=\"color: red\">behold</span> these <span style=\"color: red\">present</span> <span style=\"color: green\">days</span>,<br />    Have <span style=\"color: green\">eyes</span> to wonder, but <span style=\"color: green\">lack</span> <span style=\"color: green\">tongues</span> to <span style=\"color: green\">praise</span>."
       ],
       "metadata": {},
       "output_type": "pyout",
       "prompt_number": 127,
       "text": [
        "<IPython.core.display.HTML at 0x11c437c18>"
       ]
      }
     ],
     "prompt_number": 127
    },
    {
     "cell_type": "markdown",
     "metadata": {},
     "source": [
      "And now the most negative sonnet."
     ]
    },
    {
     "cell_type": "code",
     "collapsed": false,
     "input": [
      "(fileid, value) = sonnetsSentimentFreqsSorted[-1] # lowest score\n",
      "HTML(\"<h2>\"+fileid+\"</h2>\"+get_html_for_sentiment_data(sonnetsCorpus.raw(fileid), sonnetsSentimentData[fileid]))"
     ],
     "language": "python",
     "metadata": {},
     "outputs": [
      {
       "html": [
        "<h2>090.txt</h2>  Then <span style=\"color: red\">hate</span> me when thou <span style=\"color: red\">wilt</span>; if ever, <span style=\"color: green\">now</span>;<br />  Now, while the world <span style=\"color: green\">is</span> <span style=\"color: green\">bent</span> my <span style=\"color: green\">deeds</span> to <span style=\"color: red\">cross</span>,<br />  Join with the <span style=\"color: red\">spite</span> of <span style=\"color: green\">fortune</span>, <span style=\"color: green\">make</span> me <span style=\"color: green\">bow</span>,<br />  And <span style=\"color: red\">do</span> <span style=\"color: red\">not</span> <span style=\"color: red\">drop</span> in for an after-<span style=\"color: red\">loss</span>:<br />  Ah! <span style=\"color: red\">do</span> <span style=\"color: red\">not</span>, when my <span style=\"color: red\">heart</span> hath 'scap'<span style=\"color: red\">d</span> this <span style=\"color: red\">sorrow</span>,<br />  Come in the rearward of a conquer'<span style=\"color: red\">d</span> <span style=\"color: red\">woe</span>;<br />  Give <span style=\"color: red\">not</span> a windy <span style=\"color: red\">night</span> a rainy morrow,<br />  To <span style=\"color: green\">linger</span> out a purpos'<span style=\"color: red\">d</span> <span style=\"color: red\">overthrow</span>.<br />  If thou <span style=\"color: red\">wilt</span> <span style=\"color: red\">leave</span> me, <span style=\"color: red\">do</span> <span style=\"color: red\">not</span> <span style=\"color: red\">leave</span> me last,<br />  When <span style=\"color: red\">other</span> petty <span style=\"color: red\">griefs</span> <span style=\"color: green\">have</span> <span style=\"color: red\">done</span> their <span style=\"color: red\">spite</span>,<br />  But in the onset come: so shall I <span style=\"color: red\">taste</span><br />  At first the <span style=\"color: green\">very</span> <span style=\"color: red\">worst</span> of <span style=\"color: green\">fortune</span>'s might;<br />    And <span style=\"color: red\">other</span> <span style=\"color: red\">strains</span> of <span style=\"color: red\">woe</span>, which <span style=\"color: green\">now</span> <span style=\"color: green\">seem</span> <span style=\"color: red\">woe</span>,<br />    Compar'<span style=\"color: red\">d</span> with <span style=\"color: red\">loss</span> of thee, will <span style=\"color: red\">not</span> <span style=\"color: green\">seem</span> so."
       ],
       "metadata": {},
       "output_type": "pyout",
       "prompt_number": 126,
       "text": [
        "<IPython.core.display.HTML at 0x11c610cf8>"
       ]
      }
     ],
     "prompt_number": 126
    },
    {
     "cell_type": "markdown",
     "metadata": {},
     "source": [
      "There's a lot that we could look at and question here, and we should do so, but there's also some intriguing aspects, particularly for such an automated process."
     ]
    },
    {
     "cell_type": "heading",
     "level": 2,
     "metadata": {},
     "source": [
      "Next Steps"
     ]
    },
    {
     "cell_type": "markdown",
     "metadata": {},
     "source": [
      "Try these tasks:\n",
      "\n",
      "* by modifying our ```get_wordnet_pos()``` function, consider only adjectives and see if the results are any better or worse\n",
      "* can you add your own stopword list to the function signatures and have those words skipped when looking for sentiment?"
     ]
    },
    {
     "cell_type": "markdown",
     "metadata": {},
     "source": [
      "---\n",
      "From [The Art of Literary Text Analysis](ArtOfLiteraryTextAnalysis.ipynb) by [St\u00e9fan Sinclair](http://stefansinclair.name) &amp; [Geoffrey Rockwell](http://geoffreyrockwell.com), [CC BY-SA](https://creativecommons.org/licenses/by-sa/4.0/)<br />\n",
      "Created March 9, 2015"
     ]
    }
   ],
   "metadata": {}
  }
 ]
}