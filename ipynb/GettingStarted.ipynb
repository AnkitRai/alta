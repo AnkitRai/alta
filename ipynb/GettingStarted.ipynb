{
 "metadata": {
  "name": "",
  "signature": "sha256:7cb42a12cb0f17402054879397742fb63fc9b32ff6acc7f09eafbd2b5863c68e"
 },
 "nbformat": 3,
 "nbformat_minor": 0,
 "worksheets": [
  {
   "cells": [
    {
     "cell_type": "heading",
     "level": 1,
     "metadata": {},
     "source": [
      "Getting Started"
     ]
    },
    {
     "cell_type": "markdown",
     "metadata": {},
     "source": [
      "This notebook will walk through some very preliminary steps of getting started with iPython Notebook. It assumes that you've gone through the [Getting Started](GettingStarted.ipynb) notebook and successfully installed iPython Notebook. It also assumes that you've launched iPython Notebook by either clicking on the launcher in Anaconda or typing the following command in the terminal window (see [Getting Started](GettingStarted.ipynb) for more about Mac OS X Terminal):\n",
      "\n",
      "> ```ipython notebook```\n",
      "\n",
      "Because ipython is tied to the version of python used to install it (or the installer version in the case of Anaconda), we should already be using python 3.x or higher. Once you launch iPython Notebook you should see a browser window that lists the names of the files and folders from the directory where the ``\u00ecpython notebook``` command above was given, for instance the home directory. This current directory may not be ideal, but looking at using a different directory in a later notebook. For now, click on the _New Notebook_ button.\n",
      "\n",
      "![New Notebook](images/notebook-launch.png)\n",
      "\n",
      "Once you click on _New Notebook_ you should see the main editing screen. We won't do a full overview of the environment, but it's probably worth going through the _User Interface Tour_ that's available under the _Help_ menu near the top.\n",
      "\n",
      "![New Notebook](images/notebook-ui-tour.png)"
     ]
    },
    {
     "cell_type": "heading",
     "level": 2,
     "metadata": {},
     "source": [
      "Hello World!"
     ]
    },
    {
     "cell_type": "markdown",
     "metadata": {},
     "source": [
      "As the [Wikipedia](http://en.wikipedia.org/wiki/%22Hello,_world!%22_program) article explains, _Hello World!_ is the classic first program for beginners to create. Basically what we want to do is to have our program print (or display) the string (or sequence of characters) \"Hello World!\".\n",
      "\n",
      "Before we do much more, let's set the name of our document and add a Title. First, for the name, click on the Untitled1 label in the middle at the top of the screen. Once you click on it, a dialog box should appear to rename the notebook; let's rename it to ```HelloWorld``` (in some ways the name doesn't matter, but it does correspond to the filename, so choosing something recognizable is good). Second, we'll choose the _Heading 1_ option from the format menu (that by default is set to ```Code```).\n",
      "\n",
      "![New Notebook](images/new-notebook-header.png)\n",
      "\n",
      "Finally, let's type _Hello World!_ into the grey box and then press ```Shift-Enter```. This should convert our text to a header and then create a new box underneath. In iPython Notebook, ```Shift-Enter``` is how we _run_ the current cell, which means to format it in some cases or to evaluate the code.\n",
      "\n",
      "iPythone Notebooks are a form of literate programming where we can narrate what we're doing as we're doing it. This isn't just about commenting on the functionality of code, it's about explaining a process. It's a flexible genre and one that may take some getting use to.\n",
      "\n",
      "For now let's keep things relatively minimalist by selecting _Markdown_ from the format menu and then typing something like\n",
      "\n",
      "> This is \\__Hello World!_\\_, my first iPython Notebook\n",
      "\n",
      "Notice the underscore characters surrounding _Hello World!_, that's how we can easily italicize in the Markdown format (more about the Markdown later in this notebook). Now press ```Shift-Enter``` to see if your Markdown cell worked as planned.\n",
      "\n",
      "![Hello World! Markdown](images/hello-world-markdown.png)"
     ]
    },
    {
     "cell_type": "heading",
     "level": 2,
     "metadata": {},
     "source": [
      "Printing a Static String"
     ]
    },
    {
     "cell_type": "markdown",
     "metadata": {},
     "source": [
      "Now on to writing our _Hello World!_ program. The first challenge is to figure out which command to use to print and the syntax needed to specify our string. We're not doing a full (or even partial) tutorial on Python here, so it's really just a matter of finding a practical solution, even if we haven't fully covered all the concepts (like commands, arguments, strings, output). Let's just Google [python 3 print string](http://lmgtfy.com/?q=python+3+print+string) \u2013\u00a0your results may vary, but the top result for me is a link to the Python 3 Documentation Tutorial on [Input and Output](https://docs.python.org/3/tutorial/inputoutput.html) which refers to the built-in [print()](https://docs.python.org/3/library/functions.html#print) function.\n",
      "\n",
      "```print()``` is a built-in function and a keyword that Python recognizes, but ```Hello World!``` is not a keyword, it's a string that needs to be in quotes. So in its simplest form, we can send one string argument to the print function that's delimited by the parentheses.\n",
      "\n",
      "After hitting ```Shift-Enter``` in the Markdown cell above, you should have a new cell that's in code format, try pasting in the following code:\n",
      "\n",
      "> ```print(\"Hello World!\")```\n",
      "\n",
      "And then press Shift-Enter``` to see the results."
     ]
    },
    {
     "cell_type": "code",
     "collapsed": false,
     "input": [
      "print(\"Hello World!\")"
     ],
     "language": "python",
     "metadata": {},
     "outputs": [
      {
       "output_type": "stream",
       "stream": "stdout",
       "text": [
        "Hello World!\n"
       ]
      }
     ],
     "prompt_number": 15
    },
    {
     "cell_type": "markdown",
     "metadata": {},
     "source": [
      "Yay! Our first program in Python!\n",
      "\n",
      "![Hello World! Markdown](images/hello-world-first-code.png)\n",
      "\n",
      "But, you're saying, why do I need a program to print a string, I could do that in one of these text boxes since I'm using a fancy notebook environment like iPython Notebooks. True, but we're taking baby steps, and we'll quickly go beyond just printing a static string.\n",
      "\n",
      "Before we do that, let's quickly look at debugging or error fixing. Things don't always go perfectly, and it's good to get used to understanding and fixing errors. For instance, in Python 2.x (the previous version \u2013\u00a0and lots of Google pages give examples for Python 2.x), it's possible to use print without parentheses, but it's not in Python 3.x. Let's see what happens if we try the \"old\" way:"
     ]
    },
    {
     "cell_type": "code",
     "collapsed": false,
     "input": [
      "print \"Hello World\""
     ],
     "language": "python",
     "metadata": {},
     "outputs": [
      {
       "ename": "SyntaxError",
       "evalue": "Missing parentheses in call to 'print' (<ipython-input-16-085e5f98785e>, line 1)",
       "output_type": "pyerr",
       "traceback": [
        "\u001b[0;36m  File \u001b[0;32m\"<ipython-input-16-085e5f98785e>\"\u001b[0;36m, line \u001b[0;32m1\u001b[0m\n\u001b[0;31m    print \"Hello World\"\u001b[0m\n\u001b[0m                      ^\u001b[0m\n\u001b[0;31mSyntaxError\u001b[0m\u001b[0;31m:\u001b[0m Missing parentheses in call to 'print'\n"
       ]
      }
     ],
     "prompt_number": 16
    },
    {
     "cell_type": "markdown",
     "metadata": {},
     "source": [
      "This tells us, if a bit cryptically, that there was an error. In this case the ```SyntaxError``` message is very helpful, but that's not always the case. The caret ^ symbol also tries to indicate where the problem is located (though again, this can sometimes be less helpful)."
     ]
    },
    {
     "cell_type": "heading",
     "level": 2,
     "metadata": {},
     "source": [
      "Printing Dynamic Content with the Time Module"
     ]
    },
    {
     "cell_type": "markdown",
     "metadata": {},
     "source": [
      "Printing a static string message is certainly an achiement, but let's say that we wanted to go beyond that and add to our program a string that indicates the current date and time.\n",
      "\n",
      "Let's add some more Markdown-formatted text to our HelloWorld notebook by selecting \"Markdown\" from the format menu and then typing something like:\n",
      "\n",
      "> Now let's try printing dynamic content like the current time.\n",
      "\n",
      "We can't hard-code this in a string since it will always change. So we need a way of expressing the time in a string format, let's Google [python 3 print current formatted time](http://lmgtfy.com/?q=python+3+print+current+formatted+time). One of the first results is a reference page for the [datetime](https://docs.python.org/3.4/library/datetime.html) module and in particular the [strftime()](https://docs.python.org/3.4/library/datetime.html#strftime-strptime-behavior) function. However, an even more accessible page is another of the top results at [Python: Get Today\u2019s Current Date and Time](http://www.cyberciti.biz/faq/howto-get-current-date-time-in-python/). Part way down the page is an example that looks helpful:\n",
      "\n",
      "```python\n",
      "#!/usr/bin/python\n",
      " \n",
      "import time\n",
      " \n",
      "now = time.strftime(\"%c\")```\n",
      "\n",
      "We won't run this as code here because there are a couple of differences between this code and what we want (differences that are useful to understand as we look for other tutorials and code snippets). Let's go through the parts of the code:\n",
      "\n",
      "```python\n",
      "#!/usr/bin/python\n",
      "```\n",
      "\n",
      "First, this assumes that we're running a Python file from the command line \u2013\u00a0the first line indicates the location of the python interpreter ```#!/usr/bin/python``` (this is called a [shebang](http://en.wikipedia.org/wiki/Shebang_(Unix%29) line). We don't need this line at all since we're using iPython Notebook.\n",
      "\n",
      "```python\n",
      "import time\n",
      "```\n",
      "\n",
      "The next line _is_ useful and introduces the notion of importing a module that contains other functions that we want to use (in this case functions for working with ```time```). Python actually has a relatively small set of built-in functions that don't require importing, especially compared to some other programming languages (like PHP). The ```print()``` function we've already seen is an example of a built-in function. The challenge can be finding the names of the modules and then finding the functions that we want to use.\n",
      "\n",
      "```python\n",
      "now = time.strftime(\"%c\")```\n",
      "\n",
      "This is the heart of what we want and demonstrates the use of calling a function that belongs to the ```time``` module that we imported. The function name stands in for string-from-time and takes an argument that indicates the format to use (in this case ```%c``` is a format for a simple date and time representation). More formats are listed and explained in the [time.strftime()](https://docs.python.org/3.4/library/time.html?highlight=strftime#time.strftime) reference page.\n",
      "\n",
      "We also see in the code above an example of assigning a value to a variable name of our choice. The ```now``` on the left side of this statement isn't a built-in keyword in Python, it's a variable name that the programmer has chosen (a place-holder for a value that can change). Whatever the value of ```time.strftime(\"%c\")``` gets assigned to the variable named ```now```. Note that just assigning a value doesn't mean that it will be displayed (printed), so we'd need to do that explicitly.\n",
      "\n",
      "Actually, we don't even need to assign a value to a variable, we can just print the value directly by adapting the example we found."
     ]
    },
    {
     "cell_type": "code",
     "collapsed": false,
     "input": [
      "import time\n",
      "print(time.strftime(\"%c\"))"
     ],
     "language": "python",
     "metadata": {},
     "outputs": [
      {
       "output_type": "stream",
       "stream": "stdout",
       "text": [
        "Mon Jan 12 09:48:59 2015\n"
       ]
      }
     ],
     "prompt_number": 17
    },
    {
     "cell_type": "markdown",
     "metadata": {},
     "source": [
      "Again, other formats are listed on the [time.strftime()](https://docs.python.org/3.4/library/time.html?highlight=strftime#time.strftime) reference page, and we also see that the function can take a second, optional argument (in addition to the format argument) which is a different time value (otherwise the current time is used)."
     ]
    },
    {
     "cell_type": "markdown",
     "metadata": {},
     "source": [
      "Now we can put things together by sending multiple arguments to ```print()```"
     ]
    },
    {
     "cell_type": "code",
     "collapsed": false,
     "input": [
      "print(\"Hello World! It's\", time.strftime(\"%A %B %e, %Y\"))"
     ],
     "language": "python",
     "metadata": {},
     "outputs": [
      {
       "output_type": "stream",
       "stream": "stdout",
       "text": [
        "Hello World! It's Monday January 12, 2015\n"
       ]
      }
     ],
     "prompt_number": 18
    },
    {
     "cell_type": "markdown",
     "metadata": {},
     "source": [
      "So we can now update our HelloWorld notebook with the combined code (we import the time module once and then have our combined print command):\n",
      "\n",
      "> ```python\n",
      "import time\n",
      "print(\"Hello World! It's\", time.strftime(\"%A %B %e, %Y\"))```\n",
      "\n",
      "![Print Dynamic Time](images/hello-world-dynamic-time.png)\n"
     ]
    },
    {
     "cell_type": "heading",
     "level": 2,
     "metadata": {},
     "source": [
      "More Markdown"
     ]
    },
    {
     "cell_type": "markdown",
     "metadata": {},
     "source": [
      "As we mentioned earlier, Markdown is a special format used for text in an iPython Notebook. Markdown is intended to be more succinct and simpler to read and write than HTML (Markdown is converted to HTML for display in the browser). For instance, we can easily have text appear in \\**bold*\\* or \\__italics_\\_, paragraphs are created from newlines, and links like http://python.org/ appear automatically. Another powerful feature is the creation of lists. For instance, we can create an HTML list by having an asterisk in front of every item (you can copy the first section and evaluate the mark down to get the second section, note the use of two hyphens -- under the first line to create a subtitled using a different strategy than the iPython Notebook Heading 2 format):\n",
      "\n",
      "> Things we've learned in this Notebook<br />\n",
      "> --<br />\n",
      "> \\* creating a new notebook<br />\n",
      "> \\* basic user interface of a notebook<br />\n",
      "> \\* printing a static string like \\_Hello World!\\_<br />\n",
      "> \\* debugging syntax errors<br />\n",
      "> \\* printing a dymamic string with the current time<br />\n",
      "> \\* a bit more about Markdown (see http://daringfireball.net/projects/markdown/syntax)<br />\n",
      "\n",
      "Things we've learned in this Notebook\n",
      "--\n",
      "* creating a new notebook\n",
      "* basic user interface of a notebook\n",
      "* printing a static string like _Hello World!_\n",
      "* debugging syntax errors\n",
      "* printing a dymamic string with the current time\n",
      "* a bit more about Markdown (see http://daringfireball.net/projects/markdown/syntax)\n"
     ]
    },
    {
     "cell_type": "heading",
     "level": 2,
     "metadata": {},
     "source": [
      "Next Steps"
     ]
    },
    {
     "cell_type": "markdown",
     "metadata": {},
     "source": [
      "You can visit a cleaner template of the [HelloWorld](HelloWorld.ipynb) notebook and then try some of the following tasks:\n",
      "\n",
      "* try rewriting the dynamic message using a different language\n",
      "  * how can you change the language ([locale](https://docs.python.org/2/library/locale.html)) of words generated by ```time.strftime()```?\n",
      "* how can you embed an image (from elsewhere on the web) in your HelloWorld notebook?\n",
      "* write code to automatically print how many days there are until the next new year\n",
      "\n",
      "This guide is focused on text analysis (not so much hellos, worlds, and dates), so in the next module we're going to shift toward compiling a small corpus that we can use."
     ]
    },
    {
     "cell_type": "markdown",
     "metadata": {},
     "source": [
      "---\n",
      "From [The Art of Literary Text Analysis](https://github.com/sgsinclair/alta) by [St\u00e9fan Sinclair](http://stefansinclair.name) &amp; [Geoffrey Rockwell](http://geoffreyrockwell.com), [CC BY-SA](https://creativecommons.org/licenses/by-sa/4.0/)\n",
      "\n",
      "Created January 2, 2015, modified January 12, 2015"
     ]
    }
   ],
   "metadata": {}
  }
 ]
}