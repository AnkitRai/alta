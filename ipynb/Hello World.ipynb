{
 "metadata": {
  "name": "",
  "signature": "sha256:db9fb22c6cd4a15e31d6e0da1ac08b3622ec047fcc4285b4fe3308c6ef0cf8d9"
 },
 "nbformat": 3,
 "nbformat_minor": 0,
 "worksheets": [
  {
   "cells": [
    {
     "cell_type": "heading",
     "level": 1,
     "metadata": {},
     "source": [
      "Hello World!"
     ]
    },
    {
     "cell_type": "markdown",
     "metadata": {},
     "source": [
      "As the [Wikipedia](http://en.wikipedia.org/wiki/%22Hello,_world!%22_program) article explains, ```\"Hello World!\"``` is the classic first program for beginners to create.\n",
      "\n",
      "Let's use the simplest form in PythonThis Hello World notebook is intended to"
     ]
    },
    {
     "cell_type": "code",
     "collapsed": false,
     "input": [
      "print(\"Hello World!\")"
     ],
     "language": "python",
     "metadata": {},
     "outputs": [
      {
       "output_type": "stream",
       "stream": "stdout",
       "text": [
        "Hello World!\n"
       ]
      }
     ],
     "prompt_number": 3
    },
    {
     "cell_type": "markdown",
     "metadata": {},
     "source": [
      "That's not terribly interesting since we're just printing a static (hard-coded) string (the sequence of characters). Let's up the ante slighly by print a dynamic date."
     ]
    },
    {
     "cell_type": "code",
     "collapsed": false,
     "input": [
      "import time\n",
      "print(\"Hello World! It's\", time.ctime())"
     ],
     "language": "python",
     "metadata": {},
     "outputs": [
      {
       "output_type": "stream",
       "stream": "stdout",
       "text": [
        "Hello World! It's  Tue Jan  6 12:04:39 2015\n"
       ]
      }
     ],
     "prompt_number": 6
    },
    {
     "cell_type": "markdown",
     "metadata": {},
     "source": [
      "Finally, let's do a bit of Markdown formatting:\n",
      "\n",
      "* *bold*\n",
      "* _italics_"
     ]
    },
    {
     "cell_type": "markdown",
     "metadata": {},
     "source": [
      "by St\u00e9fan Sinclair, created January 2, 2015\n"
     ]
    }
   ],
   "metadata": {}
  }
 ]
}