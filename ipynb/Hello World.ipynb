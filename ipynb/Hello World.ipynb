{
 "metadata": {
  "name": "",
  "signature": "sha256:1680079ead4879f902ea16a24bdcc9b43a6d59b9555695b84d017a75ef82844b"
 },
 "nbformat": 3,
 "nbformat_minor": 0,
 "worksheets": [
  {
   "cells": [
    {
     "cell_type": "heading",
     "level": 1,
     "metadata": {},
     "source": [
      "Hello World!"
     ]
    },
    {
     "cell_type": "markdown",
     "metadata": {},
     "source": [
      "As the [Wikipedia](http://en.wikipedia.org/wiki/%22Hello,_world!%22_program) article explains, _Hello World!_ is the classic first program for beginners to create. Basically what we want to do is to have our program print (or display) the string (or sequence of characters) \"Hello World!\"."
     ]
    },
    {
     "cell_type": "heading",
     "level": 2,
     "metadata": {},
     "source": [
      "Printing a Static String"
     ]
    },
    {
     "cell_type": "markdown",
     "metadata": {},
     "source": [
      "The first challenge is to figure out which command to use to print and the syntax needed to specify our string. We're not doing a full tutorial on Python here, so it's really just a matter of finding a practical solution, even if we haven't fully covered all the concepts (like commands, arguments, strings, output). Let's just Google [python 3 print string](http://lmgtfy.com/?q=python+3+print+string) \u2013\u00a0your results may vary, but the top result for me is a link to the Python 3 Documentation Tutorial on [Input and Output](https://docs.python.org/3/tutorial/inputoutput.html) which refers to the built-in [print()](https://docs.python.org/3/library/functions.html#print) function.\n",
      "\n",
      "```print()``` is a built-in function and a keyword that Python recognizes, but ```Hello World!``` is not a keyword, it's a string that needs to be in quotes. So in its simplest form, we can send one string argument to the print function that's delimited by the parentheses. "
     ]
    },
    {
     "cell_type": "code",
     "collapsed": false,
     "input": [
      "print(\"Hello World!\")"
     ],
     "language": "python",
     "metadata": {},
     "outputs": [
      {
       "output_type": "stream",
       "stream": "stdout",
       "text": [
        "Hello World!\n"
       ]
      }
     ],
     "prompt_number": 33
    },
    {
     "cell_type": "markdown",
     "metadata": {},
     "source": [
      "Yay! Our first program in Python!\n",
      "\n",
      "Things don't always go perfectly though, and it's good to get used to understanding and fixing errors. For instance, let's imagine that we forget to close the quote and then end of our string, we'd get an error message.\n",
      "That's not terribly interesting since we're just printing a static (hard-coded) string (the sequence of characters). Let's up the ante slighly by print a dynamic date."
     ]
    },
    {
     "cell_type": "code",
     "collapsed": false,
     "input": [
      "print(\"Hello World)"
     ],
     "language": "python",
     "metadata": {},
     "outputs": [
      {
       "ename": "SyntaxError",
       "evalue": "EOL while scanning string literal (<ipython-input-34-93f0825b662b>, line 1)",
       "output_type": "pyerr",
       "traceback": [
        "\u001b[0;36m  File \u001b[0;32m\"<ipython-input-34-93f0825b662b>\"\u001b[0;36m, line \u001b[0;32m1\u001b[0m\n\u001b[0;31m    print(\"Hello World)\u001b[0m\n\u001b[0m                       ^\u001b[0m\n\u001b[0;31mSyntaxError\u001b[0m\u001b[0;31m:\u001b[0m EOL while scanning string literal\n"
       ]
      }
     ],
     "prompt_number": 34
    },
    {
     "cell_type": "markdown",
     "metadata": {},
     "source": [
      "This tells us, if a bit cryptically, that there was an error message with our string and in this case we see the caret ^ symbol that indicates where the problem is located.\n",
      "\n",
      "But, you're saying, why do I need a program to print a string, I could do that in one of these text boxes since I'm using a fancy notebook environment like iPython Notebooks. True, but we're taking baby steps, and we'll quickly go beyond just printing a static string."
     ]
    },
    {
     "cell_type": "heading",
     "level": 2,
     "metadata": {},
     "source": [
      "Printing Dynamic Content with the Time Module"
     ]
    },
    {
     "cell_type": "markdown",
     "metadata": {},
     "source": [
      "For instance, let's say that we wanted to add to our program a string that indicates the current date and time. We can't hard-code this in a string since it will always change. So we need a way of expressing the time in a string format, let's Google [python 3 print current formatted time](http://lmgtfy.com/?q=python+3+print+current+formatted+time). One of the first results is a reference page for the [datetime](https://docs.python.org/3.4/library/datetime.html) module and in particular the [strftime()](https://docs.python.org/3.4/library/datetime.html#strftime-strptime-behavior) function. However, an even more accessible page is another of the top results at [Python: Get Today\u2019s Current Date and Time](http://www.cyberciti.biz/faq/howto-get-current-date-time-in-python/). Part way down the page is an example that looks helpful:\n",
      "\n",
      "```python\n",
      "#!/usr/bin/python\n",
      " \n",
      "import time\n",
      " \n",
      "now = time.strftime(\"%c\")```\n",
      "\n",
      "We won't run this as code here because there are a couple of differences between this code and what we want (differences that are useful to understand as we look for other tutorials and code snippets). Let's go through the parts of the code:\n",
      "\n",
      "```python\n",
      "#!/usr/bin/python\n",
      "```\n",
      "\n",
      "First, this assumes that we're running a Python file from the command line \u2013\u00a0the first line indicates the location of the python interpreter ```#!/usr/bin/python``` (this is called a [shebang](http://en.wikipedia.org/wiki/Shebang_(Unix%29) line). We don't need this line at all since we're using iPython Notebook.\n",
      "\n",
      "```python\n",
      "import time\n",
      "```\n",
      "\n",
      "The next line _is_ useful and introduces the notion of importing a module that contains other functions that we want to use (in this case functions for working with ```time```). Python actually has a relatively small set of built-in functions that don't require importing, especially compared to some other programming languages (like PHP). The ```print()``` function we've already seen is an example of a built-in function. The challenge can be finding the names of the modules and then finding the functions that we want to use.\n",
      "\n",
      "```python\n",
      "now = time.strftime(\"%c\")```\n",
      "\n",
      "This is the heart of what we want and demonstrates the use of calling a function that belongs to the ```time``` module that we imported. The function name stands in for string-from-time and takes an argument that indicates the format to use (in this case ```%c``` is a format for a simple date and time representation). More formats are listed and explained in the [time.strftime()](https://docs.python.org/3.4/library/time.html?highlight=strftime#time.strftime) reference page.\n",
      "\n",
      "We also see in the code above an example of assigning a value to a variable name of our choice. The ```now``` on the left side of this statement isn't a built-in keyword in Python, it's a variable name that the programmer has chosen (a place-holder for a value that can change). Whatever the value of ```time.strftime(\"%c\")``` gets assigned to the variable named ```now```. Note that just assigning a value doesn't mean that it will be displayed (printed), so we'd need to do that explicitly.\n",
      "\n",
      "Actually, we don't even need to assign a value to a variable, we can just print the value directly by adapting the example we found."
     ]
    },
    {
     "cell_type": "code",
     "collapsed": false,
     "input": [
      "import time\n",
      "print(time.strftime(\"%c\"))"
     ],
     "language": "python",
     "metadata": {},
     "outputs": [
      {
       "output_type": "stream",
       "stream": "stdout",
       "text": [
        "Tue Jan  6 22:33:40 2015\n"
       ]
      }
     ],
     "prompt_number": 35
    },
    {
     "cell_type": "markdown",
     "metadata": {},
     "source": [
      "Again, other formats are listed on the [time.strftime()](https://docs.python.org/3.4/library/time.html?highlight=strftime#time.strftime) reference page, and we also see that the function can take a second, optional argument (in addition to the format argument) which is a different time value (otherwise the current time is used)."
     ]
    },
    {
     "cell_type": "markdown",
     "metadata": {},
     "source": [
      "Now we can put things together by sending multiple arguments to ```print()```"
     ]
    },
    {
     "cell_type": "code",
     "collapsed": false,
     "input": [
      "print(\"Hello World! It's\", time.strftime(\"%A %B %e, %Y\"))"
     ],
     "language": "python",
     "metadata": {},
     "outputs": [
      {
       "output_type": "stream",
       "stream": "stdout",
       "text": [
        "Hello World! It's Tuesday January  6, 2015\n"
       ]
      }
     ],
     "prompt_number": 36
    },
    {
     "cell_type": "markdown",
     "metadata": {},
     "source": [
      "---\n",
      "From [The Art of Literary Text Analysis](https://github.com/sgsinclair/alta) by [St\u00e9fan Sinclair](http://stefansinclair.name) &amp; [Geoffrey Rockwell](http://geoffreyrockwell.com), created January 2, 2015, [CC BY-SA](https://creativecommons.org/licenses/by-sa/4.0/)"
     ]
    }
   ],
   "metadata": {}
  }
 ]
}