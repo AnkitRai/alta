{
 "metadata": {
  "name": "",
  "signature": "sha256:1b687533d5a60d3b1d35b025ae95c9a5052ace8264776aa7d49d8c1f1ec30336"
 },
 "nbformat": 3,
 "nbformat_minor": 0,
 "worksheets": [
  {
   "cells": [
    {
     "cell_type": "heading",
     "level": 1,
     "metadata": {},
     "source": [
      "Natural Language Toolkit"
     ]
    },
    {
     "cell_type": "markdown",
     "metadata": {},
     "source": [
      "Let's load _The Gold Bug_"
     ]
    },
    {
     "cell_type": "code",
     "collapsed": false,
     "input": [
      "f = open(\"data/goldBug.txt\", \"r\")\n",
      "goldBugString = f.read()\n",
      "f.close()\n",
      "print(goldBugString[:100])"
     ],
     "language": "python",
     "metadata": {},
     "outputs": [
      {
       "output_type": "stream",
       "stream": "stdout",
       "text": [
        "THE GOLD-BUG\n",
        "\n",
        "          What ho! what ho! this fellow is dancing mad!\n",
        "\n",
        "               He hath been b\n"
       ]
      }
     ],
     "prompt_number": 9
    },
    {
     "cell_type": "markdown",
     "metadata": {},
     "source": [
      "Let's tokenize!"
     ]
    },
    {
     "cell_type": "code",
     "collapsed": false,
     "input": [
      "import nltk\n",
      "goldBugTokens = nltk.word_tokenize(goldBugString.lower())\n",
      "goldBugTokens[:10]"
     ],
     "language": "python",
     "metadata": {},
     "outputs": [
      {
       "metadata": {},
       "output_type": "pyout",
       "prompt_number": 10,
       "text": [
        "['the', 'gold-bug', 'what', 'ho', '!', 'what', 'ho', '!', 'this', 'fellow']"
       ]
      }
     ],
     "prompt_number": 10
    },
    {
     "cell_type": "code",
     "collapsed": false,
     "input": [
      "filterTokens = []\n",
      "for word in goldBugTokens[:10]:\n",
      "    if word.isalpha():\n",
      "        filterTokens.append(word)\n",
      "print(filterTokens)\n",
      "\n",
      "print([word for word in goldBugTokens[:10] if word.isalpha()])"
     ],
     "language": "python",
     "metadata": {},
     "outputs": [
      {
       "output_type": "stream",
       "stream": "stdout",
       "text": [
        "['the', 'what', 'ho', 'what', 'ho', 'this', 'fellow']\n",
        "['the', 'what', 'ho', 'what', 'ho', 'this', 'fellow']\n"
       ]
      }
     ],
     "prompt_number": 21
    },
    {
     "cell_type": "code",
     "collapsed": false,
     "input": [
      "goldBugWords = [word for word in goldBugTokens if any([char for char in word if char.isalpha()])]"
     ],
     "language": "python",
     "metadata": {},
     "outputs": [],
     "prompt_number": 28
    },
    {
     "cell_type": "code",
     "collapsed": false,
     "input": [
      "wordFrequencies = nltk.FreqDist(goldBugWords)\n",
      "wordFrequencies.most_common(10)"
     ],
     "language": "python",
     "metadata": {},
     "outputs": [
      {
       "metadata": {},
       "output_type": "pyout",
       "prompt_number": 38,
       "text": [
        "[('the', 877),\n",
        " ('of', 465),\n",
        " ('and', 359),\n",
        " ('i', 336),\n",
        " ('to', 329),\n",
        " ('a', 327),\n",
        " ('in', 238),\n",
        " ('it', 213),\n",
        " ('you', 162),\n",
        " ('was', 137)]"
       ]
      }
     ],
     "prompt_number": 38
    },
    {
     "cell_type": "code",
     "collapsed": false,
     "input": [
      "stopwords = nltk.corpus.stopwords.words(\"English\")\n",
      "print(stopwords)"
     ],
     "language": "python",
     "metadata": {},
     "outputs": [
      {
       "output_type": "stream",
       "stream": "stdout",
       "text": [
        "['i', 'me', 'my', 'myself', 'we', 'our', 'ours', 'ourselves', 'you', 'your', 'yours', 'yourself', 'yourselves', 'he', 'him', 'his', 'himself', 'she', 'her', 'hers', 'herself', 'it', 'its', 'itself', 'they', 'them', 'their', 'theirs', 'themselves', 'what', 'which', 'who', 'whom', 'this', 'that', 'these', 'those', 'am', 'is', 'are', 'was', 'were', 'be', 'been', 'being', 'have', 'has', 'had', 'having', 'do', 'does', 'did', 'doing', 'a', 'an', 'the', 'and', 'but', 'if', 'or', 'because', 'as', 'until', 'while', 'of', 'at', 'by', 'for', 'with', 'about', 'against', 'between', 'into', 'through', 'during', 'before', 'after', 'above', 'below', 'to', 'from', 'up', 'down', 'in', 'out', 'on', 'off', 'over', 'under', 'again', 'further', 'then', 'once', 'here', 'there', 'when', 'where', 'why', 'how', 'all', 'any', 'both', 'each', 'few', 'more', 'most', 'other', 'some', 'such', 'no', 'nor', 'not', 'only', 'own', 'same', 'so', 'than', 'too', 'very', 's', 't', 'can', 'will', 'just', 'don', 'should', 'now']\n"
       ]
      }
     ],
     "prompt_number": 40
    },
    {
     "cell_type": "code",
     "collapsed": false,
     "input": [
      "goldBugFilteredWords = [word for word in goldBugWords if not word in stopwords]\n",
      "nltk.FreqDist(goldBugFilteredWords).most_common(20)"
     ],
     "language": "python",
     "metadata": {},
     "outputs": [
      {
       "metadata": {},
       "output_type": "pyout",
       "prompt_number": 43,
       "text": [
        "[('upon', 81),\n",
        " ('de', 73),\n",
        " (\"'s\", 56),\n",
        " ('jupiter', 53),\n",
        " ('legrand', 47),\n",
        " ('one', 38),\n",
        " ('said', 35),\n",
        " ('well', 35),\n",
        " ('massa', 34),\n",
        " ('could', 33),\n",
        " ('bug', 32),\n",
        " ('skull', 29),\n",
        " ('parchment', 27),\n",
        " ('made', 25),\n",
        " ('tree', 25),\n",
        " ('first', 24),\n",
        " ('time', 24),\n",
        " ('two', 23),\n",
        " ('much', 23),\n",
        " ('us', 23)]"
       ]
      }
     ],
     "prompt_number": 43
    },
    {
     "cell_type": "code",
     "collapsed": false,
     "input": [],
     "language": "python",
     "metadata": {},
     "outputs": []
    }
   ],
   "metadata": {}
  }
 ]
}