{
 "metadata": {
  "name": "",
  "signature": "sha256:b81e0b76abd6f2c992b43a83ddef49000cc1892244847ff5e7243594b712df15"
 },
 "nbformat": 3,
 "nbformat_minor": 0,
 "worksheets": [
  {
   "cells": [
    {
     "cell_type": "heading",
     "level": 1,
     "metadata": {},
     "source": [
      "Hello World!"
     ]
    },
    {
     "cell_type": "markdown",
     "metadata": {},
     "source": [
      "This is _Hello World!_, my first iPython Notebook"
     ]
    },
    {
     "cell_type": "code",
     "collapsed": false,
     "input": [
      "print(\"Hello World!\")"
     ],
     "language": "python",
     "metadata": {},
     "outputs": [
      {
       "output_type": "stream",
       "stream": "stdout",
       "text": [
        "Hello World!\n"
       ]
      }
     ],
     "prompt_number": 3
    },
    {
     "cell_type": "markdown",
     "metadata": {},
     "source": [
      "Now let's try printing dynamic content like the current time."
     ]
    },
    {
     "cell_type": "code",
     "collapsed": false,
     "input": [
      "import time\n",
      "print(\"Hello World! It's\", time.strftime(\"%A %B %e, %Y\"))"
     ],
     "language": "python",
     "metadata": {},
     "outputs": [
      {
       "output_type": "stream",
       "stream": "stdout",
       "text": [
        "Hello World! It's Monday January 12, 2015\n"
       ]
      }
     ],
     "prompt_number": 4
    },
    {
     "cell_type": "markdown",
     "metadata": {},
     "source": [
      "Things we've learned in this Notebook\n",
      "--\n",
      "* creating a new notebook\n",
      "* basic user interface of a notebook\n",
      "* printing a static string like _Hello World!_\n",
      "* debugging syntax errors\n",
      "* printing a dymamic string with the current time\n",
      "* a bit more about Markdown (see http://daringfireball.net/projects/markdown/syntax)"
     ]
    },
    {
     "cell_type": "markdown",
     "metadata": {},
     "source": [
      "---\n",
      "This is a template from the [GettingStarted](GettingStarted.ipynb) notebook.\n",
      "\n",
      "From [The Art of Literary Text Analysis](https://github.com/sgsinclair/alta) by [St\u00e9fan Sinclair](http://stefansinclair.name) &amp; [Geoffrey Rockwell](http://geoffreyrockwell.com), [CC BY-SA](https://creativecommons.org/licenses/by-sa/4.0/)\n",
      "\n",
      "Created January 12, 2015"
     ]
    }
   ],
   "metadata": {}
  }
 ]
}