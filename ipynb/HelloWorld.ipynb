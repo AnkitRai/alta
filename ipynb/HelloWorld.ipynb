{
 "metadata": {
  "name": "",
  "signature": "sha256:30ac75d7eb769368f7f1ed70a483ee51aad4744ddd9fd81dce96c1ca2e854d03"
 },
 "nbformat": 3,
 "nbformat_minor": 0,
 "worksheets": [
  {
   "cells": [
    {
     "cell_type": "heading",
     "level": 1,
     "metadata": {},
     "source": [
      "Hello World!"
     ]
    },
    {
     "cell_type": "markdown",
     "metadata": {},
     "source": [
      "This is _Hello World!_, my first iPython Notebook"
     ]
    },
    {
     "cell_type": "code",
     "collapsed": false,
     "input": [
      "print(\"Hello World!\")"
     ],
     "language": "python",
     "metadata": {},
     "outputs": [
      {
       "output_type": "stream",
       "stream": "stdout",
       "text": [
        "Hello World!\n"
       ]
      }
     ],
     "prompt_number": 3
    },
    {
     "cell_type": "markdown",
     "metadata": {},
     "source": [
      "Now let's try printing dynamic content like the current time."
     ]
    },
    {
     "cell_type": "code",
     "collapsed": false,
     "input": [
      "import time\n",
      "print(\"Hello World! It's\", time.strftime(\"%A %B %e, %Y\"))"
     ],
     "language": "python",
     "metadata": {},
     "outputs": [
      {
       "output_type": "stream",
       "stream": "stdout",
       "text": [
        "Hello World! It's Monday January 12, 2015\n"
       ]
      }
     ],
     "prompt_number": 4
    },
    {
     "cell_type": "markdown",
     "metadata": {},
     "source": [
      "Things we've learned in this Notebook\n",
      "--\n",
      "* creating a new notebook\n",
      "* basic user interface of a notebook\n",
      "* printing a static string like _Hello World!_\n",
      "* debugging syntax errors\n",
      "* printing a dymamic string with the current time\n",
      "* a bit more about Markdown (see http://daringfireball.net/projects/markdown/syntax)"
     ]
    }
   ],
   "metadata": {}
  }
 ]
}