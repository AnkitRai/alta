{
 "cells": [
  {
   "cell_type": "markdown",
   "metadata": {},
   "source": [
    "# Complex Sentiment Analysis\n",
    "\n",
    "This notebook shows how to analyze a collection of passages like Tweets for sentiment.\n",
    "\n",
    "This is based on Neal Caron's [An introduction to text analysis with Python, Part 3](http://nealcaren.web.unc.edu/an-introduction-to-text-analysis-with-python-part-3/)."
   ]
  },
  {
   "cell_type": "markdown",
   "metadata": {},
   "source": [
    "### Setting up our data\n",
    "\n",
    "Here we will get the data to test and our positive and negative dictionaries."
   ]
  },
  {
   "cell_type": "markdown",
   "metadata": {},
   "source": [
    "** Getting by URL **\n",
    "\n",
    "Here you can see how to get the data by URL. This shows just how to get the negative words. The others are positive.txt and obama_tweets.txt ."
   ]
  },
  {
   "cell_type": "code",
   "execution_count": 20,
   "metadata": {
    "collapsed": false
   },
   "outputs": [
    {
     "name": "stdout",
     "output_type": "stream",
     "text": [
      "b'abandoned\\nabandonment\\naberration\\naberration\\nabhorred\\nabhorrence\\nabhorrent\\nabhorrently\\nabhors\\nabhors\\n'\n"
     ]
    }
   ],
   "source": [
    "import urllib.request\n",
    "path = 'http://www.unc.edu/~ncaren/haphazard/negative.txt'\n",
    "with urllib.request.urlopen(path) as response:\n",
    "    negData = response.read()\n",
    "print(negData[:100])"
   ]
  },
  {
   "cell_type": "markdown",
   "metadata": {},
   "source": [
    "** Opening data files **\n",
    "\n",
    "Instead of getting the Here you can see how to get the data if it saved in the folder. Then we process it."
   ]
  },
  {
   "cell_type": "code",
   "execution_count": 21,
   "metadata": {
    "collapsed": false
   },
   "outputs": [
    {
     "name": "stdout",
     "output_type": "stream",
     "text": [
      "Complex Sentiment Analysis.ipynb   positive.txt\r\n",
      "Simple Sentiment Analysis.ipynb    \u001b[34msubjectivity_clues_hltemnlp05\u001b[m\u001b[m/\r\n",
      "negative.txt                       subjectivity_clues_hltemnlp05.zip\r\n",
      "obama_tweets.txt\r\n"
     ]
    }
   ],
   "source": [
    "%ls"
   ]
  },
  {
   "cell_type": "markdown",
   "metadata": {},
   "source": [
    "Here we get the **negative** words."
   ]
  },
  {
   "cell_type": "code",
   "execution_count": 35,
   "metadata": {
    "collapsed": false
   },
   "outputs": [
    {
     "name": "stdout",
     "output_type": "stream",
     "text": [
      "['wretchedly', 'wretchedness', 'wrong', 'wrongful', 'wrought', 'wrought', 'yawn', 'zealot', 'zealous', 'zealously']\n"
     ]
    }
   ],
   "source": [
    "with open(\"negative.txt\", \"r\") as f:\n",
    "    negText = f.read()\n",
    "negTokens = negText.split(\"\\n\") # This splits the text file into tokens on the new line character\n",
    "negTokens[-1:] = [] # This strips out the final empty item\n",
    "print(negTokens[-10:])"
   ]
  },
  {
   "cell_type": "markdown",
   "metadata": {},
   "source": [
    "Here we get the **positive** words."
   ]
  },
  {
   "cell_type": "code",
   "execution_count": 30,
   "metadata": {
    "collapsed": false
   },
   "outputs": [
    {
     "name": "stdout",
     "output_type": "stream",
     "text": [
      "['worthwhile', 'worthy', 'wow', 'wry', 'yearning', 'yearningly', 'youthful', 'zeal', 'zenith', 'zest']\n"
     ]
    }
   ],
   "source": [
    "with open(\"positive.txt\", \"r\") as f:\n",
    "    posText = f.read()\n",
    "posTokens = posText.split(\"\\n\") # This splits the text file into tokens on the new line character\n",
    "posTokens[-1:] = [] # This strips out the final empty item\n",
    "print(posTokens[-10:])"
   ]
  },
  {
   "cell_type": "markdown",
   "metadata": {},
   "source": [
    "Here we get the **tweets**."
   ]
  },
  {
   "cell_type": "code",
   "execution_count": 36,
   "metadata": {
    "collapsed": false
   },
   "outputs": [
    {
     "name": "stdout",
     "output_type": "stream",
     "text": [
      "['Obama has called the GOP budget social Darwinism. Nice try, but they believe in social creationism.', 'In his teen years, Obama has been known to use marijuana and cocaine.']\n"
     ]
    }
   ],
   "source": [
    "with open(\"obama_tweets.txt\", \"r\") as f:\n",
    "    tweetsText = f.read()\n",
    "tweetsTokens = tweetsText.split(\"\\n\") # This splits the text file into tokens on the new line character\n",
    "tweetsTokens[-1:] = [] # This strips out the final empty item\n",
    "print(tweetsTokens[:2])"
   ]
  },
  {
   "cell_type": "markdown",
   "metadata": {},
   "source": [
    "### Tokenizing the tweets\n",
    "\n",
    "Now we will create two functions. The first for tokenizing a tweet, the second for calculating positive/negative words."
   ]
  },
  {
   "cell_type": "code",
   "execution_count": 63,
   "metadata": {
    "collapsed": false
   },
   "outputs": [],
   "source": [
    "import re\n",
    "def tokenizer(theText):\n",
    "    theTokens = re.findall(r'\\b\\w[\\w-]*\\b', theText.lower())\n",
    "    return theTokens\n",
    "\n",
    "def calculator(theTweet):\n",
    "    # Count positive words\n",
    "    numPosWords = 0\n",
    "    theTweetTokens = tokenizer(theTweet)\n",
    "    for word in theTweetTokens:\n",
    "        if word in posTokens:\n",
    "            numPosWords += 1\n",
    "            \n",
    "    # Count negative words\n",
    "    numNegWords = 0\n",
    "    for word in theTweetTokens:\n",
    "        if word in negTokens:\n",
    "            numNegWords += 1\n",
    "    \n",
    "    sum = (numPosWords - numNegWords)\n",
    "    return sum\n",
    "\n",
    "# Here is a line for testing this\n",
    "# print(calculator('Obama has called wrong wrong the GOP budget social Darwinism. Nice try, but they believe in social creationism.'))\n"
   ]
  },
  {
   "cell_type": "markdown",
   "metadata": {},
   "source": [
    "### Analyzing tweets\n",
    "\n",
    "Now we will use the calculator to calculate how many positive and negative tweets.\n",
    "\n",
    "*Note:* that you can set a **threshold** for the number of words for a Tweet to be considered positive or negative."
   ]
  },
  {
   "cell_type": "code",
   "execution_count": 62,
   "metadata": {
    "collapsed": false
   },
   "outputs": [
    {
     "name": "stdout",
     "output_type": "stream",
     "text": [
      "Total: 1380\n",
      "Positive: 81\n",
      "Neutral: 1047\n",
      "Negative: 252\n"
     ]
    }
   ],
   "source": [
    "# Here we set up the thresholds\n",
    "posi = 1 # This means there have to be more than 1 positive word\n",
    "nega = 0 # This means there has to be more than 1 negative words\n",
    "\n",
    "# Here we prime our variables\n",
    "numTweets = 0\n",
    "numPosTweets = 0\n",
    "numNegTweets = 0\n",
    "numNeutTweets = 0\n",
    "\n",
    "# This loop goes through all the Tweets and calculates if sums the number of positive or negative ones.\n",
    "for tweet in tweetsTokens:\n",
    "    calc = calculator(tweet)\n",
    "    if calc > posi:\n",
    "        numPosTweets += 1\n",
    "        numTweets += 1\n",
    "    elif calc < nega:\n",
    "        numNegTweets += 1\n",
    "        numTweets += 1\n",
    "    else:\n",
    "        numNeutTweets += 1\n",
    "        numTweets += 1\n",
    "\n",
    "# This prints out the results        \n",
    "print(\"Total: \" + str(numTweets) + \"\\n\" + \"Positive: \" + str(numPosTweets) + \"\\n\" + \"Neutral: \" + str(numNeutTweets) + \"\\n\" + \"Negative: \" +str(numNegTweets))"
   ]
  },
  {
   "cell_type": "code",
   "execution_count": null,
   "metadata": {
    "collapsed": true
   },
   "outputs": [],
   "source": []
  },
  {
   "cell_type": "markdown",
   "metadata": {},
   "source": [
    "### Gathering positive tweets\n",
    "\n",
    "This will gather all examples of positive tweets."
   ]
  },
  {
   "cell_type": "code",
   "execution_count": 70,
   "metadata": {
    "collapsed": false
   },
   "outputs": [
    {
     "name": "stdout",
     "output_type": "stream",
     "text": [
      "[\"#WhatsRomneyHiding? Obama's dignity and sense of humor? #p2 #tcot\", \"RealClearPolitics - Obama's Organizational Advantage on Full ...: As a small but electorally significant state t... http://t.co/3Ax22aBB\", \"RT @wilycyotee Pres. Obama's ongoing support of women is another reason I am so proud he is my President!  @edshow #Obama2012\", 'If Obama win 2012 Election wait til 2016 he will have full white hair! just like Bill clinton!']\n"
     ]
    }
   ],
   "source": [
    "# Here we set up the threshold.\n",
    "posi = 1 # This means there have to be more than 1 positive word\n",
    "numberWanted = 4 # Here you decide how many tweets you want\n",
    "\n",
    "# Here we prime our variables\n",
    "numTweets = 0\n",
    "numPosTweets = 0\n",
    "posiTweetList = []\n",
    "\n",
    "# This loop goes through all the Tweets and calculates if sums the number of positive or negative ones.\n",
    "for tweet in tweetsTokens:\n",
    "    calc = calculator(tweet)\n",
    "    if calc > posi and numPosTweets < numberWanted:\n",
    "        numPosTweets += 1\n",
    "        posiTweetList.append(tweet)\n",
    "\n",
    "print(posiTweetList)"
   ]
  },
  {
   "cell_type": "markdown",
   "metadata": {},
   "source": [
    "### Gathering negative tweets\n",
    "\n",
    "This will gather examples of negative tweets."
   ]
  },
  {
   "cell_type": "code",
   "execution_count": 73,
   "metadata": {
    "collapsed": false
   },
   "outputs": [
    {
     "name": "stdout",
     "output_type": "stream",
     "text": [
      "['President Obama &lt; Lindsay Lohan RUMORS beginning cross shape lights on ST &lt; 1987 Analyst64 DC bicycle courier &lt; Video changes to scramble.', '@edshow the direspect of President #Obama is based on racism. They do not want a Black PRESIDENT. #edshow', '@JoeSixpackSays Our Troops NEED TO COME HOME !!!! BRING OUR TROOPS HOME NOW OBAMA YOU BASTARD OOOORAH SEMPER FI', 'Attorney Mario Apuzzo Files Ballot Access Challenge Against Obama Today in New Jersey http://t.co/06rD6lCL']\n"
     ]
    }
   ],
   "source": [
    "# Here we set up the threshold.\n",
    "nega = -1 # This means there have to be more than 1 positive word\n",
    "numberWanted = 4 # Here you decide how many tweets you want\n",
    "\n",
    "# Here we prime our variables\n",
    "numTweets = 0\n",
    "numNegTweets = 0\n",
    "negaTweetList = []\n",
    "\n",
    "# This loop goes through all the Tweets and calculates if sums the number of positive or negative ones.\n",
    "for tweet in tweetsTokens:\n",
    "    calc = calculator(tweet)\n",
    "    if calc < nega and numNegTweets < numberWanted:\n",
    "        numNegTweets += 1\n",
    "        negaTweetList.append(tweet)\n",
    "\n",
    "print(negaTweetList)"
   ]
  },
  {
   "cell_type": "markdown",
   "metadata": {},
   "source": [
    "### Testing a tweet\n",
    "\n",
    "Here you can take a tweet and test it to see how many positive or negative words it has."
   ]
  },
  {
   "cell_type": "code",
   "execution_count": 77,
   "metadata": {
    "collapsed": false
   },
   "outputs": [
    {
     "name": "stdout",
     "output_type": "stream",
     "text": [
      "What is the tweet to calculate? President Obama &lt; Lindsay Lohan RUMORS beginning cross shape lights on ST &lt; 1987 Analyst64 DC bicycle courier &lt; Video changes to scramble.\n",
      "-2\n"
     ]
    }
   ],
   "source": [
    "tweetToCalc = input(\"What is the tweet to calculate? \")\n",
    "print(calculator(tweetToCalc))"
   ]
  },
  {
   "cell_type": "markdown",
   "metadata": {},
   "source": [
    "### Gathering and plotting positive and negative words\n",
    "\n",
    "This will gather the words that are positive in the tweets and tabulate them."
   ]
  },
  {
   "cell_type": "code",
   "execution_count": 83,
   "metadata": {
    "collapsed": false
   },
   "outputs": [
    {
     "name": "stdout",
     "output_type": "stream",
     "text": [
      "What tweet do you want to process? @edshow the direspect of President #Obama is based on racism. They do not want a Black PRESIDENT. #edshow\n",
      "Positive words: []\n",
      "Positive words: ['racism', 'black']\n"
     ]
    }
   ],
   "source": [
    "import re\n",
    "posWordsList = []\n",
    "negWordsList = []\n",
    "\n",
    "def tokenizer(theText):\n",
    "    theTokens = re.findall(r'\\b\\w[\\w-]*\\b', theText.lower())\n",
    "    return theTokens\n",
    "\n",
    "def wordsCalculator(theTweet):\n",
    "    # Count positive words\n",
    "    numPosWords = 0\n",
    "    theTweetTokens = tokenizer(theTweet)\n",
    "    for word in theTweetTokens:\n",
    "        if word in posTokens:\n",
    "            numPosWords += 1\n",
    "            posWordsList.append(word)\n",
    "            \n",
    "    # Count negative words\n",
    "    numNegWords = 0\n",
    "    for word in theTweetTokens:\n",
    "        if word in negTokens:\n",
    "            numNegWords += 1\n",
    "            negWordsList.append(word)\n",
    "\n",
    "tweet2Process = input(\"What tweet do you want to process? \")\n",
    "wordsCalculator(tweet2Process)\n",
    "print(\"Positive words: \" + str(posWordsList[:10]))\n",
    "print(\"Positive words: \" + str(negWordsList[:10]))"
   ]
  },
  {
   "cell_type": "markdown",
   "metadata": {},
   "source": [
    "## Gathering and plotting all positive and negative words"
   ]
  },
  {
   "cell_type": "code",
   "execution_count": 88,
   "metadata": {
    "collapsed": false
   },
   "outputs": [
    {
     "name": "stdout",
     "output_type": "stream",
     "text": [
      "Positive words: 756\n",
      "Positive words: 552\n"
     ]
    }
   ],
   "source": [
    "import re\n",
    "\n",
    "# Here we set up the thresholds\n",
    "posi = 1 # This means there have to be more than 1 positive word\n",
    "nega = 0 # This means there has to be more than 1 negative words\n",
    "\n",
    "# Here we prime our variables\n",
    "posWordsList = []\n",
    "negWordsList = []\n",
    "numTweets = 0\n",
    "numPosTweets = 0\n",
    "numNegTweets = 0\n",
    "numNeutTweets = 0\n",
    "\n",
    "def wordsGathering(theTweet):\n",
    "    # Count positive words\n",
    "    numPosWords = 0\n",
    "    theTweetTokens = tokenizer(theTweet)\n",
    "    for word in theTweetTokens:\n",
    "        if word in posTokens:\n",
    "            numPosWords += 1\n",
    "            posWordsList.append(word)\n",
    "            \n",
    "    # Count negative words\n",
    "    numNegWords = 0\n",
    "    for word in theTweetTokens:\n",
    "        if word in negTokens:\n",
    "            numNegWords += 1\n",
    "            negWordsList.append(word)       \n",
    "    \n",
    "    sum = (numPosWords - numNegWords)\n",
    "    return sum\n",
    "\n",
    "# This loop goes through all the Tweets and calculates if sums the number of positive or negative ones.\n",
    "for tweet in tweetsTokens:\n",
    "    calc = wordsGathering(tweet)\n",
    "    if calc > posi:\n",
    "        numPosTweets += 1\n",
    "        numTweets += 1\n",
    "    elif calc < nega:\n",
    "        numNegTweets += 1\n",
    "        numTweets += 1\n",
    "    else:\n",
    "        numNeutTweets += 1\n",
    "        numTweets += 1\n",
    "\n",
    "print(\"Positive words: \" + str(len(posWordsList)))\n",
    "print(\"Positive words: \" + str(len(negWordsList)))"
   ]
  },
  {
   "cell_type": "markdown",
   "metadata": {},
   "source": [
    "#### Positive words"
   ]
  },
  {
   "cell_type": "code",
   "execution_count": 90,
   "metadata": {
    "collapsed": false
   },
   "outputs": [
    {
     "name": "stdout",
     "output_type": "stream",
     "text": [
      "     will      just   supreme     white important      good      nice     right   support       fun \n",
      "       66        44        32        31        26        18        17        17        16        16 \n"
     ]
    },
    {
     "data": {
      "image/png": "[encoded data removed]",
      "text/plain": [
       "<matplotlib.figure.Figure at 0x10ee24320>"
      ]
     },
     "metadata": {},
     "output_type": "display_data"
    }
   ],
   "source": [
    "import nltk, matplotlib\n",
    "\n",
    "posDist = nltk.FreqDist(posWordsList)\n",
    "posDist.tabulate(10)\n",
    "\n",
    "%matplotlib inline\n",
    "posDist.plot(25, title=\"Top Positive Words\")"
   ]
  },
  {
   "cell_type": "markdown",
   "metadata": {},
   "source": [
    "#### Negative words"
   ]
  },
  {
   "cell_type": "code",
   "execution_count": 92,
   "metadata": {
    "collapsed": false
   },
   "outputs": [
    {
     "name": "stdout",
     "output_type": "stream",
     "text": [
      "   need   bully against  trying    dumb    down     war  rumors     bad    less \n",
      "     26      19      14      13      11      11      11      10       9       8 \n"
     ]
    },
    {
     "data": {
      "image/png": "[encoded data removed]",
      "text/plain": [
       "<matplotlib.figure.Figure at 0x111f63898>"
      ]
     },
     "metadata": {},
     "output_type": "display_data"
    }
   ],
   "source": [
    "import nltk, matplotlib\n",
    "\n",
    "negDist = nltk.FreqDist(negWordsList)\n",
    "negDist.tabulate(10)\n",
    "\n",
    "%matplotlib inline\n",
    "negDist.plot(25, title=\"Top Negative Words\")"
   ]
  },
  {
   "cell_type": "code",
   "execution_count": null,
   "metadata": {
    "collapsed": true
   },
   "outputs": [],
   "source": []
  }
 ],
 "metadata": {
  "kernelspec": {
   "display_name": "Python 3",
   "language": "python",
   "name": "python3"
  },
  "language_info": {
   "codemirror_mode": {
    "name": "ipython",
    "version": 3
   },
   "file_extension": ".py",
   "mimetype": "text/x-python",
   "name": "python",
   "nbconvert_exporter": "python",
   "pygments_lexer": "ipython3",
   "version": "3.5.1"
  }
 },
 "nbformat": 4,
 "nbformat_minor": 0
}
