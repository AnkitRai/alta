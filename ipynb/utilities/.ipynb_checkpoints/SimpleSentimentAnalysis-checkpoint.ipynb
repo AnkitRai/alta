{
 "cells": [
  {
   "cell_type": "markdown",
   "metadata": {},
   "source": [
    "# Simple Sentiment Analysis\n",
    "\n",
    "This notebook shows how to analyze a collection of passages like Tweets for sentiment.\n",
    "\n",
    "This is based on Neal Caron's [An introduction to text analysis with Python, Part 1](http://nealcaren.web.unc.edu/an-introduction-to-text-analysis-with-python-part-1/).\n",
    "\n",
    "This Notebook shows how to analyze one tweet."
   ]
  },
  {
   "cell_type": "markdown",
   "metadata": {},
   "source": [
    "### Setting up our data\n",
    "\n",
    "Here we will define the data to test and our positive and negative dictionaries."
   ]
  },
  {
   "cell_type": "code",
   "execution_count": 1,
   "metadata": {
    "collapsed": true
   },
   "outputs": [],
   "source": [
    "theTweet = \"We have some delightful new food in the cafeteria. Awesome!!!\"\n",
    "positive_words=['awesome','good','nice','super','fun','delightful']\n",
    "negative_words=['awful','lame','horrible','bad']"
   ]
  },
  {
   "cell_type": "markdown",
   "metadata": {},
   "source": [
    "### Tokenizing the text\n",
    "\n",
    "Now we will tokenize the text."
   ]
  },
  {
   "cell_type": "code",
   "execution_count": 2,
   "metadata": {
    "collapsed": false
   },
   "outputs": [
    {
     "name": "stdout",
     "output_type": "stream",
     "text": [
      "['we', 'have', 'some', 'delightful', 'new', 'food', 'in', 'the', 'cafeteria', 'awesome']\n"
     ]
    }
   ],
   "source": [
    "import re\n",
    "theTokens = re.findall(r'\\b\\w[\\w-]*\\b', theTweet.lower())\n",
    "print(theTokens[:])"
   ]
  },
  {
   "cell_type": "markdown",
   "metadata": {},
   "source": [
    "### Calculating postive words\n",
    "\n",
    "Now we will count the number of positive words."
   ]
  },
  {
   "cell_type": "code",
   "execution_count": 66,
   "metadata": {
    "collapsed": false
   },
   "outputs": [
    {
     "name": "stdout",
     "output_type": "stream",
     "text": [
      "2\n"
     ]
    }
   ],
   "source": [
    "numPosWords = 0\n",
    "for word in theTokens:\n",
    "    if word in positive_words:\n",
    "        numPosWords += 1\n",
    "print(numPosWords) "
   ]
  },
  {
   "cell_type": "markdown",
   "metadata": {},
   "source": [
    "### Calculating negative words\n",
    "\n",
    "Now we will count the number of negative words."
   ]
  },
  {
   "cell_type": "code",
   "execution_count": 67,
   "metadata": {
    "collapsed": false
   },
   "outputs": [
    {
     "name": "stdout",
     "output_type": "stream",
     "text": [
      "0\n"
     ]
    }
   ],
   "source": [
    "numNegWords = 0\n",
    "for word in theTokens:\n",
    "    if word in negative_words:\n",
    "        numNegWords += 1\n",
    "print(numNegWords) "
   ]
  },
  {
   "cell_type": "markdown",
   "metadata": {},
   "source": [
    "### Calculating percentages\n",
    "\n",
    "Now we calculate the percentages of postive and negative."
   ]
  },
  {
   "cell_type": "code",
   "execution_count": 68,
   "metadata": {
    "collapsed": false
   },
   "outputs": [
    {
     "name": "stdout",
     "output_type": "stream",
     "text": [
      "Positive: 20%  Negative: 0%\n"
     ]
    }
   ],
   "source": [
    "numWords = len(theTokens)\n",
    "percntPos = numPosWords / numWords\n",
    "percntNeg = numNegWords / numWords\n",
    "print(\"Positive: \" + \"{:.0%}\".format(percntPos) + \"  Negative: \" + \"{:.0%}\".format(percntNeg))"
   ]
  },
  {
   "cell_type": "markdown",
   "metadata": {},
   "source": [
    "### Deciding if it is postive or negative\n",
    "\n",
    "We are going assume that a simple majority will define if the Tweet is positive or negative."
   ]
  },
  {
   "cell_type": "code",
   "execution_count": 70,
   "metadata": {
    "collapsed": false
   },
   "outputs": [
    {
     "name": "stdout",
     "output_type": "stream",
     "text": [
      "Positive 2:0\n",
      "\n"
     ]
    }
   ],
   "source": [
    "if numPosWords > numNegWords:\n",
    "    print(\"Positive \" + str(numPosWords) + \":\" + str(numNegWords))\n",
    "elif numNegWords > numPosWords:\n",
    "    print(\"Negative \" + str(numPosWords) + \":\" + str(numNegWords))\n",
    "elif numNegWords == numPosWords:\n",
    "    print(\"Neither \" + str(numPosWords) + \":\" + str(numNegWords))\n",
    "    \n",
    "print()"
   ]
  },
  {
   "cell_type": "markdown",
   "metadata": {},
   "source": []
  }
 ],
 "metadata": {
  "kernelspec": {
   "display_name": "Python 3",
   "language": "python",
   "name": "python3"
  },
  "language_info": {
   "codemirror_mode": {
    "name": "ipython",
    "version": 3
   },
   "file_extension": ".py",
   "mimetype": "text/x-python",
   "name": "python",
   "nbconvert_exporter": "python",
   "pygments_lexer": "ipython3",
   "version": "3.5.1"
  }
 },
 "nbformat": 4,
 "nbformat_minor": 0
}
