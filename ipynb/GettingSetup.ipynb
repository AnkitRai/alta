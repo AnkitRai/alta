{
 "cells": [
  {
   "cell_type": "markdown",
   "metadata": {},
   "source": [
    "# Getting Setup: Installing Jupyter\n",
    "\n",
    "This notebook describes how to get setup with Jupyter (formerly iPython Notebooks). It's part of the [The Art of Literary Text Analysis](ArtOfLiteraryTextAnalysis.ipynb). In particular, we'll look at\n",
    "\n",
    "* [downloading and installing Jupyter](#Recommended-Installation-with-Anaconda)\n",
    "* [launching Jupyter and creating a working directory](#Launching-Jupyter)\n",
    "* [quitting Jupyter](#Quitting-Jupyter)\n",
    "\n",
    "## Recommended Installation with Anaconda\n",
    "\n",
    "<div style=\"float: right; width: 100px; padding-left: 1em;\">[![Anaconda Downloads](images/logo_anaconda.png)](https://www.continuum.io/downloads)</div>  Fear not, setting up Jupyter is (usually) a smooth and painless process. The easiest and recommended option is to [download and install Anaconda](https://www.continuum.io/downloads), which is freely avaailble bundle that includes Python, Jupyter, and several very other things that will be useful to us. It's *very important* for the purposes of our notebooks to select a version for [Mac OS X](https://www.continuum.io/downloads#_macosx), [Windows](https://www.continuum.io/downloads#_windows) or [Linux](https://www.continuum.io/downloads#_unix) of **Anaconda with Python 3.x** (not Python 2.x).\n",
    "\n",
    "Once the Anaconda 3.x installer program is downloaded you can click on the installer and follow the instructions (using defaults will work just fine). If ever you encounter difficulties, you way want to consult the [Jupyter installation documentation](http://jupyter.readthedocs.org/en/latest/install.html).\n",
    "\n",
    "## Launching Jupyter\n",
    "\n",
    "<div style=\"float: right; padding-left: 1em; width:75px;\">![Anaconda Launch](images/anaconda-launcher.png)</div> Once you've installed Anaconda, the easiest way to launch Jupyter is to use the Anaconda Launcher. During a normal setup on Mac, there should be a Launcher icon created on your desktop – you can click on that. One Windows, you should find Anaconda in your Programs hierarchy.\n",
    "\n",
    "The Anaconda Launcher will present several applications to choose from, we'll click on the _Launch_ button of _ipython-notebook_:\n",
    "\n",
    "<p style=\"max-width: 800px; margin-left: auto; margin-right: auto; border: thin solid #ccc;\">![Anaconda Launch iPython Notebook](images/anaconda-launcher-menu.png)</p>\n",
    "\n",
    "This should launch two more windows:\n",
    "\n",
    "1. a terminal window where the Jupyter server is running (this will be used to quit Jupyter later)\n",
    "1. a web browser window that shows a directory tree for the default path of Jupyter\n",
    "\n",
    "The default path on Mac is the user's \"Home\" directory. We probably don't want to create Jupyter notebooks there, so we'll navigate to another directory (like \"Documents\") and create a new folder (like \"Notebooks\"). The location and names aren't important but we'll need to remember where our notebooks are for future use.\n",
    "\n",
    "<p style=\"max-width: 800px; margin-left: auto; margin-right: auto; border: thin solid #ccc;\">![Anaconda Launch iPython Notebook](images/ipython-notebook-root-tree.png)</p>\n",
    "\n",
    "Creating a new folder gives a default name (like \"Untitled Folder\") but we can select the folder using the checkbox to the left and then click the rename button that appears before giving the folder a new name.\n",
    "\n",
    "<p style=\"max-width: 800px; margin-left: auto; margin-right: auto; border: thin solid #ccc;\">![Anaconda Launch iPython Notebook](images/folder-rename.png)</p>\n",
    "\n",
    "Now we have Jupyter running and we have a new folder for our notebooks, we're ready for the next step in [Getting Started](GettingStarted.ipynb). But just before that, let's look at how we quit Jupyter.\n",
    "\n",
    "## Quitting Jupyter\n",
    "\n",
    "The browser window that was opened by the Anaconda Launcher is just a regular window. If we'd been working on a notebook, we'd of course want to save our work before quitting. We can close the browser window(s) created by Jupyter and then do the following:\n",
    "\n",
    "1. switch to the terminal window that was opened by the launcher and hit Ctrl-c twice (keep your finger on the Control key and press the \"c\" twice)\n",
    "1. switch to the Anaconda Launcher application and quit it (just as you would any other application)\n",
    "\n",
    "## Next Steps\n",
    "\n",
    "Let's now proceed to [Getting Started](GettingStarted.ipynb)."
   ]
  },
  {
   "cell_type": "markdown",
   "metadata": {},
   "source": [
    "---\n",
    "[CC BY-SA](https://creativecommons.org/licenses/by-sa/4.0/) From [The Art of Literary Text Analysis](ArtOfLiteraryTextAnalysis.ipynb) by [Stéfan Sinclair](http://stefansinclair.name) &amp; [Geoffrey Rockwell](http://geoffreyrockwell.com)<br >Created January 7, 2015 and last modified December 2, 2015 (Jupyter 4)"
   ]
  }
 ],
 "metadata": {
  "kernelspec": {
   "display_name": "Python 3",
   "language": "python",
   "name": "python3"
  },
  "language_info": {
   "codemirror_mode": {
    "name": "ipython",
    "version": 3
   },
   "file_extension": ".py",
   "mimetype": "text/x-python",
   "name": "python",
   "nbconvert_exporter": "python",
   "pygments_lexer": "ipython3",
   "version": "3.5.0"
  }
 },
 "nbformat": 4,
 "nbformat_minor": 0
}
