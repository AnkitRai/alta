{
 "metadata": {
  "name": "",
  "signature": "sha256:869e331ed40e955e6224d5a3ea1ddd454f397ee2a3c2e8d68ceb7dacd2591acc"
 },
 "nbformat": 3,
 "nbformat_minor": 0,
 "worksheets": [
  {
   "cells": [
    {
     "cell_type": "heading",
     "level": 1,
     "metadata": {},
     "source": [
      "Getting Setup: Installing iPython Notebooks"
     ]
    },
    {
     "cell_type": "markdown",
     "metadata": {},
     "source": [
      "Fear not, setting up iPython Notebooks is (usually) a smooth and painless process. Let's try the best case scenario first, and then see from there if additional information is needed. The two following sections below cover the basics of intallation for [Mac OS X](#Setup-on-Mac-OS-X) and for [Windows](#Setup-on-Windows)."
     ]
    },
    {
     "cell_type": "heading",
     "level": 2,
     "metadata": {},
     "source": [
      "Setup on Mac OS X"
     ]
    },
    {
     "cell_type": "markdown",
     "metadata": {},
     "source": [
      "<img style=\"float: right; width: 200px\" src=\"https://www.python.org/static/img/python-logo@2x.png\" /> Even though Python comes pre-installed on Mac OS X, it's probably an older version and we're going to install a newer version (in large part because Python version 3.x handles Unicode characters much better \u2013 we'll get to that later). Visit the [Python downloads page](https://www.python.org/downloads/) and choose the latest version (make sure it's 3.4 or higher). This is an installer program, so once the file is downloaded, simply run it.\n",
      "\n",
      "Great! So now we should have Python 3.x installed. The next step is to install iPython and iPython notebooks (which we can do in one fell swoop). To do that, we need to use the Terminal window, which is a command-line interface to the underlying unix-based operating system in Mac OS X. Open up a Finder window and navigate to the Applications folder and then the Utilities folder (alternatively, use Spotlight to search for Terminal and select it).\n",
      "\n",
      "Once you've launched Terminal, you should now type the following command:\n",
      "\n",
      "> ```sudo pip3 install \"ipython[all]\"```\n",
      "\n",
      "FYI, here are the components of this command:\n",
      "\n",
      "* _sudo_: this runs the command as a system adminstrator so that you have the necessary permissions to install files\n",
      "* _pip3_: pip is a package (application) manager for Python\n",
      "* _install_: we're telling ```pip3``` to install a package\n",
      "* _\"ipython[all]\"_: we're installing all packages for ipython, which includes ```notebook```\n",
      "\n",
      "You'll be prompted for your password and, assuming you're an adminstrator of your machine (i.e. that it's not a public machine), you should be able to type the password you use when logging in. Note that the password won't appear as you're typing, but type it out and then hit enter/return.\n",
      "\n",
      "![Terminal install iPython](images/terminal-ipython-install.png)\n",
      "\n",
      "That should be it! Assuming all went smoothly, you should now be able to launch iPython notebook with the command below (which should open up a web-browser window) and continue on with [getting gtarted](GettingStarted.ipynb).\n",
      "\n",
      "> ```ipython notebook```"
     ]
    },
    {
     "cell_type": "markdown",
     "metadata": {},
     "source": [
      "---\n",
      "From [The Art of Literary Text Analysis](https://github.com/sgsinclair/alta) by [St\u00e9fan Sinclair](http://stefansinclair.name) &amp; [Geoffrey Rockwell](http://geoffreyrockwell.com), created January 7, 2015, [CC BY-SA](https://creativecommons.org/licenses/by-sa/4.0/)"
     ]
    }
   ],
   "metadata": {}
  }
 ]
}