{
 "metadata": {
  "name": "",
  "signature": "sha256:9a5f6e78462f6cd5d19de31e89fe3062ee06f392e718000e598e57aee5faabaa"
 },
 "nbformat": 3,
 "nbformat_minor": 0,
 "worksheets": [
  {
   "cells": [
    {
     "cell_type": "heading",
     "level": 1,
     "metadata": {},
     "source": [
      "Getting Texts"
     ]
    },
    {
     "cell_type": "markdown",
     "metadata": {},
     "source": [
      "This notebook is focused on an essential component of digital text analysis: preparing a corpus of texts. It's part of the [Art of Literary Text Analysis](ArtOfLiteraryTextAnalysis) and assumes that you've already worked through [Getting Setup](GettingSetup.ipynb) and [Getting Started](GettingStarted.ipynb). In this notebook we'll look at\n",
      "\n",
      "* creating a workspace\n",
      "* accessing plain texts online\n",
      "* saving and accessing plain texts in a local directory\n",
      "* working with HTML texts\n",
      "\n",
      "Note that we're especially interested here in working with plain text and HTML (web) files, in a later notebook we'll looking at working with texts that require more conversion and preparation (like XML, PDF, etc.)."
     ]
    },
    {
     "cell_type": "heading",
     "level": 2,
     "metadata": {},
     "source": [
      "Creating a Workspace"
     ]
    },
    {
     "cell_type": "markdown",
     "metadata": {},
     "source": [
      "In the previous [Getting Started](GettingStarted.ipynb) notebook we launched iPython Notebook from the user's home directory (the current working directory when you launch Terminal. That works, but it's a bit messy, we don't actually want all our workspace files to be in the home directory. So lets ensure that any open workbooks are saved (click on the diskette icon or choose \"Save and Checkpoint\" from the File menu) and then return to the Terminal window.\n",
      "\n",
      "Soon after launching iPython Notebook there was a message that told us how to shutdown the server, by pressing [Control]-C (press the control button on your keyboard and then hit ```c```), and then hit ```y``` to confirm.\n",
      "\n",
      "![Stop Server](images/stop-server.png)\n",
      "\n",
      "Now we want to create a new directory for our iPython notebooks. We could do that a few ways, but let's do it on the command-line since we're there anyway.\n",
      "\n",
      "We first want to change directory [```cd```](http://en.wikipedia.org/wiki/Cd_%28command%29) to an existing directory. For instance, on Mac OS X we might want to enter our ```Documents``` directory:\n",
      "\n",
      "> ```cd Documents```\n",
      "\n",
      "Next we'll make a new directory [```mkdir```](http://en.wikipedia.org/wiki/Mkdir) called ```ipynb```:\n",
      "\n",
      "> ```mkdir ipynb```\n",
      "\n",
      "Finally we want to enter that directory and then launch iPython Notebook.\n",
      "\n",
      "> ```cd ipynb\n",
      "> ipython notebook```\n",
      "\n",
      "Next time we launch the Terminal application we won't have to re-created the directories, but we may want to go directly to the new workspace directory before launching iPython Notebook (we could also launch it from the home directory and then navigate to the workspace directory).\n",
      "\n",
      "> ```cd Documents/ipynb\n",
      "> ipython notebook```"
     ]
    },
    {
     "cell_type": "heading",
     "level": 2,
     "metadata": {},
     "source": [
      "Accessing Plain Texts Online"
     ]
    },
    {
     "cell_type": "markdown",
     "metadata": {},
     "source": [
      "Let's create a new notebook and set its name (by clicking on the _Untitled0_ label above the toolbar) to _AccessTexts_ and set the first cell format to ```Heading 1``` with the title _Access Texts_.\n",
      "\n",
      "![Access Texts](images/access-texts.png)\n",
      "\n",
      "Hit Shift-Enter to evaluate/format the heading cell and create a new cell. The format of the new cell should be Markdown, and we can put something like this:\n",
      "\n",
      "> We are first going to experiment with loading a plain text into memory from the \\[Gutenberg Project](http://gutenberg.org), an online library with tens of thousands of free texts in different languages and formats. We can Google something like [python3 read from url](http://lmgtfy.com/?q=python3+read+from+url) to discover pages like https://docs.python.org/3/howto/urllib2.html that explain the basics of reading content.\n",
      "\n",
      "As we proceed through this notebook and beyond, we'll no longer make much distinction between the tutorial notebook and a separate notebook that you may want to write to experiment. It will be up to you to decide which parts you want to try in your own notebook.\n",
      "\n",
      "For now, based on the [link](https://docs.python.org/3/howto/urllib2.html) above, let's demonstrate how we can read the contents of a plain text version of the [Works of Edgar Allan Poe, Volume 1](http://www.gutenberg.org/ebooks/2147), available at http://www.gutenberg.org/cache/epub/2147/pg2147.txt"
     ]
    },
    {
     "cell_type": "code",
     "collapsed": false,
     "input": [
      "import urllib.request\n",
      "poeUrl = \"http://www.gutenberg.org/cache/epub/2147/pg2147.txt\"\n",
      "poeString = str(urllib.request.urlopen(poeUrl).read())"
     ],
     "language": "python",
     "metadata": {},
     "outputs": [],
     "prompt_number": 48
    },
    {
     "cell_type": "markdown",
     "metadata": {},
     "source": [
      "Most of the principles involved have already been covered in the [Getting Started](GettingStarted.ipynb)\n",
      "\n",
      "1. import module (in this case ```urllib.request```)\n",
      "1. assigning a string (the url) to a variable name of our choice ```poeUrl```\n",
      "1. making a function call and assigning the result to the variable name ```poeString```\n",
      "\n",
      "In this case [urlopen()](https://docs.python.org/3/library/urllib.request.html?highlight=urlopen#urllib.request.urlopen) is the function name with an argument that contains our Poe URL and returns an HTTPResponse object one which we can invoke [read()](https://docs.python.org/3/library/http.client.html?highlight=httpresponse.read#http.client.HTTPResponse.read) to get the bytes data at our URL. Finally, we're wrapping that entire call in the ```str()``` function to convert the (Unicode) bytes from ```read()``` to a string.\n",
      "\n",
      "Many things can go wrong during networking calls, but if all goes well, we should now have a variable (poeString) containing a string with the same contents as at our [URL](http://www.gutenberg.org/cache/epub/2147/pg2147.txt).\n",
      "\n",
      "Fetching the contents of a URL is a relatively heavy operation, so we want to isolate that in its own cell so that we don't have to run it more times that necessary. If we want to explore various aspects of the poeString string that we fetched, we should do that in a separate cell so that we're not re-fetching the string each time.\n",
      "\n",
      "For instance, let's see the length of the poeString string (how many characters there are) using the [len()](https://docs.python.org/3/library/functions.html?highlight=len#len) function."
     ]
    },
    {
     "cell_type": "code",
     "collapsed": false,
     "input": [
      "len(poeString)"
     ],
     "language": "python",
     "metadata": {},
     "outputs": [
      {
       "metadata": {},
       "output_type": "pyout",
       "prompt_number": 49,
       "text": [
        "570523"
       ]
      }
     ],
     "prompt_number": 49
    },
    {
     "cell_type": "markdown",
     "metadata": {},
     "source": [
      "This suggests that there are 570,523 characters (because we're in Python 3.x we should be dealing with Unicode, and so this should be a true count of the characters, not just the bytes).\n",
      "\n",
      "We can look at the string documentation section to see examples of how we can extract parts of a string. For instance, if we want the first 75 characters, we could do this:"
     ]
    },
    {
     "cell_type": "code",
     "collapsed": false,
     "input": [
      "poeString[:75]"
     ],
     "language": "python",
     "metadata": {},
     "outputs": [
      {
       "metadata": {},
       "output_type": "pyout",
       "prompt_number": 47,
       "text": [
        "\"b'\\\\xef\\\\xbb\\\\xbfProject Gutenberg\\\\'s The Works of Edgar Allan Poe, by Edgar A\""
       ]
      }
     ],
     "prompt_number": 47
    },
    {
     "cell_type": "markdown",
     "metadata": {},
     "source": [
      "Let's note here that some of the text is familiar, but some of the text is less so. We don't need to get into the details here, but we see examples of a [Unicode Byte Order Mark](http://en.wikipedia.org/wiki/Byte_order_mark) at the beginning and of MS-Windows-based [newline characters](http://en.wikipedia.org/wiki/Newline) at the end.\n",
      "\n",
      "One final quick experiment, let's count the occurrences of the term _corpse_:"
     ]
    },
    {
     "cell_type": "code",
     "collapsed": false,
     "input": [
      "poeString.count(\"corpse\")"
     ],
     "language": "python",
     "metadata": {},
     "outputs": [
      {
       "metadata": {},
       "output_type": "pyout",
       "prompt_number": 52,
       "text": [
        "65"
       ]
      }
     ],
     "prompt_number": 52
    },
    {
     "cell_type": "markdown",
     "metadata": {},
     "source": [
      "Clearly Poe likes talking about corpses. We converted our poeString to lowercase characters since _corpse_ (lowercase) isn't the same as Corpse (capitalized), though in this case it doesn't make any difference."
     ]
    },
    {
     "cell_type": "heading",
     "level": 2,
     "metadata": {},
     "source": [
      "Accessing Local Plain Texts"
     ]
    },
    {
     "cell_type": "code",
     "collapsed": false,
     "input": [],
     "language": "python",
     "metadata": {},
     "outputs": []
    }
   ],
   "metadata": {}
  }
 ]
}