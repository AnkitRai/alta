{
 "metadata": {
  "name": "",
  "signature": "sha256:f8f4aabe57e0325db3059ede22ad1bf4ce6c60bcd6e0039406ab0c185dbb2cb3"
 },
 "nbformat": 3,
 "nbformat_minor": 0,
 "worksheets": [
  {
   "cells": [
    {
     "cell_type": "heading",
     "level": 1,
     "metadata": {},
     "source": [
      "Getting Texts"
     ]
    },
    {
     "cell_type": "markdown",
     "metadata": {},
     "source": [
      "This notebook is focused on an essential component of digital text analysis: preparing a corpus of texts. It's part of the [Art of Literary Text Analysis](ArtOfLiteraryTextAnalysis) and assumes that you've already worked through [Getting Setup](GettingSetup.ipynb) and [Getting Started](GettingStarted.ipynb). In this notebook we'll look at\n",
      "\n",
      "* creating a workspace\n",
      "* accessing plain texts online\n",
      "* saving and accessing plain texts in a local directory\n",
      "* listing text files in a local directory\n",
      "\n",
      "Note that we're especially interested here in working with plain texts, in later notebooks we'll deal with other formats."
     ]
    },
    {
     "cell_type": "heading",
     "level": 2,
     "metadata": {},
     "source": [
      "Creating a Workspace"
     ]
    },
    {
     "cell_type": "markdown",
     "metadata": {},
     "source": [
      "In the previous [Getting Started](GettingStarted.ipynb) notebook we launched iPython Notebook from the user's home directory (the current working directory when you launch Terminal. That works, but it's a bit messy, we don't actually want all our workspace files to be in the home directory. So lets ensure that any open workbooks are saved (click on the diskette icon or choose \"Save and Checkpoint\" from the File menu) and then return to the Terminal window.\n",
      "\n",
      "Soon after launching iPython Notebook there was a message that told us how to shutdown the server, by pressing [Control]-C (press the control button on your keyboard and then hit ```c```), and then hit ```y``` to confirm.\n",
      "\n",
      "![Stop Server](images/stop-server.png)\n",
      "\n",
      "Now we want to create a new directory for our iPython notebooks. We could do that a few ways, but let's do it on the command-line since we're there anyway.\n",
      "\n",
      "We first want to change directory [```cd```](http://en.wikipedia.org/wiki/Cd_%28command%29) to an existing directory. For instance, on Mac OS X we might want to enter our ```Documents``` directory:\n",
      "\n",
      "> ```cd Documents```\n",
      "\n",
      "Next we'll make a new directory [```mkdir```](http://en.wikipedia.org/wiki/Mkdir) called ```ipynb```:\n",
      "\n",
      "> ```mkdir ipynb```\n",
      "\n",
      "Finally we want to enter that directory and then launch iPython Notebook.\n",
      "\n",
      "> ```cd ipynb\n",
      "> ipython notebook```\n",
      "\n",
      "Next time we launch the Terminal application we won't have to re-created the directories, but we may want to go directly to the new workspace directory before launching iPython Notebook (we could also launch it from the home directory and then navigate to the workspace directory).\n",
      "\n",
      "> ```cd Documents/ipynb\n",
      "> ipython notebook```"
     ]
    },
    {
     "cell_type": "heading",
     "level": 2,
     "metadata": {},
     "source": [
      "Accessing Plain Texts Online"
     ]
    },
    {
     "cell_type": "markdown",
     "metadata": {},
     "source": [
      "Let's create a new notebook and set its name (by clicking on the _Untitled0_ label above the toolbar) to _AccessTexts_ and set the first cell format to ```Heading 1``` with the title _Access Texts_.\n",
      "\n",
      "![Access Texts](images/access-texts.png)\n",
      "\n",
      "Hit Shift-Enter to evaluate/format the heading cell and create a new cell. The format of the new cell should be Markdown, and we can put something like this:\n",
      "\n",
      "> We are first going to experiment with loading a plain text into memory from the \\[Gutenberg Project](http://gutenberg.org), an online library with tens of thousands of free texts in different languages and formats. We can Google something like [python3 read from url](http://lmgtfy.com/?q=python3+read+from+url) to discover pages like https://docs.python.org/3/howto/urllib2.html that explain the basics of reading content.\n",
      "\n",
      "As we proceed through this notebook and beyond, we'll no longer make much distinction between the tutorial notebook and a separate notebook that you may want to write to experiment. It will be up to you to decide which parts you want to try in your own notebook.\n",
      "\n",
      "For now, based on the [link](https://docs.python.org/3/howto/urllib2.html) above, let's demonstrate how we can read the contents of a plain text version of the [Works of Edgar Allan Poe, Volume 1](http://www.gutenberg.org/ebooks/2147), available at http://www.gutenberg.org/cache/epub/2147/pg2147.txt"
     ]
    },
    {
     "cell_type": "code",
     "collapsed": false,
     "input": [
      "import urllib.request\n",
      "poeUrl = \"http://www.gutenberg.org/cache/epub/2147/pg2147.txt\"\n",
      "poeString = urllib.request.urlopen(poeUrl).read().decode()"
     ],
     "language": "python",
     "metadata": {},
     "outputs": [],
     "prompt_number": 113
    },
    {
     "cell_type": "markdown",
     "metadata": {},
     "source": [
      "Most of the principles involved have already been covered in the [Getting Started](GettingStarted.ipynb)\n",
      "\n",
      "1. import module (in this case ```urllib.request```)\n",
      "1. assigning a string (the url) to a variable name of our choice ```poeUrl```\n",
      "1. making a function call and assigning the result to the variable name ```poeString```\n",
      "\n",
      "In this case [urlopen()](https://docs.python.org/3/library/urllib.request.html?highlight=urlopen#urllib.request.urlopen) is the function name with an argument that contains our Poe URL and returns an HTTPResponse object one which we can invoke [read()](https://docs.python.org/3/library/http.client.html?highlight=httpresponse.read#http.client.HTTPResponse.read) to get the bytes data at our URL. Finally, call [decode()](https://docs.python.org/3/library/stdtypes.html#bytes.decode) to convert the bytes data to a proper (Unicode, by default) string.\n",
      "\n",
      "Many things can go wrong during networking calls, but if all goes well, we should now have a variable (poeString) containing a string with the same contents as at our [URL](http://www.gutenberg.org/cache/epub/2147/pg2147.txt).\n",
      "\n",
      "Fetching the contents of a URL is a relatively heavy operation, so we want to isolate that in its own cell so that we don't have to run it more times that necessary. If we want to explore various aspects of the poeString string that we fetched, we should do that in a separate cell so that we're not re-fetching the string each time.\n",
      "\n",
      "For instance, let's see the length of the poeString string (how many characters there are) using the [len()](https://docs.python.org/3/library/functions.html?highlight=len#len) function."
     ]
    },
    {
     "cell_type": "code",
     "collapsed": false,
     "input": [
      "len(poeString)"
     ],
     "language": "python",
     "metadata": {},
     "outputs": [
      {
       "metadata": {},
       "output_type": "pyout",
       "prompt_number": 114,
       "text": [
        "550293"
       ]
      }
     ],
     "prompt_number": 114
    },
    {
     "cell_type": "markdown",
     "metadata": {},
     "source": [
      "This suggests that there are 550,293 characters (because we're in Python 3.x we should be dealing with Unicode, and so this should be a true count of the characters, not just the bytes).\n",
      "\n",
      "We can look at the string documentation section to see examples of how we can extract parts of a string. For instance, if we want the first 75 characters, we could do this:"
     ]
    },
    {
     "cell_type": "code",
     "collapsed": false,
     "input": [
      "poeString[:75]"
     ],
     "language": "python",
     "metadata": {},
     "outputs": [
      {
       "metadata": {},
       "output_type": "pyout",
       "prompt_number": 115,
       "text": [
        "\"\\ufeffProject Gutenberg's The Works of Edgar Allan Poe, by Edgar Allan Poe\\r\\n\\r\\nTh\""
       ]
      }
     ],
     "prompt_number": 115
    },
    {
     "cell_type": "markdown",
     "metadata": {},
     "source": [
      "Let's note here that some of the text is familiar, but some of the text is less so. We don't need to get into the details here, but we see examples of a [Unicode Byte Order Mark](http://en.wikipedia.org/wiki/Byte_order_mark) at the beginning and of MS-Windows-based [newline characters](http://en.wikipedia.org/wiki/Newline) at the end.\n",
      "\n",
      "One final quick experiment, let's count the occurrences of the term _corpse_:"
     ]
    },
    {
     "cell_type": "code",
     "collapsed": false,
     "input": [
      "poeString.count(\"corpse\")"
     ],
     "language": "python",
     "metadata": {},
     "outputs": [
      {
       "metadata": {},
       "output_type": "pyout",
       "prompt_number": 116,
       "text": [
        "65"
       ]
      }
     ],
     "prompt_number": 116
    },
    {
     "cell_type": "markdown",
     "metadata": {},
     "source": [
      "Clearly Poe likes talking about corpses. We converted our poeString to lowercase characters since _corpse_ (lowercase) isn't the same as Corpse (capitalized), though in this case it doesn't make any difference."
     ]
    },
    {
     "cell_type": "heading",
     "level": 2,
     "metadata": {},
     "source": [
      "Accessing Local Plain Texts"
     ]
    },
    {
     "cell_type": "markdown",
     "metadata": {},
     "source": [
      "Code that relies on URL content is convenient, though not nearly as robust. Content can change or disappear from the web, and maybe you want to work on your Notebook in a remote location or in an airplane withouth internet connectivity. Moreover, accessing content from your local machine is typically much faster than interacting with web-based content.\n",
      "\n",
      "What we'll do in the next section is the following:\n",
      "\n",
      "1. create a local directory for data (if necessary)\n",
      "1. open a new file and write our poeString to the file\n",
      "1. (re)open the file and read from it\n",
      "\n",
      "Let's begin by creating a new subdirectory (relative to the current notebook directory), using the [os](https://docs.python.org/3/library/os.html) module."
     ]
    },
    {
     "cell_type": "code",
     "collapsed": false,
     "input": [
      "import os\n",
      "directory = \"data\"\n",
      "if not os.path.exists(directory):\n",
      "    os.makedirs(directory)"
     ],
     "language": "python",
     "metadata": {},
     "outputs": [],
     "prompt_number": 117
    },
    {
     "cell_type": "markdown",
     "metadata": {},
     "source": [
      "This demonstrates a [conditional structure in Python](http://en.wikibooks.org/wiki/Python_Programming/Conditional_Statements) where we test for a boolean value (true or false) of whether or not or directory [exists](https://docs.python.org/3/library/os.path.html?highlight=exists#os.path.exists).\n",
      "\n",
      "Python uses a colon and indentation to indicate the parts of the conditional block. If we want to execute a block when a condition evaluates to true (like ```1 < 5```, one _is_ smaller than five):\n",
      "\n",
      "<blockquote><pre>if _condition_:\n",
      "    _block_</pre></blockquote>\n",
      "\n",
      "Or if a condition is not true (like ```1 > 5```, one _is not_ smaller than five):\n",
      "\n",
      "<blockquote><pre>if *not* _condition_:\n",
      "    _block_</pre></blockquote>\n",
      "\n",
      "If the _data_ directory does't exist, we create it using [mkdirs()](https://docs.python.org/3/library/os.html?highlight=mkdirs#os.makedirs).\n",
      "\n",
      "Now that we have a data directory, we need to open a new file in write (\"w\") mode and write out the string contents of poeString. Since we opened the file for writing, we also need to ```close()``` it."
     ]
    },
    {
     "cell_type": "code",
     "collapsed": false,
     "input": [
      "f = open(\"data/poe.txt\", \"w\")\n",
      "f.write(poeString)\n",
      "f.close()"
     ],
     "language": "python",
     "metadata": {},
     "outputs": [],
     "prompt_number": 118
    },
    {
     "cell_type": "markdown",
     "metadata": {},
     "source": [
      "The ```open()``` functions returns a file descriptor (that we've named ```f```) and to which we can write contents. An alternative, by the way, to reading from a URL to a string and then writing the string to a file is to use the [urlretrive](https://docs.python.org/3.0/library/urllib.request.html#urllib.request.urlretrieve) function, though our method should work just fine as well.\n",
      "\n",
      "Assuming things did work out, we can now turn around and open the file in read mode (\"r\" instead \"w\"), read the contents into a new variable that we'll call ```poeString2```, and the close the file."
     ]
    },
    {
     "cell_type": "code",
     "collapsed": false,
     "input": [
      "f = open(\"data/poe.txt\", \"r\")\n",
      "poeString2 = f.read()\n",
      "f.close()"
     ],
     "language": "python",
     "metadata": {},
     "outputs": [],
     "prompt_number": 119
    },
    {
     "cell_type": "markdown",
     "metadata": {},
     "source": [
      "Let's have a peek at the contents in our ```poeString2``` variable, the same way we did before."
     ]
    },
    {
     "cell_type": "code",
     "collapsed": false,
     "input": [
      "poeString2[:75]"
     ],
     "language": "python",
     "metadata": {},
     "outputs": [
      {
       "metadata": {},
       "output_type": "pyout",
       "prompt_number": 120,
       "text": [
        "\"\\ufeffProject Gutenberg's The Works of Edgar Allan Poe, by Edgar Allan Poe\\n\\nThis\""
       ]
      }
     ],
     "prompt_number": 120
    },
    {
     "cell_type": "markdown",
     "metadata": {},
     "source": [
      "Sharp eyes might notice that instead of Windows-based carriage return and newline characters (\\r\\n) we now have just unix-based linefeed characters (\\n), which is because Python has opted to convert to a more universal format (unix-based). That shouldn't affect things like our word counts though, as we can test with our count of \"corpse\"."
     ]
    },
    {
     "cell_type": "code",
     "collapsed": false,
     "input": [
      "poeString2.count(\"corpse\")"
     ],
     "language": "python",
     "metadata": {},
     "outputs": [
      {
       "metadata": {},
       "output_type": "pyout",
       "prompt_number": 121,
       "text": [
        "65"
       ]
      }
     ],
     "prompt_number": 121
    },
    {
     "cell_type": "heading",
     "level": 2,
     "metadata": {},
     "source": [
      "Listing Files in a Local Directory"
     ]
    },
    {
     "cell_type": "markdown",
     "metadata": {},
     "source": [
      "As with many things in programming languages like Python, there's more than one way of listing files in a directory. We're going to introduce a way here that also introduces a loop, a process that is repeated multiple times for each element in a list or for as long as a condition is true.\n",
      "\n",
      "But first let's start with the [glob()](https://docs.python.org/3/library/glob.html?highlight=glob#glob.glob) function that allows us to list the files in a directory."
     ]
    },
    {
     "cell_type": "code",
     "collapsed": false,
     "input": [
      "import glob\n",
      "textFiles = glob.glob(\"data/*txt\")\n",
      "textFiles"
     ],
     "language": "python",
     "metadata": {},
     "outputs": [
      {
       "metadata": {},
       "output_type": "pyout",
       "prompt_number": 122,
       "text": [
        "['data/poe.txt']"
       ]
      }
     ],
     "prompt_number": 122
    },
    {
     "cell_type": "markdown",
     "metadata": {},
     "source": [
      "The results are shown as a list (delimited by the square brackets), with each element inside separated by a comma (here we only have one element because we only have one file so far).\n",
      "\n",
      "We can ask what kind of object our ```textFiles``` variable contains."
     ]
    },
    {
     "cell_type": "code",
     "collapsed": false,
     "input": [
      "type(textFiles)"
     ],
     "language": "python",
     "metadata": {},
     "outputs": [
      {
       "metadata": {},
       "output_type": "pyout",
       "prompt_number": 123,
       "text": [
        "list"
       ]
      }
     ],
     "prompt_number": 123
    },
    {
     "cell_type": "markdown",
     "metadata": {},
     "source": [
      "Lists are a type of variable that lend themselves to loops or to iterating over each element. For instance, to show each filename with the number of characters, we could do something like this:"
     ]
    },
    {
     "cell_type": "code",
     "collapsed": false,
     "input": [
      "totalCharacters = 0\n",
      "for textFile in textFiles:\n",
      "    f = open(textFile, \"r\")\n",
      "    textString = f.read()\n",
      "    f.close()\n",
      "    chars = len(textString)\n",
      "    print(textFile, \"has\", chars, \"characters\")\n",
      "    totalCharacters += chars\n",
      "print(\"total characters: \", totalCharacters)"
     ],
     "language": "python",
     "metadata": {},
     "outputs": [
      {
       "output_type": "stream",
       "stream": "stdout",
       "text": [
        "data/poe.txt has 541068 characters\n",
        "total characters:  541068\n"
       ]
      }
     ],
     "prompt_number": 124
    },
    {
     "cell_type": "markdown",
     "metadata": {},
     "source": [
      "The code above is of the general form\n",
      "\n",
      "<blockquote><pre> for _item_ in _list_:\n",
      "    _block_</pre></blockquote>\n",
      "\n",
      "In other words, for each item in our ```textFiles``` list, we execute the block where ```textFile``` is the local variable holding the item in the list. Just as with the conditionals, the colon and indentation indicate what the loop condition is (as long as more elements exist in the list) and what block to execute for each iteration.\n",
      "\n",
      "In the code above we're also calculating the total number of characters (tracking them in a variable that we've called ```totalCharacters```. Each time we iterate over the list of files, we add the length of characters for the current file.\n",
      "\n",
      "> ```python\n",
      "totalCharacters += chars```\n",
      "\n",
      "The += operater is a compact way to add a value to an existing variable. It's the equivalent of this:\n",
      "\n",
      "> ```python\n",
      "totalCharacters += chars```\n",
      "\n",
      "Finally, we're using the ```print()``` function here because its's a simple way of combining a string (\"total characters: \") and a number (```totalCharacters```) \u2013\u00a0in Python you can't simply concatenate a string and a number."
     ]
    },
    {
     "cell_type": "heading",
     "level": 2,
     "metadata": {},
     "source": [
      "Next Steps"
     ]
    },
    {
     "cell_type": "markdown",
     "metadata": {},
     "source": [
      "Here are some tasks to try:\n",
      "\n",
      "* how would you create a subdirectory under the ```data``` directory we've already created for the plain text novels in English of [Jane Austen](http://www.gutenberg.org/ebooks/author/68) in Project Gutenberg?\n",
      "* how would you loop over the files in this directory and for each one print the file name and a count of \"his\" and \"her\"?\n",
      "* what is the total number of characters in the Austen corpus?\n",
      "\n",
      "In the next notebook we're going to introduce the Natural Language Toolkit (NLTK) that provides a huge number of useful functions for text analysis."
     ]
    },
    {
     "cell_type": "markdown",
     "metadata": {},
     "source": [
      "---\n",
      "From [The Art of Literary Text Analysis](https://github.com/sgsinclair/alta) by [St\u00e9fan Sinclair](http://stefansinclair.name) &amp; [Geoffrey Rockwell](http://geoffreyrockwell.com), [CC BY-SA](https://creativecommons.org/licenses/by-sa/4.0/)<br />\n",
      "Created January 12, 2015"
     ]
    }
   ],
   "metadata": {}
  }
 ]
}