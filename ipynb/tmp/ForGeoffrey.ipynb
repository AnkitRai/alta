{
 "metadata": {
  "name": "",
  "signature": "sha256:9e802828d34d3e52bb042f50af7a480fb8f18bfa3307b496096ad4c45d05ab20"
 },
 "nbformat": 3,
 "nbformat_minor": 0,
 "worksheets": [
  {
   "cells": [
    {
     "cell_type": "heading",
     "level": 1,
     "metadata": {},
     "source": [
      "For Geoffrey"
     ]
    },
    {
     "cell_type": "heading",
     "level": 2,
     "metadata": {},
     "source": [
      "Characteristic Curve"
     ]
    },
    {
     "cell_type": "markdown",
     "metadata": {},
     "source": [
      "Let's first define a function that takes a string and builds a characteristic curve of word length frequencies."
     ]
    },
    {
     "cell_type": "code",
     "collapsed": false,
     "input": [
      "import nltk, matplotlib.pyplot as plt\n",
      "%matplotlib inline\n",
      "\n",
      "def get_word_length_frequencies_list(string):\n",
      "    tokens = nltk.word_tokenize(goldBugString)\n",
      "    lengths = [len(w) for w in tokens if w.isalpha()]\n",
      "    return list(nltk.FreqDist(lengths).items()) # sort by key\n",
      "    \n",
      "def plot_characteristic_curve_from_string(string):\n",
      "    word_length_frequencies = get_word_length_frequencies_list(string)\n",
      "    plt.plot([f[0] for f in word_length_frequencies], [f[1] for f in word_length_frequencies])\n",
      "    plt.xlabel('Word Length')\n",
      "    plt.ylabel('Word Count')"
     ],
     "language": "python",
     "metadata": {},
     "outputs": [],
     "prompt_number": 25
    },
    {
     "cell_type": "markdown",
     "metadata": {},
     "source": [
      "Ok, now let's test it with a Edgar Allan Poe's Gold Bug. First load the text."
     ]
    },
    {
     "cell_type": "code",
     "collapsed": false,
     "input": [
      "# read in file\n",
      "f = open(\"../data/goldBug.txt\", \"r\")\n",
      "goldBugString = f.read()\n",
      "f.close()"
     ],
     "language": "python",
     "metadata": {},
     "outputs": []
    },
    {
     "cell_type": "markdown",
     "metadata": {},
     "source": [
      "And now demonstrate our characteristic curve code."
     ]
    },
    {
     "cell_type": "code",
     "collapsed": false,
     "input": [
      "plot_characteristic_curve_from_string(goldBugString)"
     ],
     "language": "python",
     "metadata": {},
     "outputs": [
      {
       "metadata": {},
       "output_type": "display_data",
       "png": "[encoded data removed]",
       "text": [
        "<matplotlib.figure.Figure at 0x10a755f60>"
       ]
      }
     ],
     "prompt_number": 26
    },
    {
     "cell_type": "heading",
     "level": 2,
     "metadata": {},
     "source": [
      "Keyword in Context"
     ]
    },
    {
     "cell_type": "markdown",
     "metadata": {},
     "source": [
      "Let's now demonstrate the ease of creating a KWIC concordance with NLTK."
     ]
    },
    {
     "cell_type": "code",
     "collapsed": false,
     "input": [
      "tokens = nltk.word_tokenize(goldBugString)\n",
      "text = nltk.Text(tokens)\n",
      "text.concordance(\"bug\")"
     ],
     "language": "python",
     "metadata": {},
     "outputs": [
      {
       "output_type": "stream",
       "stream": "stdout",
       "text": [
        "Displaying 25 of 32 matches:\n",
        "and , very foolishly , I lent him the bug ; so it will be impossible for you to\n",
        "unrise ? '' `` Nonsense ! no ! -- the bug . It is of a brilliant gold color -- \n",
        ", '' here interrupted Jupiter ; `` de bug is a goole bug , solid , ebery bit of\n",
        "rupted Jupiter ; `` de bug is a goole bug , solid , ebery bit of him , inside a\n",
        "im wing -- neber feel half so hebby a bug in my life . '' `` Well , suppose it \n",
        "is hint . I presume you will call the bug scarab\u00e6us caput hominis , or somethin\n",
        " mean ? '' `` Why , massa , I mean de bug -- dare now . '' `` The what ? '' `` \n",
        " dare now . '' `` The what ? '' `` De bug , -- I 'm berry sartain dat Massa Wil\n",
        " too . I nebber did see sick a deuced bug -- he kick and he bite ebery ting wha\n",
        "e bite . I did n't like de look oh de bug mouff , myself , no how , so I would \n",
        " know , too . But it 's all cum ob do bug . '' Finding that no satisfaction was\n",
        "ellect seemed to be absorbed by `` de bug , '' I now stepped into the boat and \n",
        "at heart . `` In supposing it to be a bug of real gold . '' He said this with a\n",
        " felt inexpressibly shocked . `` This bug is to make my fortune , '' he continu\n",
        "g me that scarab\u00e6us ! '' `` What ! de bug , massa ? I 'd rudder not go fer trub\n",
        " ? I 'd rudder not go fer trubble dat bug -- you mus git him for your own self \n",
        "rthering the views of Fate and of the bug '' -- '' My dear Legrand , '' I cried\n",
        "this freak of yours is over , and the bug business ( good God ! ) settled to yo\n",
        "ed in the extreme , and `` dat deuced bug '' were the sole words which escaped \n",
        " take this beetle with you . '' `` De bug , Massa Will ! -- de goole bug ! '' c\n",
        " `` De bug , Massa Will ! -- de goole bug ! '' cried the negro , drawing back i\n",
        " in dismay -- '' what for mus tote de bug way up de tree ? -- d-n if I do ! '' \n",
        "as only funnin any how . Me feered de bug ! what I keer for de bug ? '' Here he\n",
        "Me feered de bug ! what I keer for de bug ? '' Here he took cautiously hold of \n",
        "hat do you mean ? '' `` Why I mean de bug . 'T is berry hebby bug . Spose I dro\n"
       ]
      }
     ],
     "prompt_number": 27
    }
   ],
   "metadata": {}
  }
 ]
}