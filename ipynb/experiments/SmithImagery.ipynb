{
 "metadata": {
  "name": "",
  "signature": "sha256:76ca594754d969096c649b165aba78b97028823ccef9615630c1975dab8562cf"
 },
 "nbformat": 3,
 "nbformat_minor": 0,
 "worksheets": [
  {
   "cells": [
    {
     "cell_type": "markdown",
     "metadata": {},
     "source": [
      "First we'll read _A Portrait of the Artist as a Young Man_ by James Joyce from [Gutenberg](http://www.gutenberg.org/files/4217/4217.txt)."
     ]
    },
    {
     "cell_type": "code",
     "collapsed": false,
     "input": [
      "import urllib.request\n",
      "url = \"http://www.gutenberg.org/files/4217/4217.txt\"\n",
      "string = urllib.request.urlopen(url).read().decode()"
     ],
     "language": "python",
     "metadata": {},
     "outputs": [],
     "prompt_number": 1
    },
    {
     "cell_type": "markdown",
     "metadata": {},
     "source": [
      "The Gutenberg file includes a header and a footer. We'll deal with the header easily by virtue of looking for the start of chapter sections, but we need to get rid of the footer."
     ]
    },
    {
     "cell_type": "code",
     "collapsed": false,
     "input": [
      "# trim the end to remove the footer of the Gutenberg file\n",
      "string = string[0:string.find(\"End of the Project Gutenberg\")]"
     ],
     "language": "python",
     "metadata": {},
     "outputs": [],
     "prompt_number": 26
    },
    {
     "cell_type": "markdown",
     "metadata": {},
     "source": [
      "Each chapter is clearly indicated with a label like *Chapter 1*, so we'll go through from 1 to 5 and look for the current chapter header and the next chapter header (or the end of the file if it's the last chapter)."
     ]
    },
    {
     "cell_type": "code",
     "collapsed": false,
     "input": [
      "chapters = [] # an array with the chapters\n",
      "for number in range(1,6):\n",
      "    start = string.find(\"Chapter \"+str(number))\n",
      "    end = string.find(\"Chapter \"+str(number+1))\n",
      "    chapter = string[start:end].strip() # last chapter will have end of -1 but that's ok\n",
      "    chapters.append(chapter)"
     ],
     "language": "python",
     "metadata": {},
     "outputs": [],
     "prompt_number": 29
    },
    {
     "cell_type": "markdown",
     "metadata": {},
     "source": [
      "This provides us with a list of 5 strings, one for each chapter. Now we need to go through and divide each chapter into segments of about 500 words."
     ]
    },
    {
     "cell_type": "code",
     "collapsed": false,
     "input": [
      "import numpy as np\n",
      "import nltk\n",
      "\n",
      "segments = [] # all segments from all chapters\n",
      "counts = [] # number of segments for each chapter\n",
      "for chapter in chapters:\n",
      "    tokens = nltk.word_tokenize(chapter.lower())\n",
      "    words = [word for word in tokens if any(c for c in word if c.isalpha())]\n",
      "    count = 0\n",
      "    for segs in np.array_split(words, (len(words)/500)):\n",
      "        segments.append(\" \".join(segs))\n",
      "        count+=1\n",
      "    counts.append(count)"
     ],
     "language": "python",
     "metadata": {},
     "outputs": [],
     "prompt_number": 55
    },
    {
     "cell_type": "markdown",
     "metadata": {},
     "source": [
      "Now we can look for our imagery words. The list below is a very crude and problematic list that was produced by performing OCR on Smith's original list which can be found in this [appendix](http://www.cs.unc.edu/Research/jbsArchive/docs/ImageryAndTheMindOfStephenDedalus/AppendixB/Imagery%20of%20the%20Mind%20Appendix%20B.pdf). Lest it wasn't clear before: this list is messy because of poor ORC, it probably needs to be transcribed by hand."
     ]
    },
    {
     "cell_type": "code",
     "collapsed": false,
     "input": [
      "import re\n",
      "imageryWordsString = \"abbots,ablaze,aboro,abyss,accent,ache,acolyte,adam,aflame,afraid,afterglow,aglow,agony,air,aisle,ajar,almonds,aloud,altar,amen,angel,anger,angrily,anguish,animal,annoyed,antelopes,ant,ape,apologise,apostle,applause,appletrees,a,arches,aromatic,arrow,arse,art,ashes,atboro,auburn,audible,autumn,azure,buirg,babble,baby,bacon,bag,bah,baize,balconies,bald,bald,baldiiin,baldyhead,bales,ballad,baliiy,band,banter,baptised,baptisa,bare,barefoot,bareheaded,bark,barrack,bafrels,barren,base,basin,basket,bath,batlike,ba,bay,beach,beads,be,beard,beast,but,becauseboro,bed,bench,btble,bicycle,bike,biscutt,btshop,bitch,hitter,black,blacklookirg,blandly,blank,blanket,blast,blaze,bleating,bless,blew,blind,blindcord,linking,blood,bloodrfd,blow,blue,lush,boat,bodily,bog,bogs,bogwater,boiling,bore,ronret,booing,hook,boots,bous,bowl,box,brackish,brass,brjiy,bread,breath,breeches,breeze,brick,bridge,bright,brilliant,brtii,brine,brother,brow,brown,brush,buff,bull,burn,burst,bush,butt,cabin,cackling,cadence,cake,calico,calvary,candle,candlestick,cane,canker,canon,canopy,canvas,cap,car,card,caress,cariielite,carnival,carpet,carriage,carrots,cask,cat,catafalque,catcalls,cattle,cave,cavern,celery,censer,cesspool,chain,chair,chalice,chances,channel,chap,chapel,charcoal,chestnut,child,chill,chi,chocolate,choir,chord,christ,as,church,cigar,cigarette,ctnders,circle,cities,clapped,clatter,cleaii,clear,clergy,clerical,click,cloak,clock,cloister,cloth,cloud,cloudlets,coal,coat,cobweb,cock,cocoa,cocoon,cod,coffin,coil,coin,cold,collar,colorless,colour,confess,conflagration,consecrated,convent,cool,copper,copybook,cord,corduroy,cork,corpse,corridor,corrigan,cottage,cough,coiidung,cowhairs,coiihouse,cowl,coiiyard,crack,cradle,crash,creaked,cricket,cricketcap,cried,crocodile,cross,crowd,croiin,crucified,crucifix,cry,cup,cured,curl,curtain,cycle,dairy,dance,dappled,dark,darkpluiiaged,dart,dawn,day,daylight,dead,deaf,death,deathbed,deathchill,deathiiask,desk,deus,devil,dew,diaiiohds,dice,die,dieu,dimples,din,dingdohg,dinhrrtable,dirty,dish,ditch,dizzily,docks,dog,do,doihnican,doob,doorway,dormitory,dove,drain,drawl,dress,drink,dry,dublin,dung,dunghill,dust,earth,ecstasy,edoted,elephant,elliptical,q,eucharist,evening,eye,eyebrows,eyeglass,eyelid,fadf,fat,father,feast,fteld,fig,figtrep,figijpe,film,filthily,pirf,fireplace,firm,flabby,flag,flecked,iblf,fl,flight,flog,florid,flutter,fly,fog,food,foot,footsteps,forge,fork,foul,fount,fox,gas,gljissjaps,gloomily,go,goneroro,gfatn,gfavf,ha,hair,fiale,m,hjind,harbour,hard,harpiokious,harmony,harsh,hash,hat,ha,heart,heat,hfaven,heavily,heel,hell,herbs,heron,rips,hiss,holloiisounding,ho,hooded,hoops,horizon,hot,hounded,ho,y,icon,inaudible,tncensr,injttries,tnk,on,ttcti,jrrr,jesij,jijicf,kiss,ioifel,lace,ljike,lamp,lap,lark,lavatory,lfathef,leg,lt,light,lily,l,j,linen,lip,liquid,lit,litany,liturgy,loa,loud,lull,lust,v,a,roan,moist,routh,ut,nail,iifck,nijrse,oar,ocr,odorous,odour,oil,olive,orb,orchards,orchestra,outboro,ovrrcoat,oy,patn,a,path,patted,pbal,r,ptg,pock,do,pool,pope,porch,pot,preach,ft,pro,protest,pshiis,poodles,ttoit,pipich,puppy,putrid,ouadranglf,rage,rainsoddbii,rake,ran,rang,rat,rector,reflect,rel,reverend,rice,j,bock,po,a,posfwh,rot,sblfeiibittered,selpsurrender,sentence,sepulchre,seraph,sera,serpent,shade,shadow,shawl,shed,shell,shine,ship,shirt,shiver,shock,shoe,shook,shoved,shower,shrieking,shrill,shrine,led,shrubs,shrunk,stck,siena,silence,stlk,silver,sil,stn,sincorrupted,sing,sinlovimg,sister,skies,skim,skirts,skijll,sky,skylight,slaterlue,sleek,sleep,sleeve,slender,slibe,slobbrring,sloth,slow,sloiiploiiiiig,sluggish,ell,siiooth,siiugging,snake,siiap,sneeze,soaring,sob,soft,soptiiorded,soldier,solitary,song,sordid,soul,sourd,soutane,space,spade,spectacles,speech,spied,squalid,squall,square,squeak,uor,suircase,stasis,suck,sock,sup,swallow,sw,swans,swear,sweat,swish,swolleii,sword,i,table,i,tan,tapped,tar,taste,tawny,tea,tear,terth,telegradbpoles,testipiontal,thin,thistles,thorns,thrill,throat,throb,thrust,ticking,tickling,ttnglr,tittrr,toast,tobacco,toboro,tone,torture,tralaladdy,treat,treble,triihty,trousers,trufipet,trufipetblast,tunnel,turpcoloured,tu,turret,twig,twilight,twirling,twist,twittered,itrdeptled,undress,unlit,uriral,usage,vapour,veins,velvet,veriiir,vestry,violets,viper,virgin,visior,voice,vowel,waded,waist,walk,warm,wash,water,water,wh,iieb,weep,pt,whine,whip,whirl,whirring,whisper,whistle,wtoe,wiofning,iitllbopo,wino,iitiikeo,wire,q,yellow,yells\"\n",
      "imageryRe = re.compile(r'\\b('+imageryWordsString.replace(\",\",\"|\")+r')\\b')"
     ],
     "language": "python",
     "metadata": {},
     "outputs": [],
     "prompt_number": 56
    },
    {
     "cell_type": "markdown",
     "metadata": {},
     "source": [
      "For each segment, count the occurrences."
     ]
    },
    {
     "cell_type": "code",
     "collapsed": false,
     "input": [
      "segmentCounts = [len(imageryRe.findall(segment)) for segment in segments]"
     ],
     "language": "python",
     "metadata": {},
     "outputs": [],
     "prompt_number": 60
    },
    {
     "cell_type": "markdown",
     "metadata": {},
     "source": [
      "Now plot the occurrences in a graph."
     ]
    },
    {
     "cell_type": "code",
     "collapsed": false,
     "input": [
      "import matplotlib.pyplot as plt\n",
      "%matplotlib inline\n",
      "\n",
      "plt.plot(segmentCounts)\n",
      "plt.show()"
     ],
     "language": "python",
     "metadata": {},
     "outputs": [
      {
       "metadata": {},
       "output_type": "display_data",
       "png": "[encoded data removed]",
       "text": [
        "<matplotlib.figure.Figure at 0x10ef992e8>"
       ]
      }
     ],
     "prompt_number": 63
    },
    {
     "cell_type": "markdown",
     "metadata": {},
     "source": [
      "Not too bad compared to Smith's image, though the end looks different. \n",
      "\n",
      "![Smith Imagery](SmithImagery.png)"
     ]
    },
    {
     "cell_type": "markdown",
     "metadata": {},
     "source": [
      "Next steps:\n",
      "\n",
      "* produce a clean imagery words list\n",
      "* add chapter labels"
     ]
    }
   ],
   "metadata": {}
  }
 ]
}