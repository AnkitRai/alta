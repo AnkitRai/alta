{
 "cells": [
  {
   "cell_type": "markdown",
   "metadata": {},
   "source": [
    "# Searching for Meaning"
   ]
  },
  {
   "cell_type": "markdown",
   "metadata": {},
   "source": [
    "This notebook considers some strategies for searching for word forms and word meanings, especially using WordNet. It's part of the [The Art of Literary Text Analysis](ArtOfLiteraryTextAnalysis.ipynb) and assumes that you've already worked through previous notebooks ([Getting Setup](GettingSetup.ipynb), [Getting Started](GettingStarted.ipynb),  [Getting Texts](GettingTexts.ipynb), [Getting NLTK](GettingNltk.ipynb), and [Getting Graphical](GettingGraphical.ipynb)). In this notebook we'll look in particular at\n",
    "\n",
    "* [matching characters and words](#Matching-Characters-and-Words)\n",
    "* [stemming and lemmatization](#Stemming-and-Lemmatization)\n",
    "* [searching for meaning with WordNet](#Searching-for-meaning-with-WordNet)\n",
    "* [defining functions in Python](#Defining-Functions)\n",
    "\n",
    "This notebook assumes you've saved a _The Gold Bug_ into a plain text file, as described in [Getting Texts](GettingTexts.ipynb). If that's not the case, you may wish to include the following:\n",
    "\n",
    "```python\n",
    "import urllib.request\n",
    "# retrieve Poe plain text value\n",
    "poeUrl = \"http://www.gutenberg.org/cache/epub/2147/pg2147.txt\"\n",
    "poeString = urllib.request.urlopen(poeUrl).read().decode()```\n",
    "\n",
    "And then this, in a separate cell so that we don't read repeatedly from Gutenberg:\n",
    "\n",
    "```python\n",
    "import os\n",
    "# isolate The Gold Bug\n",
    "start = poeString.find(\"THE GOLD-BUG\")\n",
    "end = poeString.find(\"FOUR BEASTS IN ONE\")\n",
    "goldBugString = poeString[start:end]\n",
    "# save the file locally\n",
    "directory = \"data\"\n",
    "if not os.path.exists(directory):\n",
    "    os.makedirs(directory)\n",
<<<<<<< HEAD
    "f = open(\"data/goldBug.txt\", \"w\")\n",
    "f.write(goldBugString)\n",
    "f.close()```"
=======
    "with open(\"data/goldBug.txt\", \"w\") as f:\n",
    "    f.write(goldBugString)```"
>>>>>>> master
   ]
  },
  {
   "cell_type": "markdown",
   "metadata": {},
   "source": [
    "## Matching Characters and Words"
   ]
  },
  {
   "cell_type": "markdown",
   "metadata": {},
   "source": [
    "Let's begin by importing _The Gold Bug_ text and creating token lists that we can use subsequently."
   ]
  },
  {
   "cell_type": "code",
<<<<<<< HEAD
   "execution_count": 40,
=======
   "execution_count": 34,
>>>>>>> master
   "metadata": {
    "collapsed": false
   },
   "outputs": [],
   "source": [
    "# read Gold Bug plain text into string\n",
<<<<<<< HEAD
    "f = open(\"data/goldBug.txt\", \"r\")\n",
    "goldBugString = f.read()\n",
    "f.close()"
=======
    "with open(\"data/goldBug.txt\", \"r\") as f:\n",
    "    goldBugString = f.read()"
>>>>>>> master
   ]
  },
  {
   "cell_type": "code",
<<<<<<< HEAD
   "execution_count": 41,
=======
   "execution_count": 65,
>>>>>>> master
   "metadata": {
    "collapsed": false
   },
   "outputs": [],
   "source": [
    "import nltk\n",
    "goldBugTokens = nltk.word_tokenize(goldBugString)\n",
<<<<<<< HEAD
    "goldBugWordTokens = [word for word in goldBugTokens if any(c.isalpha() for c in word)]\n",
=======
    "goldBugWordTokens = [word for word in goldBugTokens if word[0].isalpha()]\n",
>>>>>>> master
    "goldBugWordTokensLowercase = [word.lower() for word in goldBugWordTokens]"
   ]
  },
  {
   "cell_type": "markdown",
   "metadata": {},
   "source": [
    "Looks can be deceiving, and it's easy to miss things when you're looking for them. This is as true for humans as for computers, though of course for very different reasons. Humans are easily distracted and error-prone (try counting the number of \"t\" characters in this paragraph, for instance), whereas computers can be frustratingly literal when searching. We saw this previously when we searched for terms in a case-sensitive way."
   ]
  },
  {
   "cell_type": "code",
<<<<<<< HEAD
   "execution_count": 42,
=======
   "execution_count": 36,
>>>>>>> master
   "metadata": {
    "collapsed": false
   },
   "outputs": [
    {
     "name": "stdout",
     "output_type": "stream",
     "text": [
      "Number of lowercase matches:  37\n",
      "Number of upper-case matches:  1\n",
      "Number of converted lower-case matches:  38\n"
     ]
    }
   ],
   "source": [
    "print(\"Number of lowercase matches: \", goldBugString.count(\"bug\"))\n",
    "print(\"Number of upper-case matches: \", goldBugString.count(\"BUG\"))\n",
    "print(\"Number of converted lower-case matches: \", goldBugString.lower().count(\"bug\"))"
   ]
  },
  {
   "cell_type": "markdown",
   "metadata": {},
   "source": [
    "(BTW, if you did count the \"t\" characters in the previous text cell, did you count 24? Did you could the capital T or did you decide not to?)\n",
    "\n",
    "It's worth emphasizing that our previous ```count()``` functions were operating on a string, so the counting matches any sequence of characters in the string, not just whole words. This means that we may actually be catching more than we intend to (which could be good or bad). Let's demonstrate this with another string count:"
   ]
  },
  {
   "cell_type": "code",
<<<<<<< HEAD
   "execution_count": 43,
=======
   "execution_count": 37,
>>>>>>> master
   "metadata": {
    "collapsed": false
   },
   "outputs": [
    {
     "data": {
      "text/plain": [
       "3"
      ]
     },
<<<<<<< HEAD
     "execution_count": 43,
=======
     "execution_count": 37,
>>>>>>> master
     "metadata": {},
     "output_type": "execute_result"
    }
   ],
   "source": [
    "testBugSentence = \"These bugs are bugging me said the bug.\"\n",
    "testBugSentence.count(\"bug\")"
   ]
  },
  {
   "cell_type": "markdown",
   "metadata": {},
   "source": [
    "It may be surprising at first to see 3 occurrences of \"bug\" in our sentence, but of course that's the case:\n",
    "\n",
    "> _These <span style=\"color: red\">bug</span>s are <span style=\"color: red\">bug</span>ging me said the <span style=\"color: red\">bug</span>._\n",
    "\n",
    "A common way to differentiate between string characters and entire word tokens is to use regular expressions, but we'll cover regular expressions in a subsequent notebook. For now, to avoid charges of being coy and to provide a preview of how regular expressions work, let's give two quick examples that we won't fully explain here."
   ]
  },
  {
   "cell_type": "code",
<<<<<<< HEAD
   "execution_count": 44,
=======
   "execution_count": 38,
>>>>>>> master
   "metadata": {
    "collapsed": false
   },
   "outputs": [
    {
     "name": "stdout",
     "output_type": "stream",
     "text": [
      "Number of matches  38\n",
<<<<<<< HEAD
      "Variant forms:  {'bugs', 'bug', 'BUG'}\n"
=======
      "Variant forms:  {'bug', 'BUG', 'bugs'}\n"
>>>>>>> master
     ]
    }
   ],
   "source": [
    "import re\n",
    "# \\w matches a word character, \\w* means match zero, one or more word characters\n",
    "bugMatches = re.compile(\"bug\\w*\", re.IGNORECASE).findall(goldBugString)\n",
    "print(\"Number of matches \", len(bugMatches))\n",
    "print(\"Variant forms: \", set(bugMatches)) # set removes duplicates"
   ]
  },
  {
   "cell_type": "markdown",
   "metadata": {},
   "source": [
    "However, even without regular expressions, we can list the words that match bug by operating on the word tokens. To accomplish this we'll use the ```in``` operator that allows us to ask if one string is contained in another. This is a variant of the list comprehension syntax we've already seen."
   ]
  },
  {
   "cell_type": "code",
<<<<<<< HEAD
   "execution_count": 45,
=======
   "execution_count": 39,
>>>>>>> master
   "metadata": {
    "collapsed": false
   },
   "outputs": [
    {
     "name": "stdout",
     "output_type": "stream",
     "text": [
      "Number of matches  38\n",
<<<<<<< HEAD
      "Variant forms:  {'goole-bug', 'bug', 'goole-bugs', 'GOLD-BUG'}\n"
=======
      "Variant forms:  {'bug', 'goole-bugs', 'goole-bug', 'GOLD-BUG'}\n"
>>>>>>> master
     ]
    }
   ],
   "source": [
    "bugTokens = [word for word in goldBugWordTokens if \"bug\" in word.lower()]\n",
    "print(\"Number of matches \", len(bugTokens))\n",
    "print(\"Variant forms: \", set(bugTokens))"
   ]
  },
  {
   "cell_type": "markdown",
   "metadata": {},
   "source": [
    "Note that we have the same counts for regular expressions and for our matching of tokens (which is reassuring), though this most recent strategy also shows examples of hyphenated words (the \"bug\" part of the hyphenated words are also matched by the regular expressions, but our search expression doesn't capture the full token)."
   ]
  },
  {
   "cell_type": "markdown",
   "metadata": {},
   "source": [
    "## Stemming and Lemmatization"
   ]
  },
  {
   "cell_type": "markdown",
   "metadata": {},
   "source": [
    "Rather than matching string variants, another approach is to normalize or regularize string forms before they're matched (converting a string to lowercase is actually a simple example of normalization). One very common technique is called stemming, where we ask the computer to follow a set of rules to reduce words to a common root (even if that root isn't necessarily a real word). We won't use stemming much here, but it's useful to see an example of how stemming can work."
   ]
  },
  {
   "cell_type": "code",
<<<<<<< HEAD
   "execution_count": 46,
=======
   "execution_count": 40,
>>>>>>> master
   "metadata": {
    "collapsed": false
   },
   "outputs": [
    {
     "name": "stdout",
     "output_type": "stream",
     "text": [
      "bug:  bug\n",
      "bugs:  bug\n",
      "bugging:  bug\n",
      "baking:  bake\n",
      "bakery:  bakeri\n",
      "bakeries:  bakeri\n"
     ]
    }
   ],
   "source": [
    "from nltk.stem import PorterStemmer\n",
    "stemmer = PorterStemmer()\n",
    "print(\"bug: \", stemmer.stem(\"bug\")) # bug\n",
    "print(\"bugs: \", stemmer.stem(\"bugs\")) # bug\n",
    "print(\"bugging: \", stemmer.stem(\"bugging\")) # bug\n",
    "print(\"baking: \", stemmer.stem(\"baking\")) # bake\n",
    "print(\"bakery: \", stemmer.stem(\"bakery\")) # bakeri\n",
    "print(\"bakeries: \", stemmer.stem(\"bakeries\")) # bakeri"
   ]
  },
  {
   "cell_type": "markdown",
   "metadata": {},
   "source": [
    "As we can see, our mileage varies. Stemming is good at reducing \"bug\", \"bugs\" and \"bugging\" to \"bug\", as well as \"baking\" to \"bake\", but \"bakery\" and \"bakeries\" become the non-existent stem \"bakeri\". However, in many cases stemming can be very useful, even when it produces stems that aren't real words. Search engines typically do stemming since the non-words are never really shown to the user.\n",
    "\n",
    "Another approach is to try to lemmatize words, which essentially tries to reduce words to other existing words (not just a stem). How exactly this is done depends on the lemmatizer used, but one useful lemmatizer is WordNet. Let's compare results with the stemmer above."
   ]
  },
  {
   "cell_type": "code",
<<<<<<< HEAD
   "execution_count": 47,
=======
   "execution_count": 41,
>>>>>>> master
   "metadata": {
    "collapsed": false
   },
   "outputs": [
    {
     "name": "stdout",
     "output_type": "stream",
     "text": [
      "bug:  bug\n",
      "bugs:  bug\n",
      "bugging:  bugging\n",
      "baking:  baking\n",
      "bakery:  bakery\n",
      "bakeries:  bakery\n"
     ]
    }
   ],
   "source": [
    "from nltk.stem import WordNetLemmatizer\n",
    "wnl = WordNetLemmatizer()\n",
    "print(\"bug: \", wnl.lemmatize(\"bug\")) # bug\n",
    "print(\"bugs: \", wnl.lemmatize(\"bugs\")) # bug\n",
    "print(\"bugging: \", wnl.lemmatize(\"bugging\")) # bugging\n",
    "print(\"baking: \", wnl.lemmatize(\"baking\")) # baking\n",
    "print(\"bakery: \", wnl.lemmatize(\"bakery\")) # bakery\n",
    "print(\"bakeries: \", wnl.lemmatize(\"bakeries\")) # bakery"
   ]
  },
  {
   "cell_type": "markdown",
   "metadata": {},
   "source": [
    "There's clearly a trade-off between the more agressive (and faster) stemming from the previous example and the more conservative lemmatization example above. It's not quite fair to say that WordNet is less powerful (because more words seem to be left unchanged), but it _is_ more conservative – if there's any doubt about the lemma (the lemmatize form), then no change is made. Doubt is often introduced because it's not quite clear if the word form should be a verb, a noun or some other part of speech. Is the word \"duck\" a bird or the action out the way of something?\n",
    "\n",
    "Let's see what happens when we provide the part-of-speech (pos) tag for baking:"
   ]
  },
  {
   "cell_type": "code",
<<<<<<< HEAD
   "execution_count": 48,
=======
   "execution_count": 42,
>>>>>>> master
   "metadata": {
    "collapsed": false
   },
   "outputs": [
    {
     "name": "stdout",
     "output_type": "stream",
     "text": [
      "baking:  baking\n",
      "baking:  bake\n"
     ]
    }
   ],
   "source": [
    "print(\"baking: \", wnl.lemmatize(\"baking\")) # baking\n",
    "print(\"baking: \", wnl.lemmatize(\"baking\", pos=\"v\")) # bake"
   ]
  },
  {
   "cell_type": "markdown",
   "metadata": {},
   "source": [
    "More sophisticated lemmatizers will guess at the part-of-speech based on the structure of sentences – _I <span style='color: green'>read</span>_ (verb) vs. _a good <span style='color: green'>read</span>_ (noun) –  but for the sake of simplicity and expediency, we'll just ask NLTK to use WordNet to lemmatize each word out of its linguistic context (which essentially helps in making most plural forms into singular forms, like with \"bug\" and \"bugs\")."
   ]
  },
  {
   "cell_type": "code",
<<<<<<< HEAD
   "execution_count": 49,
=======
   "execution_count": 43,
>>>>>>> master
   "metadata": {
    "collapsed": false
   },
   "outputs": [
    {
     "name": "stdout",
     "output_type": "stream",
     "text": [
      "Count of \"bug\" in tokens 32\n",
      "Count of \"bugs\" in tokens 0\n",
      "Count of \"bug\" in lemmas 32\n",
      "Count of \"eye\" in tokens 20\n",
      "Count of \"eyes\" in tokens 8\n",
      "Count of \"eye\" in lemmas 28\n"
     ]
    }
   ],
   "source": [
    "goldBugLemmas = [wnl.lemmatize(word) for word in goldBugWordTokens]\n",
    "print('Count of \"bug\" in tokens', goldBugWordTokens.count(\"bug\"))\n",
    "print('Count of \"bugs\" in tokens', goldBugWordTokens.count(\"bugs\"))\n",
    "print('Count of \"bug\" in lemmas', goldBugLemmas.count(\"bug\"))\n",
    "print('Count of \"eye\" in tokens', goldBugWordTokens.count(\"eye\"))\n",
    "print('Count of \"eyes\" in tokens', goldBugWordTokens.count(\"eyes\"))\n",
    "print('Count of \"eye\" in lemmas', goldBugLemmas.count(\"eye\"))"
   ]
  },
  {
   "cell_type": "markdown",
   "metadata": {},
   "source": [
    "So our lemmatization doesn't make much difference for the word _bug_ but it does make a difference for _eye_, which combines _eye_ and _eyes_. The dispersion plots for \"eye\" tokens will be different than for \"eye\" lemmas – for instance, the eye lemmas are more visible in the first part of the story."
   ]
  },
  {
   "cell_type": "code",
<<<<<<< HEAD
   "execution_count": 50,
=======
   "execution_count": 44,
>>>>>>> master
   "metadata": {
    "collapsed": false
   },
   "outputs": [
    {
     "data": {
<<<<<<< HEAD
      "image/png": "iVBORw0KGgoAAAANSUhEUgAAAYEAAAEZCAYAAABxbJkKAAAABHNCSVQICAgIfAhkiAAAAAlwSFlz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\ndcwQkKSOGQKS1DFDQJI69v/MOD1ueACeRQAAAABJRU5ErkJggg==\n",
      "text/plain": [
       "<matplotlib.figure.Figure at 0x1104fef28>"
=======
      "image/png": "iVBORw0KGgoAAAANSUhEUgAAAYEAAAEZCAYAAABxbJkKAAAABHNCSVQICAgIfAhkiAAAAAlwSFlz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\n",
      "text/plain": [
       "<matplotlib.figure.Figure at 0x1123d0fd0>"
>>>>>>> master
      ]
     },
     "metadata": {},
     "output_type": "display_data"
    },
    {
     "data": {
<<<<<<< HEAD
      "image/png": "iVBORw0KGgoAAAANSUhEUgAAAYEAAAEZCAYAAABxbJkKAAAABHNCSVQICAgIfAhkiAAAAAlwSFlz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\nkjr2/wGWXThYJHkWdwAAAABJRU5ErkJggg==\n",
      "text/plain": [
       "<matplotlib.figure.Figure at 0x111ee8eb8>"
=======
      "image/png": "iVBORw0KGgoAAAANSUhEUgAAAYEAAAEZCAYAAABxbJkKAAAABHNCSVQICAgIfAhkiAAAAAlwSFlz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\nGQKS1LH/DwRxOF3ASCoQAAAAAElFTkSuQmCC\n",
      "text/plain": [
       "<matplotlib.figure.Figure at 0x113657ef0>"
>>>>>>> master
      ]
     },
     "metadata": {},
     "output_type": "display_data"
    }
   ],
   "source": [
    "%matplotlib inline\n",
    "nltk.Text(goldBugWordTokens).dispersion_plot([\"eye\"]) # first graph with tokens (eye)\n",
    "nltk.Text(goldBugLemmas).dispersion_plot([\"eye\"]) # second graph with lemmas (eye and eyes)"
   ]
  },
  {
   "cell_type": "markdown",
   "metadata": {},
   "source": [
    "We've looked at converting to lowercase, stemming, and lemmatization as ways of helping to ensure that we're matching a greater number of relevant words. Another tool in our NLTK toolbox is to use the semantic features of WordNet to explore words with related meanings."
   ]
  },
  {
   "cell_type": "markdown",
   "metadata": {},
   "source": [
    "## Searching for meaning with WordNet"
   ]
  },
  {
   "cell_type": "markdown",
   "metadata": {},
   "source": [
    "WordNet can be thought of as a large dictionary that allows us to explore the interconnectedness of lexical word forms and their meanings. Entries are organized into sets of cognitive synonyms, called synsets. For instance, we can ask wordnet for synsets for the word \"bug\":"
   ]
  },
  {
   "cell_type": "code",
<<<<<<< HEAD
   "execution_count": 51,
=======
   "execution_count": 45,
>>>>>>> master
   "metadata": {
    "collapsed": false
   },
   "outputs": [
    {
     "data": {
      "text/plain": [
       "[Synset('bug.n.01'),\n",
       " Synset('bug.n.02'),\n",
       " Synset('bug.n.03'),\n",
       " Synset('hemipterous_insect.n.01'),\n",
       " Synset('microbe.n.01'),\n",
       " Synset('tease.v.01'),\n",
       " Synset('wiretap.v.01')]"
      ]
     },
<<<<<<< HEAD
     "execution_count": 51,
=======
     "execution_count": 45,
>>>>>>> master
     "metadata": {},
     "output_type": "execute_result"
    }
   ],
   "source": [
    "from nltk.corpus import wordnet as wn\n",
    "wn.synsets(\"bug\")"
   ]
  },
  {
   "cell_type": "markdown",
   "metadata": {},
   "source": [
    "The results is a list (the square brackets) composed of elements (separated by commas) that represent Synset objects. We'll look more closely at Synset objects as we go along, but already we can see a structure that resembles a dictionary, with parts of speech (\"n\" for noun, \"v\" for verb) and multiple meanings:\n",
    "\n",
    "* bug.n.01\n",
    "* bug.n.02\n",
    "* bug.n.03\n",
    "* hemipterous_insect.n.01\n",
    "* microbe.n.01\n",
    "* tease.v.01\n",
    "* wiretap.v.01\n",
    "\n",
    "In our _Gold Bug_ story we're especially interested in the noun bug, not the verb meanings (like to tease or to wiretap)\". We can reduce the number of synsets by specifying a part of speech:"
   ]
  },
  {
   "cell_type": "code",
<<<<<<< HEAD
   "execution_count": 52,
=======
   "execution_count": 46,
>>>>>>> master
   "metadata": {
    "collapsed": false
   },
   "outputs": [
    {
     "data": {
      "text/plain": [
       "[Synset('bug.n.01'),\n",
       " Synset('bug.n.02'),\n",
       " Synset('bug.n.03'),\n",
       " Synset('hemipterous_insect.n.01'),\n",
       " Synset('microbe.n.01')]"
      ]
     },
<<<<<<< HEAD
     "execution_count": 52,
=======
     "execution_count": 46,
>>>>>>> master
     "metadata": {},
     "output_type": "execute_result"
    }
   ],
   "source": [
    "wn.synsets(\"bug\", pos=\"n\")"
   ]
  },
  {
   "cell_type": "markdown",
   "metadata": {},
   "source": [
    "We can maybe reduce our list further by looking more closely at the definitions for each synset."
   ]
  },
  {
   "cell_type": "code",
<<<<<<< HEAD
   "execution_count": 53,
=======
   "execution_count": 47,
>>>>>>> master
   "metadata": {
    "collapsed": false
   },
   "outputs": [
    {
     "name": "stdout",
     "output_type": "stream",
     "text": [
      "bug.n.01 :  general term for any insect or similar creeping or crawling invertebrate\n",
      "bug.n.02 :  a fault or defect in a computer program, system, or machine\n",
      "bug.n.03 :  a small hidden microphone; for listening secretly\n",
      "hemipterous_insect.n.01 :  insects with sucking mouthparts and forewings thickened and leathery at the base; usually show incomplete metamorphosis\n",
      "microbe.n.01 :  a minute life form (especially a disease-causing bacterium); the term is not in technical use\n"
     ]
    }
   ],
   "source": [
    "for synset in wn.synsets(\"bug\", pos=\"n\"):\n",
    "    print(synset.name(), \": \", synset.definition())"
   ]
  },
  {
   "cell_type": "markdown",
   "metadata": {},
   "source": [
    "Again, given our knowledge of the Poe's short story (though of course we won't always have this familiarity with text we wish to analyze), we can narrow in on the one synset of interest."
   ]
  },
  {
   "cell_type": "code",
<<<<<<< HEAD
   "execution_count": 54,
=======
   "execution_count": 48,
>>>>>>> master
   "metadata": {
    "collapsed": false
   },
   "outputs": [
    {
     "name": "stdout",
     "output_type": "stream",
     "text": [
      "Synset('bug.n.01') general term for any insect or similar creeping or crawling invertebrate\n"
     ]
    }
   ],
   "source": [
    "bugSynset = wn.synset(\"bug.n.01\")\n",
    "print(bugSynset, bugSynset.definition())"
   ]
  },
  {
   "cell_type": "markdown",
   "metadata": {},
   "source": [
    "WordNet's real strength is in exploring words with related meanings. There are several kinds of relationships, but here are some of the main ones:\n",
    "\n",
    "* synonyms: words with very similar meanings\n",
    "* hypernyms: words with more general meanings (\"insect\" is more general than \"bug\")\n",
    "* hyponyms: words with more specific meanings (\"scarabaeus is more specific than \"bug\")\n",
    "\n",
    "In looking for words related to \"bug\" one possibility might be to look for a more general word and then to collect all of the more specific words that are related. In other words, we look for the hypernym of bug and then we look for all hyponyms of that word. Let's start by looking for hypernyms."
   ]
  },
  {
   "cell_type": "code",
<<<<<<< HEAD
   "execution_count": 55,
=======
   "execution_count": 49,
>>>>>>> master
   "metadata": {
    "collapsed": false
   },
   "outputs": [
    {
     "data": {
      "text/plain": [
       "[Synset('insect.n.01')]"
      ]
     },
<<<<<<< HEAD
     "execution_count": 55,
=======
     "execution_count": 49,
>>>>>>> master
     "metadata": {},
     "output_type": "execute_result"
    }
   ],
   "source": [
    "bugSynset.hypernyms()"
   ]
  },
  {
   "cell_type": "markdown",
   "metadata": {},
   "source": [
    "We see that there's only one hypernym for our bug synset, so let's create a variable for that synset."
   ]
  },
  {
   "cell_type": "code",
<<<<<<< HEAD
   "execution_count": 56,
=======
   "execution_count": 50,
>>>>>>> master
   "metadata": {
    "collapsed": false
   },
   "outputs": [
    {
     "name": "stdout",
     "output_type": "stream",
     "text": [
      "Synset('insect.n.01') small air-breathing arthropod\n"
     ]
    }
   ],
   "source": [
    "bugHypernym = wn.synset(\"insect.n.01\")\n",
    "print(bugHypernym, bugHypernym.definition())"
   ]
  },
  {
   "cell_type": "markdown",
   "metadata": {},
   "source": [
    "We've gone up a level in generality from \"bug\" to \"insect\" now we want to go down by asking the hyponyms (more specific meanings) of insect."
   ]
  },
  {
   "cell_type": "code",
<<<<<<< HEAD
   "execution_count": 57,
=======
   "execution_count": 51,
>>>>>>> master
   "metadata": {
    "collapsed": false
   },
   "outputs": [
    {
     "data": {
      "text/plain": [
       "[Synset('beetle.n.01'),\n",
       " Synset('bird_louse.n.01'),\n",
       " Synset('bug.n.01'),\n",
       " Synset('collembolan.n.01'),\n",
       " Synset('defoliator.n.01'),\n",
       " Synset('dictyopterous_insect.n.01'),\n",
       " Synset('dipterous_insect.n.01'),\n",
       " Synset('earwig.n.01'),\n",
       " Synset('ephemerid.n.01'),\n",
       " Synset('ephemeron.n.01'),\n",
       " Synset('flea.n.01'),\n",
       " Synset('gallfly.n.03'),\n",
       " Synset('hemipterous_insect.n.01'),\n",
       " Synset('heteropterous_insect.n.01'),\n",
       " Synset('holometabola.n.01'),\n",
       " Synset('homopterous_insect.n.01'),\n",
       " Synset('hymenopterous_insect.n.01'),\n",
       " Synset('imago.n.02'),\n",
       " Synset('leaf_miner.n.01'),\n",
       " Synset('lepidopterous_insect.n.01'),\n",
       " Synset('louse.n.01'),\n",
       " Synset('mecopteran.n.01'),\n",
       " Synset('neuropteron.n.01'),\n",
       " Synset('odonate.n.01'),\n",
       " Synset('orthopterous_insect.n.01'),\n",
       " Synset('phasmid.n.01'),\n",
       " Synset('pollinator.n.01'),\n",
       " Synset('proturan.n.01'),\n",
       " Synset('psocopterous_insect.n.01'),\n",
       " Synset('pupa.n.01'),\n",
       " Synset('queen.n.01'),\n",
       " Synset('social_insect.n.01'),\n",
       " Synset('stonefly.n.01'),\n",
       " Synset('termite.n.01'),\n",
       " Synset('thysanopter.n.01'),\n",
       " Synset('thysanuran_insect.n.01'),\n",
       " Synset('trichopterous_insect.n.01'),\n",
       " Synset('web_spinner.n.01'),\n",
       " Synset('worker.n.03')]"
      ]
     },
<<<<<<< HEAD
     "execution_count": 57,
=======
     "execution_count": 51,
>>>>>>> master
     "metadata": {},
     "output_type": "execute_result"
    }
   ],
   "source": [
    "bugHypernym.hyponyms()"
   ]
  },
  {
   "cell_type": "markdown",
   "metadata": {},
   "source": [
    "That's quite a list of critters. We can see \"beetle.n.01\", \"bug.n.01\" and many other synsets, but the problem is that we also want to list the hyponyms of these hyponyms, and the hyponyms of those hyponyms, etc., until no further hyponyms are found. In programming this is called a recursive function and can be accomplished in several ways.\n",
    "\n",
    "One very succinct and a bit tricky way of achieving this in Python would look something like this:"
   ]
  },
  {
   "cell_type": "code",
<<<<<<< HEAD
   "execution_count": 58,
=======
   "execution_count": 52,
>>>>>>> master
   "metadata": {
    "collapsed": false
   },
   "outputs": [
    {
     "name": "stdout",
     "output_type": "stream",
     "text": [
      "['tusser', 'tussock_moth', 'tussore', 'tussur', 'two-spotted_ladybug', 'two-winged_insects', 'tzetze', 'tzetze_fly', 'underwing', 'vedalia', 'velvet_ant', 'vespid', 'vespid_wasp', 'viceroy', 'vinegar_fly', 'walking_leaf', 'walking_stick', 'walkingstick', 'warble_fly', 'wasp', 'water_beetle', 'water_boatman', 'water_bug', 'water_scorpion', 'water_skater', 'water_strider', 'wax_insect', 'wax_moth', 'web_spinner', 'webbing_clothes_moth', 'webbing_moth', 'webworm_moth', 'weevil', 'wheel_bug', 'whirligig_beetle', 'white-faced_hornet', 'white_admiral', 'white_ant', 'whitefly', 'wood_ant', 'woolly_adelgid', 'woolly_alder_aphid', 'woolly_aphid', 'woolly_apple_aphid', 'woolly_plant_louse', 'worker', 'worker_bee', 'yellow-fever_mosquito', 'yellow_hornet', 'yellow_jacket']\n"
     ]
    }
   ],
   "source": [
    "insectHyponymsTricky = sorted(set([l.name() for s in bugHypernym.closure(lambda s:s.hyponyms()) for l in s.lemmas()]))\n",
    "print(insectHyponymsTricky[-50:]) # peek at last 50"
   ]
  },
  {
   "cell_type": "markdown",
   "metadata": {},
   "source": [
    "Yikes, that looks a bit scary, with the [closure](http://www.shutupandship.com/2012/01/python-closures-explained.html), [lambda function](https://docs.python.org/2/reference/expressions.html#lambda), and multiple ```for``` structures. We're going to take a different approach by introducing the concept of defining our own function."
   ]
  },
  {
   "cell_type": "markdown",
   "metadata": {},
   "source": [
    "## Defining Functions"
   ]
  },
  {
   "cell_type": "markdown",
   "metadata": {},
   "source": [
    "To define a function in Python you use the keyword ```def``` that receives usually receives arguments and returns a value. Here's a simplified example:\n",
    "\n",
    "```python\n",
    "def add_five(val):\n",
    "    return val+5 # add 5 to the value and return it\n",
    "\n",
    "add_five(0) # returns 5\n",
    "add_five(5) # returns 10```\n",
    "\n",
    "Now imagine that we keep adding 5 until we get to twenty:\n",
    "\n",
    "```python\n",
    "def add_five_until_twenty(val):\n",
    "    val+=5\n",
    "    if val >= 20: # we have at least 20, so return\n",
    "        return val\n",
    "    else: # call this function again\n",
    "        return add_five_until_twenty(val)\n",
    "\n",
    "print(add_five_until_twenty(0)) # returns 20```\n",
    "\n",
    "We will do something similar for finding hyponyms, as per below. Note that we're not returning a value in the function below, but rather, we're accumulating elements in a list that gets passed as an argument to the function. This is a bit less elegant than some other solutions, but it allows our list of hyponym names to remain as a flat, one dimensional list (instead of having nested lists that we would then need to flatten)."
   ]
  },
  {
   "cell_type": "code",
<<<<<<< HEAD
   "execution_count": 59,
=======
   "execution_count": 53,
>>>>>>> master
   "metadata": {
    "collapsed": false
   },
   "outputs": [],
   "source": [
    "def collect_hyponym_lemma_names(synset, hyponynm_names):\n",
    "    for hyponym in synset.hyponyms(): # go through this synset's hyponyms\n",
    "        for lemma in hyponym.lemmas(): # go through each hyponym's lemma\n",
    "            hyponynm_names.append(lemma.name()) # add this lemma name to our list\n",
    "        collect_hyponym_lemma_names(hyponym, hyponynm_names) # this this hyponym's hyponyms"
   ]
  },
  {
   "cell_type": "code",
<<<<<<< HEAD
   "execution_count": 60,
=======
   "execution_count": 54,
>>>>>>> master
   "metadata": {
    "collapsed": false
   },
   "outputs": [
    {
     "name": "stdout",
     "output_type": "stream",
     "text": [
      "['tusser', 'tussock_moth', 'tussore', 'tussur', 'two-spotted_ladybug', 'two-winged_insects', 'tzetze', 'tzetze_fly', 'underwing', 'vedalia', 'velvet_ant', 'vespid', 'vespid_wasp', 'viceroy', 'vinegar_fly', 'walking_leaf', 'walking_stick', 'walkingstick', 'warble_fly', 'wasp', 'water_beetle', 'water_boatman', 'water_bug', 'water_scorpion', 'water_skater', 'water_strider', 'wax_insect', 'wax_moth', 'web_spinner', 'webbing_clothes_moth', 'webbing_moth', 'webworm_moth', 'weevil', 'wheel_bug', 'whirligig_beetle', 'white-faced_hornet', 'white_admiral', 'white_ant', 'whitefly', 'wood_ant', 'woolly_adelgid', 'woolly_alder_aphid', 'woolly_aphid', 'woolly_apple_aphid', 'woolly_plant_louse', 'worker', 'worker_bee', 'yellow-fever_mosquito', 'yellow_hornet', 'yellow_jacket']\n"
     ]
    }
   ],
   "source": [
    "insect_hyponym_names = [] # this list will keep track of our hyponynms\n",
    "collect_hyponym_lemma_names(bugHypernym, insect_hyponym_names) # call our function with the bugHypernym\n",
    "insect_hyponym_names = sorted(set(insect_hyponym_names))\n",
    "print(insect_hyponym_names[-50:])"
   ]
  },
  {
   "cell_type": "markdown",
   "metadata": {},
   "source": [
    "Let's make this functionality even more convenient by defining a new function that takes a single synset and returns a list of hyponym names from the synset's hypernym. Functions are there to be defined in order to have reusable code organized into small units."
   ]
  },
  {
   "cell_type": "code",
<<<<<<< HEAD
   "execution_count": 61,
=======
   "execution_count": 55,
>>>>>>> master
   "metadata": {
    "collapsed": false
   },
   "outputs": [],
   "source": [
    "def get_hyponym_names_from_hypernym(synset):\n",
    "    names = []\n",
    "    for hypernym in synset.hypernyms():\n",
    "        collect_hyponym_lemma_names(hypernym, names)\n",
    "    return sorted(set(names))"
   ]
  },
  {
   "cell_type": "markdown",
   "metadata": {},
   "source": [
    "## Bug Hunting"
   ]
  },
  {
   "cell_type": "markdown",
   "metadata": {},
   "source": [
    "Let's use our shiny new function to get all the lemmas that are hyponyms of the hypernym (\"insect\") of our bug synset. This is the same list as we had above, but demonstrates the retrieval of a word list from a synset in one fell swoop."
   ]
  },
  {
   "cell_type": "code",
<<<<<<< HEAD
   "execution_count": 62,
=======
   "execution_count": 56,
>>>>>>> master
   "metadata": {
    "collapsed": false
   },
   "outputs": [
    {
     "name": "stdout",
     "output_type": "stream",
     "text": [
      "Synset('bug.n.01') has 886 hyponyms\n"
     ]
    }
   ],
   "source": [
    "bug_hypernym_hyponyms = get_hyponym_names_from_hypernym(bugSynset)\n",
    "print(bugSynset, \"has\", len(bug_hypernym_hyponyms), \"hyponyms\")"
   ]
  },
  {
   "cell_type": "markdown",
   "metadata": {},
   "source": [
    "How many of our _Gold Bug_ tokens are in our insect word list? Easy."
   ]
  },
  {
   "cell_type": "code",
<<<<<<< HEAD
   "execution_count": 63,
=======
   "execution_count": 57,
>>>>>>> master
   "metadata": {
    "collapsed": false
   },
   "outputs": [
    {
     "data": {
      "text/plain": [
<<<<<<< HEAD
       "['bee', 'soldier', 'scarabaeus', 'bug', 'beetle']"
      ]
     },
     "execution_count": 63,
=======
       "['bee', 'bug', 'beetle', 'scarabaeus', 'soldier']"
      ]
     },
     "execution_count": 57,
>>>>>>> master
     "metadata": {},
     "output_type": "execute_result"
    }
   ],
   "source": [
    "bugRelatedWords = list(set([word for word in goldBugLemmas if word in bug_hypernym_hyponyms]))\n",
    "bugRelatedWords"
   ]
  },
  {
   "cell_type": "markdown",
   "metadata": {},
   "source": [
    "Nice! We used WordNet to find words related to bugs (of the insect persuasion). The only word that may not fit is \"soldier\", let's have a look."
   ]
  },
  {
   "cell_type": "code",
<<<<<<< HEAD
   "execution_count": 64,
=======
   "execution_count": 58,
>>>>>>> master
   "metadata": {
    "collapsed": false
   },
   "outputs": [
    {
     "name": "stdout",
     "output_type": "stream",
     "text": [
      "Displaying 1 of 1 matches:\n",
      " looking dis here way wid he head down and he soldier up and a white a a gose And den he keep a syp\n"
     ]
    }
   ],
   "source": [
    "goldBugText = nltk.Text(goldBugLemmas)\n",
    "goldBugText.concordance(\"soldier\", 100)"
   ]
  },
  {
   "cell_type": "markdown",
   "metadata": {},
   "source": [
    "There's one match, and it's not all that easy to decipher, but \"solider\" here seems to be a verb and have little to do with bugs. So we can remove it."
   ]
  },
  {
   "cell_type": "code",
<<<<<<< HEAD
   "execution_count": 65,
=======
   "execution_count": 59,
>>>>>>> master
   "metadata": {
    "collapsed": false
   },
   "outputs": [
    {
     "data": {
      "text/plain": [
<<<<<<< HEAD
       "['bee', 'scarabaeus', 'bug', 'beetle']"
      ]
     },
     "execution_count": 65,
=======
       "['bee', 'bug', 'beetle', 'scarabaeus']"
      ]
     },
     "execution_count": 59,
>>>>>>> master
     "metadata": {},
     "output_type": "execute_result"
    }
   ],
   "source": [
    "bugRelatedWordsFiltered = [word for word in bugRelatedWords if \"soldier\" not in word]\n",
    "bugRelatedWordsFiltered"
   ]
  },
  {
   "cell_type": "markdown",
   "metadata": {},
   "source": [
    "At the simplest level, we can use our bug list to create a new dispersion plot."
   ]
  },
  {
   "cell_type": "code",
<<<<<<< HEAD
   "execution_count": 66,
=======
   "execution_count": 60,
>>>>>>> master
   "metadata": {
    "collapsed": false
   },
   "outputs": [
    {
     "data": {
<<<<<<< HEAD
      "image/png": "iVBORw0KGgoAAAANSUhEUgAAAagAAAEZCAYAAADCJLEQAAAABHNCSVQICAgIfAhkiAAAAAlwSFlz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\nXTKgJEldMqAkSV0yoCRJXTKgJEld+v/ikJnlC8OFKQAAAABJRU5ErkJggg==\n",
      "text/plain": [
       "<matplotlib.figure.Figure at 0x10b057160>"
=======
      "image/png": "iVBORw0KGgoAAAANSUhEUgAAAagAAAEZCAYAAADCJLEQAAAABHNCSVQICAgIfAhkiAAAAAlwSFlz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\n",
      "text/plain": [
       "<matplotlib.figure.Figure at 0x1136bfb38>"
>>>>>>> master
      ]
     },
     "metadata": {},
     "output_type": "display_data"
    }
   ],
   "source": [
    "goldBugText.dispersion_plot(bugRelatedWordsFiltered)"
   ]
  },
  {
   "cell_type": "markdown",
   "metadata": {},
   "source": [
    "We can also do our own kind of lemmatization to group identify all occurrences of our bug words as the same."
   ]
  },
  {
   "cell_type": "code",
<<<<<<< HEAD
   "execution_count": 71,
=======
   "execution_count": 61,
>>>>>>> master
   "metadata": {
    "collapsed": false
   },
   "outputs": [
    {
     "data": {
<<<<<<< HEAD
      "image/png": "iVBORw0KGgoAAAANSUhEUgAAAZkAAAEZCAYAAABFFVgWAAAABHNCSVQICAgIfAhkiAAAAAlwSFlz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\nujFkJEndGDKSpG7+P+XVqFVlVISXAAAAAElFTkSuQmCC\n",
      "text/plain": [
       "<matplotlib.figure.Figure at 0x11292c128>"
=======
      "image/png": "iVBORw0KGgoAAAANSUhEUgAAAZkAAAEZCAYAAABFFVgWAAAABHNCSVQICAgIfAhkiAAAAAlwSFlz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\nJHVjyEiSujFkJEnd/H9Z6ahaiBuh3wAAAABJRU5ErkJggg==\n",
      "text/plain": [
       "<matplotlib.figure.Figure at 0x1123d0c50>"
>>>>>>> master
      ]
     },
     "metadata": {},
     "output_type": "display_data"
    }
   ],
   "source": [
    "goldBugLemmasForBugs = [\"bugword\" if word in bugRelatedWordsFiltered else word for word in goldBugLemmas]\n",
    "goldBugTextForBugs = nltk.Text(goldBugLemmasForBugs)\n",
    "goldBugTextForBugs.dispersion_plot([\"bugword\"]) # this plots a composition of bee, scarabaeus, bug and beetle"
   ]
  },
  {
   "cell_type": "code",
<<<<<<< HEAD
   "execution_count": 68,
=======
   "execution_count": 62,
>>>>>>> master
   "metadata": {
    "collapsed": false
   },
   "outputs": [
    {
     "name": "stdout",
     "output_type": "stream",
     "text": [
      "56 32\n"
     ]
    },
    {
     "data": {
      "text/plain": [
       "175.0"
      ]
     },
<<<<<<< HEAD
     "execution_count": 68,
=======
     "execution_count": 62,
>>>>>>> master
     "metadata": {},
     "output_type": "execute_result"
    }
   ],
   "source": [
    "print(goldBugLemmasForBugs.count(\"bugword\"),goldBugTokens.count(\"bug\"))\n",
    "goldBugLemmasForBugs.count(\"bugword\") * 100 / goldBugTokens.count(\"bug\")"
   ]
  },
  {
   "cell_type": "markdown",
   "metadata": {},
   "source": [
    "Now that we have a larger and more semantically-robust net for catching our \"bug\" words, we might also be interested in seeing which other words occur in proximity to our bug words. This is like if we generated a concordance of our bug words and then counted all of the (non stopword) words that were left. Sometimes these are called collocates (co-located terms). An NLTK Text object has a very convenient [similar()](http://www.nltk.org/api/nltk.html?highlight=similar#nltk.text.Text.similar) function for generating a list of the words that occur most often near another word."
   ]
  },
  {
   "cell_type": "code",
<<<<<<< HEAD
   "execution_count": 69,
=======
   "execution_count": 63,
>>>>>>> master
   "metadata": {
    "collapsed": false
   },
   "outputs": [
    {
     "name": "stdout",
     "output_type": "stream",
     "text": [
<<<<<<< HEAD
      "scarabæus skull parchment tree whole insect island peg boat spade hut\n",
      "kind scrap half hill line table rock slip pit\n"
=======
      "scarabæus tree skull parchment whole insect peg boat island hut spade\n",
      "hotel treasure pit scrap solution word hearth slip half\n"
>>>>>>> master
     ]
    }
   ],
   "source": [
    "goldBugTextForBugs.similar(\"bugword\")"
   ]
  },
  {
   "cell_type": "markdown",
   "metadata": {},
   "source": [
    "That's convenient, but we don't get any frequency information, and with such a small corpus (one short story), it's probably not all that helpful.\n",
    "\n",
    "If we really want frequency information we can use a [ContextIndex](http://www.nltk.org/api/nltk.html?highlight=similar#nltk.text.ContextIndex) object, which in many ways is similar to a Text object. ```ContextIndex``` has a [word_similarity_dict()](http://www.nltk.org/api/nltk.html?highlight=similar#nltk.text.ContextIndex.word_similarity_dict) function that calculates a frequency value for _every_ word in the document, even ones that don't occur in the context (it's not a raw frequency count, but it will serve our purposes)."
   ]
  },
  {
   "cell_type": "code",
<<<<<<< HEAD
   "execution_count": 70,
=======
   "execution_count": 64,
>>>>>>> master
   "metadata": {
    "collapsed": false
   },
   "outputs": [
    {
     "data": {
<<<<<<< HEAD
      "image/png": "iVBORw0KGgoAAAANSUhEUgAAAYUAAAFFCAYAAAADy/H8AAAABHNCSVQICAgIfAhkiAAAAAlwSFlz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\nYII=\n",
      "text/plain": [
       "<matplotlib.figure.Figure at 0x1113b3f60>"
=======
      "image/png": "iVBORw0KGgoAAAANSUhEUgAAAYUAAAFFCAYAAAADy/H8AAAABHNCSVQICAgIfAhkiAAAAAlwSFlz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\nAElFTkSuQmCC\n",
      "text/plain": [
       "<matplotlib.figure.Figure at 0x10b31e2e8>"
>>>>>>> master
      ]
     },
     "metadata": {},
     "output_type": "display_data"
    }
   ],
   "source": [
    "goldBugBugContextIndex = nltk.text.ContextIndex(goldBugLemmasForBugs)\n",
    "goldBugBugSimilarities = goldBugBugContextIndex.word_similarity_dict(\"bugword\")\n",
    "del goldBugBugSimilarities['bugword'] # we don't want to include \"bugword\" itself in our dictionary\n",
    "goldBugBugSimilarityFreqs = nltk.FreqDist(goldBugBugSimilarities) # copy the dictionary into a FreqDist\n",
    "goldBugBugSimilarityFreqs.plot(30)"
   ]
  },
  {
   "cell_type": "markdown",
   "metadata": {},
   "source": [
    "It's not clear that this really helps to provide any insights into the text, not least because bug words are so evenly distributed throughout. Still, the primary purpose of this notebook was to explore how we could search and count more flexibly and powerfully using a mix of strategies ranging from lexical transformations such as case changes, stemming and lemmatization, to word sense lookups with WordNet."
   ]
  },
  {
   "cell_type": "markdown",
   "metadata": {},
   "source": [
    "## Next Steps"
   ]
  },
  {
   "cell_type": "markdown",
   "metadata": {},
   "source": [
    "Here are some tasks to try:\n",
    "\n",
    "* What's the count of \"bug\" in our ```goldBugWordTokens``` list and of \"bugword\" in our ```goldBugLemmasForBugs``` list?\n",
    "* What's the percentage increase in coverage that we get by lemmatizing and looking related words using WordNet?\n",
    "* What's another word in _The Gold Bug_ where the percentage increase is greater using the same process we followed:\n",
    "    * choose a word and find the synset that is most relevant to the text's meaning\n",
    "    * create a list of all the hyponyms of the hypernym of the synset (using our ```get_hyponym_names_from_hypernym``` function)\n",
    "    * replace all occurrences of the hyponyms with a standard word form (we used \"bugword\" last time)\n",
    "\n",
    "In the next notebook we'll look at [Parts of Speech](PartsOfSpeech.ipynb)."
   ]
  },
  {
   "cell_type": "markdown",
   "metadata": {},
   "source": [
    "---\n",
<<<<<<< HEAD
    "From [The Art of Literary Text Analysis](ArtOfLiteraryTextAnalysis.ipynb) by [Stéfan Sinclair](http://stefansinclair.name) &amp; [Geoffrey Rockwell](http://geoffreyrockwell.com), [CC BY-SA](https://creativecommons.org/licenses/by-sa/4.0/)<br />\n",
    "Created February 7, 2015, last modified February 13, 2015"
=======
    "[CC BY-SA](https://creativecommons.org/licenses/by-sa/4.0/) From [The Art of Literary Text Analysis](ArtOfLiteraryTextAnalysis.ipynb) by [Stéfan Sinclair](http://stefansinclair.name) &amp; [Geoffrey Rockwell](http://geoffreyrockwell.com)<br >Created February 7, 2015 and last modified December 9, 2015 (Jupyter 4)"
>>>>>>> master
   ]
  }
 ],
 "metadata": {
  "kernelspec": {
   "display_name": "Python 3",
   "language": "python",
   "name": "python3"
  },
  "language_info": {
   "codemirror_mode": {
    "name": "ipython",
    "version": 3
   },
   "file_extension": ".py",
   "mimetype": "text/x-python",
   "name": "python",
   "nbconvert_exporter": "python",
   "pygments_lexer": "ipython3",
<<<<<<< HEAD
   "version": "3.5.1"
=======
   "version": "3.5.0"
>>>>>>> master
  }
 },
 "nbformat": 4,
 "nbformat_minor": 0
}
